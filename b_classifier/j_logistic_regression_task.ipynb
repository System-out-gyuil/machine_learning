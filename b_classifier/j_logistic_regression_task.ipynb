{
 "cells": [
  {
   "cell_type": "markdown",
   "id": "039bb25b-a8f0-4b8f-a309-4bc563fe9a22",
   "metadata": {},
   "source": [
    "### Logistic Regression Task\n",
    "\n",
    "기계 센서 데이터를 통해 고장 여부를 예측하는 분류기를 "
   ]
  },
  {
   "cell_type": "code",
   "execution_count": 1,
   "id": "00ca05b5-c6ef-43e7-adfd-abf467eb4a71",
   "metadata": {},
   "outputs": [
    {
     "data": {
      "text/html": [
       "<div>\n",
       "<style scoped>\n",
       "    .dataframe tbody tr th:only-of-type {\n",
       "        vertical-align: middle;\n",
       "    }\n",
       "\n",
       "    .dataframe tbody tr th {\n",
       "        vertical-align: top;\n",
       "    }\n",
       "\n",
       "    .dataframe thead th {\n",
       "        text-align: right;\n",
       "    }\n",
       "</style>\n",
       "<table border=\"1\" class=\"dataframe\">\n",
       "  <thead>\n",
       "    <tr style=\"text-align: right;\">\n",
       "      <th></th>\n",
       "      <th>Rotational speed [rpm]</th>\n",
       "      <th>Torque [Nm]</th>\n",
       "      <th>Tool wear [min]</th>\n",
       "      <th>TWF</th>\n",
       "      <th>HDF</th>\n",
       "      <th>PWF</th>\n",
       "      <th>OSF</th>\n",
       "      <th>Machine failure</th>\n",
       "    </tr>\n",
       "  </thead>\n",
       "  <tbody>\n",
       "    <tr>\n",
       "      <th>0</th>\n",
       "      <td>1551</td>\n",
       "      <td>42.8</td>\n",
       "      <td>0</td>\n",
       "      <td>0</td>\n",
       "      <td>0</td>\n",
       "      <td>0</td>\n",
       "      <td>0</td>\n",
       "      <td>0</td>\n",
       "    </tr>\n",
       "    <tr>\n",
       "      <th>1</th>\n",
       "      <td>1408</td>\n",
       "      <td>46.3</td>\n",
       "      <td>3</td>\n",
       "      <td>0</td>\n",
       "      <td>0</td>\n",
       "      <td>0</td>\n",
       "      <td>0</td>\n",
       "      <td>0</td>\n",
       "    </tr>\n",
       "    <tr>\n",
       "      <th>2</th>\n",
       "      <td>1498</td>\n",
       "      <td>49.4</td>\n",
       "      <td>5</td>\n",
       "      <td>0</td>\n",
       "      <td>0</td>\n",
       "      <td>0</td>\n",
       "      <td>0</td>\n",
       "      <td>0</td>\n",
       "    </tr>\n",
       "    <tr>\n",
       "      <th>3</th>\n",
       "      <td>1433</td>\n",
       "      <td>39.5</td>\n",
       "      <td>7</td>\n",
       "      <td>0</td>\n",
       "      <td>0</td>\n",
       "      <td>0</td>\n",
       "      <td>0</td>\n",
       "      <td>0</td>\n",
       "    </tr>\n",
       "    <tr>\n",
       "      <th>4</th>\n",
       "      <td>1408</td>\n",
       "      <td>40.0</td>\n",
       "      <td>9</td>\n",
       "      <td>0</td>\n",
       "      <td>0</td>\n",
       "      <td>0</td>\n",
       "      <td>0</td>\n",
       "      <td>0</td>\n",
       "    </tr>\n",
       "    <tr>\n",
       "      <th>...</th>\n",
       "      <td>...</td>\n",
       "      <td>...</td>\n",
       "      <td>...</td>\n",
       "      <td>...</td>\n",
       "      <td>...</td>\n",
       "      <td>...</td>\n",
       "      <td>...</td>\n",
       "      <td>...</td>\n",
       "    </tr>\n",
       "    <tr>\n",
       "      <th>9810</th>\n",
       "      <td>1604</td>\n",
       "      <td>29.5</td>\n",
       "      <td>14</td>\n",
       "      <td>0</td>\n",
       "      <td>0</td>\n",
       "      <td>0</td>\n",
       "      <td>0</td>\n",
       "      <td>0</td>\n",
       "    </tr>\n",
       "    <tr>\n",
       "      <th>9811</th>\n",
       "      <td>1632</td>\n",
       "      <td>31.8</td>\n",
       "      <td>17</td>\n",
       "      <td>0</td>\n",
       "      <td>0</td>\n",
       "      <td>0</td>\n",
       "      <td>0</td>\n",
       "      <td>0</td>\n",
       "    </tr>\n",
       "    <tr>\n",
       "      <th>9812</th>\n",
       "      <td>1645</td>\n",
       "      <td>33.4</td>\n",
       "      <td>22</td>\n",
       "      <td>0</td>\n",
       "      <td>0</td>\n",
       "      <td>0</td>\n",
       "      <td>0</td>\n",
       "      <td>0</td>\n",
       "    </tr>\n",
       "    <tr>\n",
       "      <th>9813</th>\n",
       "      <td>1408</td>\n",
       "      <td>48.5</td>\n",
       "      <td>25</td>\n",
       "      <td>0</td>\n",
       "      <td>0</td>\n",
       "      <td>0</td>\n",
       "      <td>0</td>\n",
       "      <td>0</td>\n",
       "    </tr>\n",
       "    <tr>\n",
       "      <th>9814</th>\n",
       "      <td>1500</td>\n",
       "      <td>40.2</td>\n",
       "      <td>30</td>\n",
       "      <td>0</td>\n",
       "      <td>0</td>\n",
       "      <td>0</td>\n",
       "      <td>0</td>\n",
       "      <td>0</td>\n",
       "    </tr>\n",
       "  </tbody>\n",
       "</table>\n",
       "<p>9815 rows × 8 columns</p>\n",
       "</div>"
      ],
      "text/plain": [
       "      Rotational speed [rpm]  Torque [Nm]  Tool wear [min]  TWF  HDF  PWF  \\\n",
       "0                       1551         42.8                0    0    0    0   \n",
       "1                       1408         46.3                3    0    0    0   \n",
       "2                       1498         49.4                5    0    0    0   \n",
       "3                       1433         39.5                7    0    0    0   \n",
       "4                       1408         40.0                9    0    0    0   \n",
       "...                      ...          ...              ...  ...  ...  ...   \n",
       "9810                    1604         29.5               14    0    0    0   \n",
       "9811                    1632         31.8               17    0    0    0   \n",
       "9812                    1645         33.4               22    0    0    0   \n",
       "9813                    1408         48.5               25    0    0    0   \n",
       "9814                    1500         40.2               30    0    0    0   \n",
       "\n",
       "      OSF  Machine failure  \n",
       "0       0                0  \n",
       "1       0                0  \n",
       "2       0                0  \n",
       "3       0                0  \n",
       "4       0                0  \n",
       "...   ...              ...  \n",
       "9810    0                0  \n",
       "9811    0                0  \n",
       "9812    0                0  \n",
       "9813    0                0  \n",
       "9814    0                0  \n",
       "\n",
       "[9815 rows x 8 columns]"
      ]
     },
     "execution_count": 1,
     "metadata": {},
     "output_type": "execute_result"
    }
   ],
   "source": [
    "import pandas as pd\n",
    "\n",
    "m_df = pd.read_csv('./datasets/machine.csv')\n",
    "m_df"
   ]
  },
  {
   "cell_type": "code",
   "execution_count": 2,
   "id": "86836e5b-f5db-4ffe-a3bc-e4aba7fb7dcc",
   "metadata": {},
   "outputs": [
    {
     "name": "stdout",
     "output_type": "stream",
     "text": [
      "<class 'pandas.core.frame.DataFrame'>\n",
      "RangeIndex: 9815 entries, 0 to 9814\n",
      "Data columns (total 8 columns):\n",
      " #   Column                  Non-Null Count  Dtype  \n",
      "---  ------                  --------------  -----  \n",
      " 0   Rotational speed [rpm]  9815 non-null   int64  \n",
      " 1   Torque [Nm]             9815 non-null   float64\n",
      " 2   Tool wear [min]         9815 non-null   int64  \n",
      " 3   TWF                     9815 non-null   int64  \n",
      " 4   HDF                     9815 non-null   int64  \n",
      " 5   PWF                     9815 non-null   int64  \n",
      " 6   OSF                     9815 non-null   int64  \n",
      " 7   Machine failure         9815 non-null   int64  \n",
      "dtypes: float64(1), int64(7)\n",
      "memory usage: 613.6 KB\n"
     ]
    }
   ],
   "source": [
    "m_df.info()"
   ]
  },
  {
   "cell_type": "code",
   "execution_count": 3,
   "id": "bd1f2582-9dcd-4995-b7fd-b2a380ed04c9",
   "metadata": {},
   "outputs": [
    {
     "data": {
      "text/plain": [
       "6"
      ]
     },
     "execution_count": 3,
     "metadata": {},
     "output_type": "execute_result"
    }
   ],
   "source": [
    "m_df.duplicated().sum()"
   ]
  },
  {
   "cell_type": "code",
   "execution_count": 4,
   "id": "dc7ae8be-39c2-47a0-8346-f9e155955bb3",
   "metadata": {},
   "outputs": [
    {
     "data": {
      "text/plain": [
       "0"
      ]
     },
     "execution_count": 4,
     "metadata": {},
     "output_type": "execute_result"
    }
   ],
   "source": [
    "m_df = m_df.drop_duplicates()\n",
    "m_df.duplicated().sum()"
   ]
  },
  {
   "cell_type": "code",
   "execution_count": 5,
   "id": "8a175338-b5b9-4c90-a497-57180d6219e2",
   "metadata": {},
   "outputs": [
    {
     "data": {
      "text/plain": [
       "Rotational speed [rpm]    0\n",
       "Torque [Nm]               0\n",
       "Tool wear [min]           0\n",
       "TWF                       0\n",
       "HDF                       0\n",
       "PWF                       0\n",
       "OSF                       0\n",
       "Machine failure           0\n",
       "dtype: int64"
      ]
     },
     "execution_count": 5,
     "metadata": {},
     "output_type": "execute_result"
    }
   ],
   "source": [
    "m_df.isna().sum()"
   ]
  },
  {
   "cell_type": "code",
   "execution_count": 6,
   "id": "8ee13176-dfb4-4980-8ee3-c8c81d12d52a",
   "metadata": {},
   "outputs": [
    {
     "data": {
      "text/plain": [
       "array([[<Axes: title={'center': 'Rotational speed [rpm]'}>,\n",
       "        <Axes: title={'center': 'Torque [Nm]'}>,\n",
       "        <Axes: title={'center': 'Tool wear [min]'}>],\n",
       "       [<Axes: title={'center': 'TWF'}>, <Axes: title={'center': 'HDF'}>,\n",
       "        <Axes: title={'center': 'PWF'}>],\n",
       "       [<Axes: title={'center': 'OSF'}>,\n",
       "        <Axes: title={'center': 'Machine failure'}>, <Axes: >]],\n",
       "      dtype=object)"
      ]
     },
     "execution_count": 6,
     "metadata": {},
     "output_type": "execute_result"
    },
    {
     "data": {
      "image/png": "[encoded data removed]",
      "text/plain": [
       "<Figure size 1000x1000 with 9 Axes>"
      ]
     },
     "metadata": {},
     "output_type": "display_data"
    }
   ],
   "source": [
    "m_df.hist(figsize=(10,10))"
   ]
  },
  {
   "cell_type": "code",
   "execution_count": 7,
   "id": "6d67630b-4487-4d53-a8f1-68f365253946",
   "metadata": {},
   "outputs": [
    {
     "data": {
      "text/plain": [
       "TWF\n",
       "0    9765\n",
       "1      44\n",
       "Name: count, dtype: int64"
      ]
     },
     "execution_count": 7,
     "metadata": {},
     "output_type": "execute_result"
    }
   ],
   "source": [
    "m_df.TWF.value_counts()"
   ]
  },
  {
   "cell_type": "code",
   "execution_count": 8,
   "id": "c3677982-9924-4f20-b601-118ba127f568",
   "metadata": {},
   "outputs": [
    {
     "data": {
      "text/plain": [
       "HDF\n",
       "0    9694\n",
       "1     115\n",
       "Name: count, dtype: int64"
      ]
     },
     "execution_count": 8,
     "metadata": {},
     "output_type": "execute_result"
    }
   ],
   "source": [
    "m_df.HDF.value_counts()"
   ]
  },
  {
   "cell_type": "code",
   "execution_count": 9,
   "id": "873c6844-3310-4326-8d8f-dd7377d1dc71",
   "metadata": {},
   "outputs": [
    {
     "data": {
      "text/plain": [
       "PWF\n",
       "0    9765\n",
       "1      44\n",
       "Name: count, dtype: int64"
      ]
     },
     "execution_count": 9,
     "metadata": {},
     "output_type": "execute_result"
    }
   ],
   "source": [
    "m_df.PWF.value_counts()"
   ]
  },
  {
   "cell_type": "code",
   "execution_count": 10,
   "id": "822ef2e3-e60b-46f5-8f80-a39e1a243185",
   "metadata": {},
   "outputs": [
    {
     "data": {
      "text/plain": [
       "OSF\n",
       "0    9715\n",
       "1      94\n",
       "Name: count, dtype: int64"
      ]
     },
     "execution_count": 10,
     "metadata": {},
     "output_type": "execute_result"
    }
   ],
   "source": [
    "m_df.OSF.value_counts()"
   ]
  },
  {
   "cell_type": "code",
   "execution_count": 11,
   "id": "be0bad6d-68b8-45b7-af2a-6995d92b70ac",
   "metadata": {},
   "outputs": [
    {
     "data": {
      "text/plain": [
       "Tool wear [min]\n",
       "0      117\n",
       "2       68\n",
       "5       58\n",
       "7       58\n",
       "59      56\n",
       "      ... \n",
       "237      1\n",
       "239      1\n",
       "241      1\n",
       "251      1\n",
       "253      1\n",
       "Name: count, Length: 246, dtype: int64"
      ]
     },
     "execution_count": 11,
     "metadata": {},
     "output_type": "execute_result"
    }
   ],
   "source": [
    "m_df['Tool wear [min]'].value_counts()"
   ]
  },
  {
   "cell_type": "code",
   "execution_count": 12,
   "id": "e95d8042-f138-4718-b03c-17c0b9991bfd",
   "metadata": {},
   "outputs": [
    {
     "data": {
      "text/plain": [
       "Machine failure\n",
       "0    9523\n",
       "1     286\n",
       "Name: count, dtype: int64"
      ]
     },
     "execution_count": 12,
     "metadata": {},
     "output_type": "execute_result"
    }
   ],
   "source": [
    "m_df['Machine failure'].value_counts()"
   ]
  },
  {
   "cell_type": "code",
   "execution_count": 13,
   "id": "913b275e-cccd-40d7-9691-9a687f3dbf95",
   "metadata": {},
   "outputs": [],
   "source": [
    "m_0 = m_df[m_df['Machine failure'] == 0].sample(286, random_state=124)\n",
    "m_1 = m_df[m_df['Machine failure'] == 1]\n",
    "pre_m_df = pd.concat([m_0, m_1])"
   ]
  },
  {
   "cell_type": "code",
   "execution_count": 14,
   "id": "a777974e-5f37-4d3a-a2a9-4a06e9c6bd90",
   "metadata": {},
   "outputs": [
    {
     "data": {
      "text/plain": [
       "Machine failure\n",
       "0    286\n",
       "1    286\n",
       "Name: count, dtype: int64"
      ]
     },
     "execution_count": 14,
     "metadata": {},
     "output_type": "execute_result"
    }
   ],
   "source": [
    "pre_m_df['Machine failure'].value_counts()"
   ]
  },
  {
   "cell_type": "code",
   "execution_count": 15,
   "id": "2aa77e86-64c7-4926-8183-89fc79a087f1",
   "metadata": {},
   "outputs": [
    {
     "data": {
      "text/plain": [
       "array([[<Axes: title={'center': 'Rotational speed [rpm]'}>,\n",
       "        <Axes: title={'center': 'Torque [Nm]'}>,\n",
       "        <Axes: title={'center': 'Tool wear [min]'}>],\n",
       "       [<Axes: title={'center': 'TWF'}>, <Axes: title={'center': 'HDF'}>,\n",
       "        <Axes: title={'center': 'PWF'}>],\n",
       "       [<Axes: title={'center': 'OSF'}>,\n",
       "        <Axes: title={'center': 'Machine failure'}>, <Axes: >]],\n",
       "      dtype=object)"
      ]
     },
     "execution_count": 15,
     "metadata": {},
     "output_type": "execute_result"
    },
    {
     "data": {
      "image/png": "[encoded data removed]",
      "text/plain": [
       "<Figure size 1000x1000 with 9 Axes>"
      ]
     },
     "metadata": {},
     "output_type": "display_data"
    }
   ],
   "source": [
    "pre_m_df.hist(figsize=(10, 10))"
   ]
  },
  {
   "cell_type": "code",
   "execution_count": 16,
   "id": "33843bf9-fd14-4d19-9613-dc523a134fb4",
   "metadata": {},
   "outputs": [],
   "source": [
    "import matplotlib.pyplot as plt\n",
    "from sklearn.metrics import accuracy_score, precision_score, recall_score, f1_score, roc_auc_score, confusion_matrix, ConfusionMatrixDisplay\n",
    "\n",
    "def get_evaluation(y_test, prediction, classifier=None, X_test=None):\n",
    "    confusion = confusion_matrix(y_test, prediction)\n",
    "    accuracy = accuracy_score(y_test , prediction)\n",
    "    precision = precision_score(y_test , prediction)\n",
    "    recall = recall_score(y_test , prediction)\n",
    "    f1 = f1_score(y_test, prediction)\n",
    "    auc = roc_auc_score(y_test, prediction)\n",
    "    \n",
    "    print('오차 행렬')\n",
    "    print(confusion)\n",
    "    print('정확도: {0:.4f}, 정밀도: {1:.4f}, 재현율: {2:.4f}, F1: {3:.4f}, ROC-AUC: {4:.4f}'.format(accuracy, precision, recall, f1, auc))\n",
    "    print(\"#\" * 80)\n",
    "    \n",
    "    if classifier is not None and  X_test is not None:\n",
    "        fig, axes = plt.subplots(nrows=1, ncols=2, figsize=(12,4))\n",
    "        titles_options = [(\"Confusion matrix\", None), (\"Normalized confusion matrix\", \"true\")]\n",
    "\n",
    "        for (title, normalize), ax in zip(titles_options, axes.flatten()):\n",
    "            disp = ConfusionMatrixDisplay.from_estimator(classifier, X_test, y_test, ax=ax, cmap=plt.cm.Blues, normalize=normalize)\n",
    "            disp.ax_.set_title(title)\n",
    "        plt.show()"
   ]
  },
  {
   "cell_type": "markdown",
   "id": "dbccaf68-3d16-43c9-af71-e9bb2a6b3dfe",
   "metadata": {},
   "source": [
    "#### **sklearn - LogisticRegression**"
   ]
  },
  {
   "cell_type": "code",
   "execution_count": 17,
   "id": "e0784631-d8da-494c-96fd-f1cf6edf860e",
   "metadata": {},
   "outputs": [],
   "source": [
    "from sklearn.model_selection import train_test_split\n",
    "from sklearn.linear_model import LogisticRegression\n",
    "\n",
    "features, targets = pre_m_df.iloc[:, :-1], pre_m_df.iloc[:, -1]\n",
    "\n",
    "X_train, X_test, y_train, y_test = \\\n",
    "train_test_split(features, targets, stratify=targets, test_size=0.2, random_state=124)\n",
    "\n",
    "# 일반적으로 데이터 세트가 작을 경우 liblinear의 성능이 좋고, 큰 경우 'sag', 'saga'가 더 좋다.\n",
    "# 다중 분류는 'newton-cg', 'sag', 'saga', 'lbfgs'만 처리할 수 있다.\n",
    "logistic_r = LogisticRegression(solver='liblinear', penalty='l2', C=0.01, random_state=124)\n",
    "logistic_r.fit(X_train, y_train)\n",
    "prediction = logistic_r.predict(X_test)"
   ]
  },
  {
   "cell_type": "code",
   "execution_count": 18,
   "id": "f70aad59-b5a8-4bb2-84e1-3b0030549ab0",
   "metadata": {},
   "outputs": [
    {
     "name": "stdout",
     "output_type": "stream",
     "text": [
      "오차 행렬\n",
      "[[48 10]\n",
      " [12 45]]\n",
      "정확도: 0.8087, 정밀도: 0.8182, 재현율: 0.7895, F1: 0.8036, ROC-AUC: 0.8085\n",
      "################################################################################\n"
     ]
    },
    {
     "data": {
      "image/png": "[encoded data removed]",
      "text/plain": [
       "<Figure size 1200x400 with 4 Axes>"
      ]
     },
     "metadata": {},
     "output_type": "display_data"
    }
   ],
   "source": [
    "get_evaluation(y_test, prediction, logistic_r, X_test)"
   ]
  },
  {
   "cell_type": "markdown",
   "id": "d63c94e4-5104-4303-981b-e08a6a3e48aa",
   "metadata": {},
   "source": [
    "#### **pytorch**"
   ]
  },
  {
   "cell_type": "code",
   "execution_count": 19,
   "id": "6364fe3a-fdf1-4f63-aa94-775403e10ffd",
   "metadata": {},
   "outputs": [
    {
     "name": "stdout",
     "output_type": "stream",
     "text": [
      "Epoch: 1000/10000\n",
      "W1: -0.2626, W2: 0.0991, W3: 0.2575, W4: -0.0196, W5: 0.0093, W6: -0.2849, W7: -0.1438, b: -0.0\n",
      "Loss: 50.1094\n",
      "==========================================================================================\n",
      "Epoch: 2000/10000\n",
      "W1: -0.2626, W2: 0.0991, W3: 0.2575, W4: -0.0196, W5: 0.0093, W6: -0.2849, W7: -0.1438, b: -0.0\n",
      "Loss: 50.1094\n",
      "==========================================================================================\n",
      "Epoch: 3000/10000\n",
      "W1: -0.2626, W2: 0.0991, W3: 0.2575, W4: -0.0196, W5: 0.0093, W6: -0.2849, W7: -0.1438, b: -0.0\n",
      "Loss: 50.1094\n",
      "==========================================================================================\n",
      "Epoch: 4000/10000\n",
      "W1: -0.2626, W2: 0.0991, W3: 0.2575, W4: -0.0196, W5: 0.0093, W6: -0.2849, W7: -0.1438, b: -0.0\n",
      "Loss: 50.1094\n",
      "==========================================================================================\n",
      "Epoch: 5000/10000\n",
      "W1: -0.2626, W2: 0.0991, W3: 0.2575, W4: -0.0196, W5: 0.0093, W6: -0.2849, W7: -0.1438, b: -0.0\n",
      "Loss: 50.1094\n",
      "==========================================================================================\n",
      "Epoch: 6000/10000\n",
      "W1: -0.2626, W2: 0.0991, W3: 0.2575, W4: -0.0196, W5: 0.0093, W6: -0.2849, W7: -0.1438, b: -0.0\n",
      "Loss: 50.1094\n",
      "==========================================================================================\n",
      "Epoch: 7000/10000\n",
      "W1: -0.2626, W2: 0.0991, W3: 0.2575, W4: -0.0196, W5: 0.0093, W6: -0.2849, W7: -0.1438, b: -0.0\n",
      "Loss: 50.1094\n",
      "==========================================================================================\n",
      "Epoch: 8000/10000\n",
      "W1: -0.2626, W2: 0.0991, W3: 0.2575, W4: -0.0196, W5: 0.0093, W6: -0.2849, W7: -0.1438, b: -0.0\n",
      "Loss: 50.1094\n",
      "==========================================================================================\n",
      "Epoch: 9000/10000\n",
      "W1: -0.2626, W2: 0.0991, W3: 0.2575, W4: -0.0196, W5: 0.0093, W6: -0.2849, W7: -0.1438, b: -0.0\n",
      "Loss: 50.1094\n",
      "==========================================================================================\n",
      "Epoch: 10000/10000\n",
      "W1: -0.2626, W2: 0.0991, W3: 0.2575, W4: -0.0196, W5: 0.0093, W6: -0.2849, W7: -0.1438, b: -0.0\n",
      "Loss: 50.1094\n",
      "==========================================================================================\n"
     ]
    }
   ],
   "source": [
    "import torch\n",
    "import numpy as np\n",
    "from torch.optim import SGD\n",
    "from torch.nn import Sequential, Linear, Sigmoid\n",
    "from torch.nn.functional import binary_cross_entropy\n",
    "from sklearn.model_selection import train_test_split\n",
    "\n",
    "torch.manual_seed(124)\n",
    "\n",
    "features, targets = pre_m_df.iloc[:, :-1], pre_m_df.iloc[:, -1]\n",
    "\n",
    "X_train, X_test, y_train, y_test = \\\n",
    "train_test_split(features, targets, stratify=targets, test_size=0.2, random_state=124)\n",
    "\n",
    "X_train = torch.FloatTensor(X_train.values)\n",
    "y_train = torch.FloatTensor(y_train.values).view(-1, 1)\n",
    "X_test = torch.FloatTensor(X_test.values)\n",
    "y_test = torch.FloatTensor(y_test.values).view(-1, 1)\n",
    "\n",
    "# print(X_train.shape, y_train.shape)\n",
    "\n",
    "logistic_r = Sequential(\n",
    "    Linear(7, 1), # 7개 input을 통해 결과 출력\n",
    "    Sigmoid(),\n",
    ")\n",
    "\n",
    "optimizer = SGD(logistic_r.parameters(), lr=1e-1)\n",
    "\n",
    "epochs = 10000\n",
    "\n",
    "for epoch in range(1, epochs + 1):\n",
    "    H = logistic_r(X_train)\n",
    "\n",
    "    loss = binary_cross_entropy(H, y_train)\n",
    "\n",
    "    optimizer.zero_grad()\n",
    "    loss.backward()\n",
    "    optimizer.step()\n",
    "\n",
    "    if epoch % 1000 == 0:\n",
    "        print(f'Epoch: {epoch}/{epochs}')\n",
    "        for i, w in enumerate(list(logistic_r.parameters())[0][0]):\n",
    "            print(f'W{i + 1}: {np.round(w.item(), 4)}', end=', ')\n",
    "        print(f'b: {np.round(list(logistic_r.parameters())[1].item())}\\nLoss: {np.round(loss.item(), 4)}')\n",
    "        print('=' * 90)"
   ]
  },
  {
   "cell_type": "code",
   "execution_count": 20,
   "id": "2fbd25ad-b79d-481e-87f5-cf6122845ae9",
   "metadata": {},
   "outputs": [
    {
     "data": {
      "text/html": [
       "<div>\n",
       "<style scoped>\n",
       "    .dataframe tbody tr th:only-of-type {\n",
       "        vertical-align: middle;\n",
       "    }\n",
       "\n",
       "    .dataframe tbody tr th {\n",
       "        vertical-align: top;\n",
       "    }\n",
       "\n",
       "    .dataframe thead th {\n",
       "        text-align: right;\n",
       "    }\n",
       "</style>\n",
       "<table border=\"1\" class=\"dataframe\">\n",
       "  <thead>\n",
       "    <tr style=\"text-align: right;\">\n",
       "      <th></th>\n",
       "      <th>Rotational speed [rpm]</th>\n",
       "      <th>Torque [Nm]</th>\n",
       "      <th>Tool wear [min]</th>\n",
       "      <th>TWF</th>\n",
       "      <th>HDF</th>\n",
       "      <th>PWF</th>\n",
       "      <th>OSF</th>\n",
       "      <th>Machine failure</th>\n",
       "    </tr>\n",
       "  </thead>\n",
       "  <tbody>\n",
       "    <tr>\n",
       "      <th>Rotational speed [rpm]</th>\n",
       "      <td>1.000000</td>\n",
       "      <td>-0.871437</td>\n",
       "      <td>-0.033014</td>\n",
       "      <td>0.155094</td>\n",
       "      <td>-0.408902</td>\n",
       "      <td>-0.182534</td>\n",
       "      <td>-0.312854</td>\n",
       "      <td>-0.510421</td>\n",
       "    </tr>\n",
       "    <tr>\n",
       "      <th>Torque [Nm]</th>\n",
       "      <td>-0.871437</td>\n",
       "      <td>1.000000</td>\n",
       "      <td>0.061241</td>\n",
       "      <td>-0.188613</td>\n",
       "      <td>0.293810</td>\n",
       "      <td>0.455115</td>\n",
       "      <td>0.435328</td>\n",
       "      <td>0.586769</td>\n",
       "    </tr>\n",
       "    <tr>\n",
       "      <th>Tool wear [min]</th>\n",
       "      <td>-0.033014</td>\n",
       "      <td>0.061241</td>\n",
       "      <td>1.000000</td>\n",
       "      <td>0.362452</td>\n",
       "      <td>-0.134125</td>\n",
       "      <td>-0.110563</td>\n",
       "      <td>0.508124</td>\n",
       "      <td>0.335155</td>\n",
       "    </tr>\n",
       "    <tr>\n",
       "      <th>TWF</th>\n",
       "      <td>0.155094</td>\n",
       "      <td>-0.188613</td>\n",
       "      <td>0.362452</td>\n",
       "      <td>1.000000</td>\n",
       "      <td>-0.144811</td>\n",
       "      <td>-0.058712</td>\n",
       "      <td>-0.074902</td>\n",
       "      <td>0.288675</td>\n",
       "    </tr>\n",
       "    <tr>\n",
       "      <th>HDF</th>\n",
       "      <td>-0.408902</td>\n",
       "      <td>0.293810</td>\n",
       "      <td>-0.134125</td>\n",
       "      <td>-0.144811</td>\n",
       "      <td>1.000000</td>\n",
       "      <td>-0.095701</td>\n",
       "      <td>-0.151829</td>\n",
       "      <td>0.501638</td>\n",
       "    </tr>\n",
       "    <tr>\n",
       "      <th>PWF</th>\n",
       "      <td>-0.182534</td>\n",
       "      <td>0.455115</td>\n",
       "      <td>-0.110563</td>\n",
       "      <td>-0.058712</td>\n",
       "      <td>-0.095701</td>\n",
       "      <td>1.000000</td>\n",
       "      <td>0.013619</td>\n",
       "      <td>0.288675</td>\n",
       "    </tr>\n",
       "    <tr>\n",
       "      <th>OSF</th>\n",
       "      <td>-0.312854</td>\n",
       "      <td>0.435328</td>\n",
       "      <td>0.508124</td>\n",
       "      <td>-0.074902</td>\n",
       "      <td>-0.151829</td>\n",
       "      <td>0.013619</td>\n",
       "      <td>1.000000</td>\n",
       "      <td>0.443455</td>\n",
       "    </tr>\n",
       "    <tr>\n",
       "      <th>Machine failure</th>\n",
       "      <td>-0.510421</td>\n",
       "      <td>0.586769</td>\n",
       "      <td>0.335155</td>\n",
       "      <td>0.288675</td>\n",
       "      <td>0.501638</td>\n",
       "      <td>0.288675</td>\n",
       "      <td>0.443455</td>\n",
       "      <td>1.000000</td>\n",
       "    </tr>\n",
       "  </tbody>\n",
       "</table>\n",
       "</div>"
      ],
      "text/plain": [
       "                        Rotational speed [rpm]  Torque [Nm]  Tool wear [min]  \\\n",
       "Rotational speed [rpm]                1.000000    -0.871437        -0.033014   \n",
       "Torque [Nm]                          -0.871437     1.000000         0.061241   \n",
       "Tool wear [min]                      -0.033014     0.061241         1.000000   \n",
       "TWF                                   0.155094    -0.188613         0.362452   \n",
       "HDF                                  -0.408902     0.293810        -0.134125   \n",
       "PWF                                  -0.182534     0.455115        -0.110563   \n",
       "OSF                                  -0.312854     0.435328         0.508124   \n",
       "Machine failure                      -0.510421     0.586769         0.335155   \n",
       "\n",
       "                             TWF       HDF       PWF       OSF  \\\n",
       "Rotational speed [rpm]  0.155094 -0.408902 -0.182534 -0.312854   \n",
       "Torque [Nm]            -0.188613  0.293810  0.455115  0.435328   \n",
       "Tool wear [min]         0.362452 -0.134125 -0.110563  0.508124   \n",
       "TWF                     1.000000 -0.144811 -0.058712 -0.074902   \n",
       "HDF                    -0.144811  1.000000 -0.095701 -0.151829   \n",
       "PWF                    -0.058712 -0.095701  1.000000  0.013619   \n",
       "OSF                    -0.074902 -0.151829  0.013619  1.000000   \n",
       "Machine failure         0.288675  0.501638  0.288675  0.443455   \n",
       "\n",
       "                        Machine failure  \n",
       "Rotational speed [rpm]        -0.510421  \n",
       "Torque [Nm]                    0.586769  \n",
       "Tool wear [min]                0.335155  \n",
       "TWF                            0.288675  \n",
       "HDF                            0.501638  \n",
       "PWF                            0.288675  \n",
       "OSF                            0.443455  \n",
       "Machine failure                1.000000  "
      ]
     },
     "execution_count": 20,
     "metadata": {},
     "output_type": "execute_result"
    }
   ],
   "source": [
    "pre_m_df.corr()"
   ]
  },
  {
   "cell_type": "code",
   "execution_count": 21,
   "id": "666188ad-ff8d-42d1-9a6a-6c7a20ce2162",
   "metadata": {},
   "outputs": [
    {
     "data": {
      "image/png": "[encoded data removed]",
      "text/plain": [
       "<Figure size 800x600 with 2 Axes>"
      ]
     },
     "metadata": {},
     "output_type": "display_data"
    }
   ],
   "source": [
    "import seaborn as sns\n",
    "import matplotlib.pyplot as plt\n",
    "\n",
    "fig = plt.figure(figsize=(8, 6))\n",
    "corr = pre_m_df.corr()\n",
    "heatmap = sns.heatmap(corr, cmap='Purples')\n",
    "heatmap.set_title('Correlation')\n",
    "plt.show()"
   ]
  },
  {
   "cell_type": "code",
   "execution_count": 22,
   "id": "543a23e8-329c-4a5e-91b3-3d92784bbab2",
   "metadata": {},
   "outputs": [
    {
     "data": {
      "text/plain": [
       "Torque [Nm]               0.586769\n",
       "HDF                       0.501638\n",
       "OSF                       0.443455\n",
       "Tool wear [min]           0.335155\n",
       "TWF                       0.288675\n",
       "PWF                       0.288675\n",
       "Rotational speed [rpm]   -0.510421\n",
       "Name: Machine failure, dtype: float64"
      ]
     },
     "execution_count": 22,
     "metadata": {},
     "output_type": "execute_result"
    }
   ],
   "source": [
    "corr['Machine failure'].sort_values(ascending=False)[1:]"
   ]
  },
  {
   "cell_type": "code",
   "execution_count": 23,
   "id": "2e424759-b6aa-404e-923c-ed71121ef973",
   "metadata": {},
   "outputs": [
    {
     "data": {
      "text/html": [
       "<div>\n",
       "<style scoped>\n",
       "    .dataframe tbody tr th:only-of-type {\n",
       "        vertical-align: middle;\n",
       "    }\n",
       "\n",
       "    .dataframe tbody tr th {\n",
       "        vertical-align: top;\n",
       "    }\n",
       "\n",
       "    .dataframe thead th {\n",
       "        text-align: right;\n",
       "    }\n",
       "</style>\n",
       "<table border=\"1\" class=\"dataframe\">\n",
       "  <thead>\n",
       "    <tr style=\"text-align: right;\">\n",
       "      <th></th>\n",
       "      <th>Rotational speed [rpm]</th>\n",
       "      <th>Torque [Nm]</th>\n",
       "      <th>Tool wear [min]</th>\n",
       "      <th>TWF</th>\n",
       "      <th>HDF</th>\n",
       "      <th>PWF</th>\n",
       "      <th>OSF</th>\n",
       "      <th>Machine failure</th>\n",
       "    </tr>\n",
       "  </thead>\n",
       "  <tbody>\n",
       "    <tr>\n",
       "      <th>6060</th>\n",
       "      <td>1527</td>\n",
       "      <td>45.3</td>\n",
       "      <td>8</td>\n",
       "      <td>0</td>\n",
       "      <td>0</td>\n",
       "      <td>0</td>\n",
       "      <td>0</td>\n",
       "      <td>0</td>\n",
       "    </tr>\n",
       "    <tr>\n",
       "      <th>2422</th>\n",
       "      <td>1524</td>\n",
       "      <td>40.4</td>\n",
       "      <td>131</td>\n",
       "      <td>0</td>\n",
       "      <td>0</td>\n",
       "      <td>0</td>\n",
       "      <td>0</td>\n",
       "      <td>0</td>\n",
       "    </tr>\n",
       "    <tr>\n",
       "      <th>4569</th>\n",
       "      <td>1594</td>\n",
       "      <td>35.5</td>\n",
       "      <td>13</td>\n",
       "      <td>0</td>\n",
       "      <td>0</td>\n",
       "      <td>0</td>\n",
       "      <td>0</td>\n",
       "      <td>0</td>\n",
       "    </tr>\n",
       "    <tr>\n",
       "      <th>8237</th>\n",
       "      <td>1671</td>\n",
       "      <td>31.8</td>\n",
       "      <td>108</td>\n",
       "      <td>0</td>\n",
       "      <td>0</td>\n",
       "      <td>0</td>\n",
       "      <td>0</td>\n",
       "      <td>0</td>\n",
       "    </tr>\n",
       "    <tr>\n",
       "      <th>3726</th>\n",
       "      <td>1356</td>\n",
       "      <td>48.3</td>\n",
       "      <td>36</td>\n",
       "      <td>0</td>\n",
       "      <td>0</td>\n",
       "      <td>0</td>\n",
       "      <td>0</td>\n",
       "      <td>0</td>\n",
       "    </tr>\n",
       "    <tr>\n",
       "      <th>...</th>\n",
       "      <td>...</td>\n",
       "      <td>...</td>\n",
       "      <td>...</td>\n",
       "      <td>...</td>\n",
       "      <td>...</td>\n",
       "      <td>...</td>\n",
       "      <td>...</td>\n",
       "      <td>...</td>\n",
       "    </tr>\n",
       "    <tr>\n",
       "      <th>9489</th>\n",
       "      <td>1352</td>\n",
       "      <td>48.9</td>\n",
       "      <td>238</td>\n",
       "      <td>0</td>\n",
       "      <td>0</td>\n",
       "      <td>0</td>\n",
       "      <td>1</td>\n",
       "      <td>1</td>\n",
       "    </tr>\n",
       "    <tr>\n",
       "      <th>9583</th>\n",
       "      <td>1294</td>\n",
       "      <td>66.7</td>\n",
       "      <td>12</td>\n",
       "      <td>0</td>\n",
       "      <td>0</td>\n",
       "      <td>1</td>\n",
       "      <td>0</td>\n",
       "      <td>1</td>\n",
       "    </tr>\n",
       "    <tr>\n",
       "      <th>9641</th>\n",
       "      <td>1360</td>\n",
       "      <td>60.9</td>\n",
       "      <td>187</td>\n",
       "      <td>0</td>\n",
       "      <td>0</td>\n",
       "      <td>0</td>\n",
       "      <td>1</td>\n",
       "      <td>1</td>\n",
       "    </tr>\n",
       "    <tr>\n",
       "      <th>9649</th>\n",
       "      <td>1337</td>\n",
       "      <td>56.1</td>\n",
       "      <td>206</td>\n",
       "      <td>0</td>\n",
       "      <td>0</td>\n",
       "      <td>0</td>\n",
       "      <td>1</td>\n",
       "      <td>1</td>\n",
       "    </tr>\n",
       "    <tr>\n",
       "      <th>9789</th>\n",
       "      <td>1361</td>\n",
       "      <td>68.2</td>\n",
       "      <td>172</td>\n",
       "      <td>0</td>\n",
       "      <td>0</td>\n",
       "      <td>1</td>\n",
       "      <td>1</td>\n",
       "      <td>1</td>\n",
       "    </tr>\n",
       "  </tbody>\n",
       "</table>\n",
       "<p>572 rows × 8 columns</p>\n",
       "</div>"
      ],
      "text/plain": [
       "      Rotational speed [rpm]  Torque [Nm]  Tool wear [min]  TWF  HDF  PWF  \\\n",
       "6060                    1527         45.3                8    0    0    0   \n",
       "2422                    1524         40.4              131    0    0    0   \n",
       "4569                    1594         35.5               13    0    0    0   \n",
       "8237                    1671         31.8              108    0    0    0   \n",
       "3726                    1356         48.3               36    0    0    0   \n",
       "...                      ...          ...              ...  ...  ...  ...   \n",
       "9489                    1352         48.9              238    0    0    0   \n",
       "9583                    1294         66.7               12    0    0    1   \n",
       "9641                    1360         60.9              187    0    0    0   \n",
       "9649                    1337         56.1              206    0    0    0   \n",
       "9789                    1361         68.2              172    0    0    1   \n",
       "\n",
       "      OSF  Machine failure  \n",
       "6060    0                0  \n",
       "2422    0                0  \n",
       "4569    0                0  \n",
       "8237    0                0  \n",
       "3726    0                0  \n",
       "...   ...              ...  \n",
       "9489    1                1  \n",
       "9583    0                1  \n",
       "9641    1                1  \n",
       "9649    1                1  \n",
       "9789    1                1  \n",
       "\n",
       "[572 rows x 8 columns]"
      ]
     },
     "execution_count": 23,
     "metadata": {},
     "output_type": "execute_result"
    }
   ],
   "source": [
    "pre_m_df"
   ]
  },
  {
   "cell_type": "code",
   "execution_count": 24,
   "id": "bf2dee35-d65c-494f-bea1-ffca8166647f",
   "metadata": {},
   "outputs": [],
   "source": [
    "from statsmodels.stats.outliers_influence import variance_inflation_factor\n",
    "import pandas as pd\n",
    "\n",
    "def get_vif(features):\n",
    "    vif = pd.DataFrame()\n",
    "    vif['vif_score'] = [variance_inflation_factor(features.values, i) for i in range(features.shape[1])]\n",
    "    vif['feature'] = features.columns\n",
    "    return vif"
   ]
  },
  {
   "cell_type": "code",
   "execution_count": 25,
   "id": "2077a77a-d0a8-4894-b721-cc4f4b138932",
   "metadata": {},
   "outputs": [
    {
     "data": {
      "text/html": [
       "<div>\n",
       "<style scoped>\n",
       "    .dataframe tbody tr th:only-of-type {\n",
       "        vertical-align: middle;\n",
       "    }\n",
       "\n",
       "    .dataframe tbody tr th {\n",
       "        vertical-align: top;\n",
       "    }\n",
       "\n",
       "    .dataframe thead th {\n",
       "        text-align: right;\n",
       "    }\n",
       "</style>\n",
       "<table border=\"1\" class=\"dataframe\">\n",
       "  <thead>\n",
       "    <tr style=\"text-align: right;\">\n",
       "      <th></th>\n",
       "      <th>vif_score</th>\n",
       "      <th>feature</th>\n",
       "    </tr>\n",
       "  </thead>\n",
       "  <tbody>\n",
       "    <tr>\n",
       "      <th>0</th>\n",
       "      <td>17.292064</td>\n",
       "      <td>Rotational speed [rpm]</td>\n",
       "    </tr>\n",
       "    <tr>\n",
       "      <th>1</th>\n",
       "      <td>20.942339</td>\n",
       "      <td>Torque [Nm]</td>\n",
       "    </tr>\n",
       "    <tr>\n",
       "      <th>2</th>\n",
       "      <td>7.262241</td>\n",
       "      <td>Tool wear [min]</td>\n",
       "    </tr>\n",
       "    <tr>\n",
       "      <th>3</th>\n",
       "      <td>1.424932</td>\n",
       "      <td>TWF</td>\n",
       "    </tr>\n",
       "    <tr>\n",
       "      <th>4</th>\n",
       "      <td>1.822451</td>\n",
       "      <td>HDF</td>\n",
       "    </tr>\n",
       "    <tr>\n",
       "      <th>5</th>\n",
       "      <td>1.543529</td>\n",
       "      <td>PWF</td>\n",
       "    </tr>\n",
       "    <tr>\n",
       "      <th>6</th>\n",
       "      <td>2.504618</td>\n",
       "      <td>OSF</td>\n",
       "    </tr>\n",
       "  </tbody>\n",
       "</table>\n",
       "</div>"
      ],
      "text/plain": [
       "   vif_score                 feature\n",
       "0  17.292064  Rotational speed [rpm]\n",
       "1  20.942339             Torque [Nm]\n",
       "2   7.262241         Tool wear [min]\n",
       "3   1.424932                     TWF\n",
       "4   1.822451                     HDF\n",
       "5   1.543529                     PWF\n",
       "6   2.504618                     OSF"
      ]
     },
     "execution_count": 25,
     "metadata": {},
     "output_type": "execute_result"
    }
   ],
   "source": [
    "get_vif(features)"
   ]
  },
  {
   "cell_type": "code",
   "execution_count": 26,
   "id": "6dad79e0-3023-44b2-b28f-18dddbcaf8c6",
   "metadata": {},
   "outputs": [
    {
     "data": {
      "text/html": [
       "<div>\n",
       "<style scoped>\n",
       "    .dataframe tbody tr th:only-of-type {\n",
       "        vertical-align: middle;\n",
       "    }\n",
       "\n",
       "    .dataframe tbody tr th {\n",
       "        vertical-align: top;\n",
       "    }\n",
       "\n",
       "    .dataframe thead th {\n",
       "        text-align: right;\n",
       "    }\n",
       "</style>\n",
       "<table border=\"1\" class=\"dataframe\">\n",
       "  <thead>\n",
       "    <tr style=\"text-align: right;\">\n",
       "      <th></th>\n",
       "      <th>Rotational speed [rpm]</th>\n",
       "      <th>Torque [Nm]</th>\n",
       "      <th>Tool wear [min]</th>\n",
       "      <th>HDF</th>\n",
       "      <th>PWF</th>\n",
       "      <th>OSF</th>\n",
       "      <th>Machine failure</th>\n",
       "    </tr>\n",
       "  </thead>\n",
       "  <tbody>\n",
       "    <tr>\n",
       "      <th>6060</th>\n",
       "      <td>1527</td>\n",
       "      <td>45.3</td>\n",
       "      <td>8</td>\n",
       "      <td>0</td>\n",
       "      <td>0</td>\n",
       "      <td>0</td>\n",
       "      <td>0</td>\n",
       "    </tr>\n",
       "    <tr>\n",
       "      <th>2422</th>\n",
       "      <td>1524</td>\n",
       "      <td>40.4</td>\n",
       "      <td>131</td>\n",
       "      <td>0</td>\n",
       "      <td>0</td>\n",
       "      <td>0</td>\n",
       "      <td>0</td>\n",
       "    </tr>\n",
       "    <tr>\n",
       "      <th>4569</th>\n",
       "      <td>1594</td>\n",
       "      <td>35.5</td>\n",
       "      <td>13</td>\n",
       "      <td>0</td>\n",
       "      <td>0</td>\n",
       "      <td>0</td>\n",
       "      <td>0</td>\n",
       "    </tr>\n",
       "    <tr>\n",
       "      <th>8237</th>\n",
       "      <td>1671</td>\n",
       "      <td>31.8</td>\n",
       "      <td>108</td>\n",
       "      <td>0</td>\n",
       "      <td>0</td>\n",
       "      <td>0</td>\n",
       "      <td>0</td>\n",
       "    </tr>\n",
       "    <tr>\n",
       "      <th>3726</th>\n",
       "      <td>1356</td>\n",
       "      <td>48.3</td>\n",
       "      <td>36</td>\n",
       "      <td>0</td>\n",
       "      <td>0</td>\n",
       "      <td>0</td>\n",
       "      <td>0</td>\n",
       "    </tr>\n",
       "    <tr>\n",
       "      <th>...</th>\n",
       "      <td>...</td>\n",
       "      <td>...</td>\n",
       "      <td>...</td>\n",
       "      <td>...</td>\n",
       "      <td>...</td>\n",
       "      <td>...</td>\n",
       "      <td>...</td>\n",
       "    </tr>\n",
       "    <tr>\n",
       "      <th>9489</th>\n",
       "      <td>1352</td>\n",
       "      <td>48.9</td>\n",
       "      <td>238</td>\n",
       "      <td>0</td>\n",
       "      <td>0</td>\n",
       "      <td>1</td>\n",
       "      <td>1</td>\n",
       "    </tr>\n",
       "    <tr>\n",
       "      <th>9583</th>\n",
       "      <td>1294</td>\n",
       "      <td>66.7</td>\n",
       "      <td>12</td>\n",
       "      <td>0</td>\n",
       "      <td>1</td>\n",
       "      <td>0</td>\n",
       "      <td>1</td>\n",
       "    </tr>\n",
       "    <tr>\n",
       "      <th>9641</th>\n",
       "      <td>1360</td>\n",
       "      <td>60.9</td>\n",
       "      <td>187</td>\n",
       "      <td>0</td>\n",
       "      <td>0</td>\n",
       "      <td>1</td>\n",
       "      <td>1</td>\n",
       "    </tr>\n",
       "    <tr>\n",
       "      <th>9649</th>\n",
       "      <td>1337</td>\n",
       "      <td>56.1</td>\n",
       "      <td>206</td>\n",
       "      <td>0</td>\n",
       "      <td>0</td>\n",
       "      <td>1</td>\n",
       "      <td>1</td>\n",
       "    </tr>\n",
       "    <tr>\n",
       "      <th>9789</th>\n",
       "      <td>1361</td>\n",
       "      <td>68.2</td>\n",
       "      <td>172</td>\n",
       "      <td>0</td>\n",
       "      <td>1</td>\n",
       "      <td>1</td>\n",
       "      <td>1</td>\n",
       "    </tr>\n",
       "  </tbody>\n",
       "</table>\n",
       "<p>572 rows × 7 columns</p>\n",
       "</div>"
      ],
      "text/plain": [
       "      Rotational speed [rpm]  Torque [Nm]  Tool wear [min]  HDF  PWF  OSF  \\\n",
       "6060                    1527         45.3                8    0    0    0   \n",
       "2422                    1524         40.4              131    0    0    0   \n",
       "4569                    1594         35.5               13    0    0    0   \n",
       "8237                    1671         31.8              108    0    0    0   \n",
       "3726                    1356         48.3               36    0    0    0   \n",
       "...                      ...          ...              ...  ...  ...  ...   \n",
       "9489                    1352         48.9              238    0    0    1   \n",
       "9583                    1294         66.7               12    0    1    0   \n",
       "9641                    1360         60.9              187    0    0    1   \n",
       "9649                    1337         56.1              206    0    0    1   \n",
       "9789                    1361         68.2              172    0    1    1   \n",
       "\n",
       "      Machine failure  \n",
       "6060                0  \n",
       "2422                0  \n",
       "4569                0  \n",
       "8237                0  \n",
       "3726                0  \n",
       "...               ...  \n",
       "9489                1  \n",
       "9583                1  \n",
       "9641                1  \n",
       "9649                1  \n",
       "9789                1  \n",
       "\n",
       "[572 rows x 7 columns]"
      ]
     },
     "execution_count": 26,
     "metadata": {},
     "output_type": "execute_result"
    }
   ],
   "source": [
    "test_df = pre_m_df.drop(labels=['TWF'], axis=1)\n",
    "test_df"
   ]
  },
  {
   "cell_type": "code",
   "execution_count": 27,
   "id": "9116f621-ca7e-4044-be0a-6c555437cbc8",
   "metadata": {},
   "outputs": [],
   "source": [
    "features, targets = test_df.iloc[:, :-1], test_df.iloc[:, -1]"
   ]
  },
  {
   "cell_type": "code",
   "execution_count": 28,
   "id": "a0732738-7e84-4d41-a90f-408d1749c1c1",
   "metadata": {},
   "outputs": [
    {
     "data": {
      "text/html": [
       "<div>\n",
       "<style scoped>\n",
       "    .dataframe tbody tr th:only-of-type {\n",
       "        vertical-align: middle;\n",
       "    }\n",
       "\n",
       "    .dataframe tbody tr th {\n",
       "        vertical-align: top;\n",
       "    }\n",
       "\n",
       "    .dataframe thead th {\n",
       "        text-align: right;\n",
       "    }\n",
       "</style>\n",
       "<table border=\"1\" class=\"dataframe\">\n",
       "  <thead>\n",
       "    <tr style=\"text-align: right;\">\n",
       "      <th></th>\n",
       "      <th>vif_score</th>\n",
       "      <th>feature</th>\n",
       "    </tr>\n",
       "  </thead>\n",
       "  <tbody>\n",
       "    <tr>\n",
       "      <th>0</th>\n",
       "      <td>17.240773</td>\n",
       "      <td>Rotational speed [rpm]</td>\n",
       "    </tr>\n",
       "    <tr>\n",
       "      <th>1</th>\n",
       "      <td>20.858915</td>\n",
       "      <td>Torque [Nm]</td>\n",
       "    </tr>\n",
       "    <tr>\n",
       "      <th>2</th>\n",
       "      <td>5.758855</td>\n",
       "      <td>Tool wear [min]</td>\n",
       "    </tr>\n",
       "    <tr>\n",
       "      <th>3</th>\n",
       "      <td>1.801192</td>\n",
       "      <td>HDF</td>\n",
       "    </tr>\n",
       "    <tr>\n",
       "      <th>4</th>\n",
       "      <td>1.543080</td>\n",
       "      <td>PWF</td>\n",
       "    </tr>\n",
       "    <tr>\n",
       "      <th>5</th>\n",
       "      <td>2.323770</td>\n",
       "      <td>OSF</td>\n",
       "    </tr>\n",
       "  </tbody>\n",
       "</table>\n",
       "</div>"
      ],
      "text/plain": [
       "   vif_score                 feature\n",
       "0  17.240773  Rotational speed [rpm]\n",
       "1  20.858915             Torque [Nm]\n",
       "2   5.758855         Tool wear [min]\n",
       "3   1.801192                     HDF\n",
       "4   1.543080                     PWF\n",
       "5   2.323770                     OSF"
      ]
     },
     "execution_count": 28,
     "metadata": {},
     "output_type": "execute_result"
    }
   ],
   "source": [
    "get_vif(features)"
   ]
  },
  {
   "cell_type": "code",
   "execution_count": 29,
   "id": "86eb7501-5fa4-4169-93ea-db96753a53d9",
   "metadata": {},
   "outputs": [
    {
     "data": {
      "text/html": [
       "<div>\n",
       "<style scoped>\n",
       "    .dataframe tbody tr th:only-of-type {\n",
       "        vertical-align: middle;\n",
       "    }\n",
       "\n",
       "    .dataframe tbody tr th {\n",
       "        vertical-align: top;\n",
       "    }\n",
       "\n",
       "    .dataframe thead th {\n",
       "        text-align: right;\n",
       "    }\n",
       "</style>\n",
       "<table border=\"1\" class=\"dataframe\">\n",
       "  <thead>\n",
       "    <tr style=\"text-align: right;\">\n",
       "      <th></th>\n",
       "      <th>Rotational speed [rpm]</th>\n",
       "      <th>Torque [Nm]</th>\n",
       "      <th>HDF</th>\n",
       "      <th>OSF</th>\n",
       "      <th>Machine failure</th>\n",
       "    </tr>\n",
       "  </thead>\n",
       "  <tbody>\n",
       "    <tr>\n",
       "      <th>6060</th>\n",
       "      <td>1527</td>\n",
       "      <td>45.3</td>\n",
       "      <td>0</td>\n",
       "      <td>0</td>\n",
       "      <td>0</td>\n",
       "    </tr>\n",
       "    <tr>\n",
       "      <th>2422</th>\n",
       "      <td>1524</td>\n",
       "      <td>40.4</td>\n",
       "      <td>0</td>\n",
       "      <td>0</td>\n",
       "      <td>0</td>\n",
       "    </tr>\n",
       "    <tr>\n",
       "      <th>4569</th>\n",
       "      <td>1594</td>\n",
       "      <td>35.5</td>\n",
       "      <td>0</td>\n",
       "      <td>0</td>\n",
       "      <td>0</td>\n",
       "    </tr>\n",
       "    <tr>\n",
       "      <th>8237</th>\n",
       "      <td>1671</td>\n",
       "      <td>31.8</td>\n",
       "      <td>0</td>\n",
       "      <td>0</td>\n",
       "      <td>0</td>\n",
       "    </tr>\n",
       "    <tr>\n",
       "      <th>3726</th>\n",
       "      <td>1356</td>\n",
       "      <td>48.3</td>\n",
       "      <td>0</td>\n",
       "      <td>0</td>\n",
       "      <td>0</td>\n",
       "    </tr>\n",
       "    <tr>\n",
       "      <th>...</th>\n",
       "      <td>...</td>\n",
       "      <td>...</td>\n",
       "      <td>...</td>\n",
       "      <td>...</td>\n",
       "      <td>...</td>\n",
       "    </tr>\n",
       "    <tr>\n",
       "      <th>9489</th>\n",
       "      <td>1352</td>\n",
       "      <td>48.9</td>\n",
       "      <td>0</td>\n",
       "      <td>1</td>\n",
       "      <td>1</td>\n",
       "    </tr>\n",
       "    <tr>\n",
       "      <th>9583</th>\n",
       "      <td>1294</td>\n",
       "      <td>66.7</td>\n",
       "      <td>0</td>\n",
       "      <td>0</td>\n",
       "      <td>1</td>\n",
       "    </tr>\n",
       "    <tr>\n",
       "      <th>9641</th>\n",
       "      <td>1360</td>\n",
       "      <td>60.9</td>\n",
       "      <td>0</td>\n",
       "      <td>1</td>\n",
       "      <td>1</td>\n",
       "    </tr>\n",
       "    <tr>\n",
       "      <th>9649</th>\n",
       "      <td>1337</td>\n",
       "      <td>56.1</td>\n",
       "      <td>0</td>\n",
       "      <td>1</td>\n",
       "      <td>1</td>\n",
       "    </tr>\n",
       "    <tr>\n",
       "      <th>9789</th>\n",
       "      <td>1361</td>\n",
       "      <td>68.2</td>\n",
       "      <td>0</td>\n",
       "      <td>1</td>\n",
       "      <td>1</td>\n",
       "    </tr>\n",
       "  </tbody>\n",
       "</table>\n",
       "<p>572 rows × 5 columns</p>\n",
       "</div>"
      ],
      "text/plain": [
       "      Rotational speed [rpm]  Torque [Nm]  HDF  OSF  Machine failure\n",
       "6060                    1527         45.3    0    0                0\n",
       "2422                    1524         40.4    0    0                0\n",
       "4569                    1594         35.5    0    0                0\n",
       "8237                    1671         31.8    0    0                0\n",
       "3726                    1356         48.3    0    0                0\n",
       "...                      ...          ...  ...  ...              ...\n",
       "9489                    1352         48.9    0    1                1\n",
       "9583                    1294         66.7    0    0                1\n",
       "9641                    1360         60.9    0    1                1\n",
       "9649                    1337         56.1    0    1                1\n",
       "9789                    1361         68.2    0    1                1\n",
       "\n",
       "[572 rows x 5 columns]"
      ]
     },
     "execution_count": 29,
     "metadata": {},
     "output_type": "execute_result"
    }
   ],
   "source": [
    "test_df = pre_m_df.drop(labels=['Tool wear [min]', 'TWF', 'PWF'], axis=1)\n",
    "test_df"
   ]
  },
  {
   "cell_type": "code",
   "execution_count": 30,
   "id": "5ca3beb8-a444-4743-a3a5-db03d63a0f12",
   "metadata": {},
   "outputs": [],
   "source": [
    "features, targets = test_df.iloc[:, :-1], test_df.iloc[:, -1]"
   ]
  },
  {
   "cell_type": "code",
   "execution_count": 31,
   "id": "354badbc-70b0-455e-a2e4-40f94aaa622c",
   "metadata": {},
   "outputs": [
    {
     "data": {
      "text/html": [
       "<div>\n",
       "<style scoped>\n",
       "    .dataframe tbody tr th:only-of-type {\n",
       "        vertical-align: middle;\n",
       "    }\n",
       "\n",
       "    .dataframe tbody tr th {\n",
       "        vertical-align: top;\n",
       "    }\n",
       "\n",
       "    .dataframe thead th {\n",
       "        text-align: right;\n",
       "    }\n",
       "</style>\n",
       "<table border=\"1\" class=\"dataframe\">\n",
       "  <thead>\n",
       "    <tr style=\"text-align: right;\">\n",
       "      <th></th>\n",
       "      <th>vif_score</th>\n",
       "      <th>feature</th>\n",
       "    </tr>\n",
       "  </thead>\n",
       "  <tbody>\n",
       "    <tr>\n",
       "      <th>0</th>\n",
       "      <td>11.131173</td>\n",
       "      <td>Rotational speed [rpm]</td>\n",
       "    </tr>\n",
       "    <tr>\n",
       "      <th>1</th>\n",
       "      <td>14.681669</td>\n",
       "      <td>Torque [Nm]</td>\n",
       "    </tr>\n",
       "    <tr>\n",
       "      <th>2</th>\n",
       "      <td>1.572662</td>\n",
       "      <td>HDF</td>\n",
       "    </tr>\n",
       "    <tr>\n",
       "      <th>3</th>\n",
       "      <td>1.634984</td>\n",
       "      <td>OSF</td>\n",
       "    </tr>\n",
       "  </tbody>\n",
       "</table>\n",
       "</div>"
      ],
      "text/plain": [
       "   vif_score                 feature\n",
       "0  11.131173  Rotational speed [rpm]\n",
       "1  14.681669             Torque [Nm]\n",
       "2   1.572662                     HDF\n",
       "3   1.634984                     OSF"
      ]
     },
     "execution_count": 31,
     "metadata": {},
     "output_type": "execute_result"
    }
   ],
   "source": [
    "get_vif(features)"
   ]
  },
  {
   "cell_type": "code",
   "execution_count": 34,
   "id": "ff923a7d-c12a-4d27-a964-2201a17c7f3c",
   "metadata": {},
   "outputs": [
    {
     "name": "stdout",
     "output_type": "stream",
     "text": [
      "Epoch: 1000/10000\n",
      "W1: -0.3474, W2: 0.1311, W3: 0.3407, W4: -0.0259, b: 0.0\n",
      "Loss: 50.1094\n",
      "==========================================================================================\n",
      "Epoch: 2000/10000\n",
      "W1: -0.3474, W2: 0.1311, W3: 0.3407, W4: -0.0259, b: 0.0\n",
      "Loss: 50.1094\n",
      "==========================================================================================\n",
      "Epoch: 3000/10000\n",
      "W1: -0.3474, W2: 0.1311, W3: 0.3407, W4: -0.0259, b: 0.0\n",
      "Loss: 50.1094\n",
      "==========================================================================================\n",
      "Epoch: 4000/10000\n",
      "W1: -0.3474, W2: 0.1311, W3: 0.3407, W4: -0.0259, b: 0.0\n",
      "Loss: 50.1094\n",
      "==========================================================================================\n",
      "Epoch: 5000/10000\n",
      "W1: -0.3474, W2: 0.1311, W3: 0.3407, W4: -0.0259, b: 0.0\n",
      "Loss: 50.1094\n",
      "==========================================================================================\n",
      "Epoch: 6000/10000\n",
      "W1: -0.3474, W2: 0.1311, W3: 0.3407, W4: -0.0259, b: 0.0\n",
      "Loss: 50.1094\n",
      "==========================================================================================\n",
      "Epoch: 7000/10000\n",
      "W1: -0.3474, W2: 0.1311, W3: 0.3407, W4: -0.0259, b: 0.0\n",
      "Loss: 50.1094\n",
      "==========================================================================================\n",
      "Epoch: 8000/10000\n",
      "W1: -0.3474, W2: 0.1311, W3: 0.3407, W4: -0.0259, b: 0.0\n",
      "Loss: 50.1094\n",
      "==========================================================================================\n",
      "Epoch: 9000/10000\n",
      "W1: -0.3474, W2: 0.1311, W3: 0.3407, W4: -0.0259, b: 0.0\n",
      "Loss: 50.1094\n",
      "==========================================================================================\n",
      "Epoch: 10000/10000\n",
      "W1: -0.3474, W2: 0.1311, W3: 0.3407, W4: -0.0259, b: 0.0\n",
      "Loss: 50.1094\n",
      "==========================================================================================\n"
     ]
    }
   ],
   "source": [
    "import torch\n",
    "import numpy as np\n",
    "from torch.optim import SGD\n",
    "from torch.nn import Sequential, Linear, Sigmoid\n",
    "from torch.nn.functional import binary_cross_entropy\n",
    "from sklearn.model_selection import train_test_split\n",
    "\n",
    "torch.manual_seed(124)\n",
    "\n",
    "features, targets = test_df.iloc[:, :-1], test_df.iloc[:, -1]\n",
    "\n",
    "X_train, X_test, y_train, y_test = \\\n",
    "train_test_split(features, targets, stratify=targets, test_size=0.2, random_state=124)\n",
    "\n",
    "X_train = torch.FloatTensor(X_train.values)\n",
    "y_train = torch.FloatTensor(y_train.values).view(-1, 1)\n",
    "X_test = torch.FloatTensor(X_test.values)\n",
    "y_test = torch.FloatTensor(y_test.values).view(-1, 1)\n",
    "\n",
    "# print(X_train.shape, y_train.shape)\n",
    "\n",
    "logistic_r = Sequential(\n",
    "    Linear(4, 1), # 7개 input을 통해 결과 출력\n",
    "    Sigmoid(),\n",
    ")\n",
    "\n",
    "optimizer = SGD(logistic_r.parameters(), lr=1e-10)\n",
    "\n",
    "epochs = 10000\n",
    "\n",
    "for epoch in range(1, epochs + 1):\n",
    "    H = logistic_r(X_train)\n",
    "\n",
    "    loss = binary_cross_entropy(H, y_train)\n",
    "\n",
    "    optimizer.zero_grad()\n",
    "    loss.backward()\n",
    "    optimizer.step()\n",
    "\n",
    "    if epoch % 1000 == 0:\n",
    "        print(f'Epoch: {epoch}/{epochs}')\n",
    "        for i, w in enumerate(list(logistic_r.parameters())[0][0]):\n",
    "            print(f'W{i + 1}: {np.round(w.item(), 4)}', end=', ')\n",
    "        print(f'b: {np.round(list(logistic_r.parameters())[1].item())}\\nLoss: {np.round(loss.item(), 4)}')\n",
    "        print('=' * 90)"
   ]
  },
  {
   "cell_type": "code",
   "execution_count": null,
   "id": "608bf9be-ef87-4729-9793-be5e46ffefbc",
   "metadata": {},
   "outputs": [],
   "source": []
  },
  {
   "cell_type": "code",
   "execution_count": null,
   "id": "21b4729c-3a89-4203-9aef-a504e73159eb",
   "metadata": {},
   "outputs": [],
   "source": []
  },
  {
   "cell_type": "code",
   "execution_count": null,
   "id": "2616dd8b-92ec-478a-84b3-2d5670c0aed7",
   "metadata": {},
   "outputs": [],
   "source": []
  },
  {
   "cell_type": "code",
   "execution_count": null,
   "id": "b9b0cb3d-eb74-4ad6-8776-382b808c3751",
   "metadata": {},
   "outputs": [],
   "source": []
  },
  {
   "cell_type": "code",
   "execution_count": null,
   "id": "39f245d8-324f-4f28-b3bd-36abc5d141c5",
   "metadata": {},
   "outputs": [],
   "source": []
  },
  {
   "cell_type": "code",
   "execution_count": null,
   "id": "c73ba902-9390-4621-a859-b335ce26ca9b",
   "metadata": {},
   "outputs": [],
   "source": []
  },
  {
   "cell_type": "code",
   "execution_count": null,
   "id": "67c9b671-e1ca-45af-9ec4-f344e42757dc",
   "metadata": {},
   "outputs": [],
   "source": []
  },
  {
   "cell_type": "code",
   "execution_count": null,
   "id": "6cc1cbc7-e68b-4f94-a41b-26878aa0d363",
   "metadata": {},
   "outputs": [],
   "source": []
  },
  {
   "cell_type": "code",
   "execution_count": null,
   "id": "982f40b7-28f8-4d20-a5d1-c64a4e044d97",
   "metadata": {},
   "outputs": [],
   "source": []
  },
  {
   "cell_type": "code",
   "execution_count": null,
   "id": "82d7697b-0ca0-47be-8c56-8974e499950d",
   "metadata": {},
   "outputs": [],
   "source": []
  },
  {
   "cell_type": "code",
   "execution_count": null,
   "id": "d6101328-892a-4241-906c-f316da4ac9fb",
   "metadata": {},
   "outputs": [],
   "source": []
  },
  {
   "cell_type": "code",
   "execution_count": null,
   "id": "5cadc03e-b2c3-481d-b4a8-31cc02b6c5c5",
   "metadata": {},
   "outputs": [],
   "source": []
  },
  {
   "cell_type": "code",
   "execution_count": null,
   "id": "2c655a6d-612d-4fee-8b7d-fb7d647e29f3",
   "metadata": {},
   "outputs": [],
   "source": []
  },
  {
   "cell_type": "code",
   "execution_count": null,
   "id": "d8482d78-16e8-4582-a40c-f7e14b4c0700",
   "metadata": {},
   "outputs": [],
   "source": []
  },
  {
   "cell_type": "code",
   "execution_count": null,
   "id": "3d90a1b8-4992-424c-a585-1c3c29db50fa",
   "metadata": {},
   "outputs": [],
   "source": []
  },
  {
   "cell_type": "code",
   "execution_count": null,
   "id": "a9889aff-b2c2-4d7e-824b-02e2a8b4fe4f",
   "metadata": {},
   "outputs": [],
   "source": []
  },
  {
   "cell_type": "code",
   "execution_count": null,
   "id": "36f55ab3-1325-48e5-8b47-27457958d622",
   "metadata": {},
   "outputs": [],
   "source": []
  },
  {
   "cell_type": "code",
   "execution_count": null,
   "id": "672c1655-dec8-43a9-9e4b-ea88f706c953",
   "metadata": {},
   "outputs": [],
   "source": []
  },
  {
   "cell_type": "code",
   "execution_count": null,
   "id": "c5b792bf-5c0d-40ff-af0b-79f7851e2f20",
   "metadata": {},
   "outputs": [],
   "source": []
  },
  {
   "cell_type": "code",
   "execution_count": null,
   "id": "ff0048fd-c13a-4883-b36c-fc19f22bafcb",
   "metadata": {},
   "outputs": [],
   "source": []
  },
  {
   "cell_type": "code",
   "execution_count": null,
   "id": "508244e8-085f-463c-a61c-83765f973f9c",
   "metadata": {},
   "outputs": [],
   "source": []
  },
  {
   "cell_type": "code",
   "execution_count": null,
   "id": "19495ecc-f435-4127-aa26-83b992637b15",
   "metadata": {},
   "outputs": [],
   "source": []
  },
  {
   "cell_type": "code",
   "execution_count": null,
   "id": "5d5be4f3-0d20-4b24-b922-2cd86df1138b",
   "metadata": {},
   "outputs": [],
   "source": []
  },
  {
   "cell_type": "code",
   "execution_count": null,
   "id": "3278187b-61a7-4388-83dc-e70d48f4fda2",
   "metadata": {},
   "outputs": [],
   "source": []
  },
  {
   "cell_type": "code",
   "execution_count": null,
   "id": "66405ba9-ce13-4b10-bf8b-03810d0b526f",
   "metadata": {},
   "outputs": [],
   "source": []
  },
  {
   "cell_type": "code",
   "execution_count": null,
   "id": "ee521bc6-d1af-4121-826d-7b5f0df2e9b1",
   "metadata": {},
   "outputs": [],
   "source": []
  },
  {
   "cell_type": "code",
   "execution_count": null,
   "id": "b26b7ef9-5caa-4efd-8615-440225b85a06",
   "metadata": {},
   "outputs": [],
   "source": []
  },
  {
   "cell_type": "code",
   "execution_count": null,
   "id": "ddfded3a-49f2-41f0-b866-3fe0f9db26e8",
   "metadata": {},
   "outputs": [],
   "source": []
  },
  {
   "cell_type": "code",
   "execution_count": null,
   "id": "f57414f5-6466-4cdc-a582-397d6b8eb3fe",
   "metadata": {},
   "outputs": [],
   "source": []
  }
 ],
 "metadata": {
  "kernelspec": {
   "display_name": "Python 3 (ipykernel)",
   "language": "python",
   "name": "python3"
  },
  "language_info": {
   "codemirror_mode": {
    "name": "ipython",
    "version": 3
   },
   "file_extension": ".py",
   "mimetype": "text/x-python",
   "name": "python",
   "nbconvert_exporter": "python",
   "pygments_lexer": "ipython3",
   "version": "3.11.8"
  }
 },
 "nbformat": 4,
 "nbformat_minor": 5
}
