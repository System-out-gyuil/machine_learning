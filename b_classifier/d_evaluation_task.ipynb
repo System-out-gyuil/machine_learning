{
 "cells": [
  {
   "cell_type": "markdown",
   "id": "7bf85885-2057-4562-ba68-7f5f2dee5dd9",
   "metadata": {},
   "source": [
    "### Confusion Matrix Task"
   ]
  },
  {
   "cell_type": "markdown",
   "id": "6d4bf7ee-3448-466a-aed8-ad004743c11f",
   "metadata": {},
   "source": [
    "##### 가정: 고암(Abnormal) 환자와 정상(Normal) 환자를 분류하는 의료 진단 시나리오.\r\n",
    "\r\n",
    "- 양성(Positive): 고암 환자를 의미.\r\n",
    "- 음성(Negative): 정상 환자를 의미.\r\n",
    "\r\n",
    "#### 문제 1: 유방암  진단\r\n",
    "\r\n",
    ">True Positive (T 고암환자라고 예측하였는데 고암환자였을 때P  : 모델이  \r\n",
    "False Positive ( 고암환자라고 예측하였는데 고암환자가 아니었을 때FP): 모델이  \r\n",
    "True Negative  정상이라고 예측했는데 정상일 때(TN): 모델이  \r\n",
    "False Negative 정상이라고 예측했는데 고암일 때 (FN) : 모델이  \r\n",
    "\r\n",
    ">정밀도 (Pre 고암환자를 고암환자라고 한 비율cision): 모델이  \r\n",
    "재현율 (Recall): 실제  얼마나 놓치지않고 고암환자라고 하였는지고암 \n",
    "- 임계치를 낮추어 재현율을 높여 FN을 낮춰야한다\n",
    "- 고암환자가 아닌데 고암환자라고 하였을 경우(FP), 그냥 나중에 아니었구나 하고 안심하면 그만이지만,  \n",
    "  고암환자인데 정상이라고 하였을 경우엔(FN) 정상인줄 알고 살다보니 죽게된다거나 그런 경우가 생길 것이기 때문에 FN을 낮추어야 한다.\n",
    "환자 중에서 모델이  \r\n",
    "\r\n",
    "##### 가정: 정상 메일과 스팸 메일을 분류하는 스팸 메일 분류 시나리오.\r\n",
    "\r\n",
    "- 양성(Positive): 스팸 메일을 의미.\r\n",
    "- 음성(Negative): 정상 메일을 의미.\r\n",
    "\r\n",
    "#### 문제 2: 스팸 메일 필터링\r\n",
    "\r\n",
    "> T 스팸메일이라고 예측했는데 스팸메일일 때rue Positive (TP): 모델이  \r\n",
    "F 스팸메일이라고 예측했는데 정상 메일일 때alse Positive (FP): 모델이  \r",
    " 정상 메일이라고 예측했는데 정상 메일일 때\n",
    "True Negative (TN): 모델이  \r",
    " 정상메일이라고 예측했는데 스팸 메일일 때\n",
    "False Negative (FN): 모델이  스팸메일을 스팸메일이라고 한 비율 \r\n",
    "\r\n",
    "> 정밀도 (Precision): 모델이  \r\n",
    "재현 얼마나 놓치지 않고 스팸메일이라고 하였는지율 (\n",
    "- 임계치를 올려 정밀도를 높여 FP를 낮춰야 한다.\n",
    "- 정상 메일을 스팸이라고 하였으나 스팸메일일 경우(FN) 해당 스팸 메일 몇개를 직접 관리 해야 하지만,\n",
    "- 스팸메일을 정상이라고 하였는데 정상 메일일 경우(FP) 스팸이라고 판단하여 필요한 메일인데 읽지도 않고 처리되는 경우 등이 생기게 될 것이기 때문에\n",
    "- FP를 낮추어야 한다.\n",
    "Recall): 실제 스팸 메일 중에서 모델이  \r\n",
    "\r\n",
    "##### 가정: 범죄 예측 시나리오.\r\n",
    "\r\n",
    "- 양성(Positive): 범죄가 예측되는 경우 (예: 범죄가 발생함).\r\n",
    "- 음성(Negative): 범죄가 예측되지 않는 경우 (예: 범죄가 발생하지 않음).\r\n",
    "\r\n",
    "#### 문제  범죄가 발생할 것 이라 예측하였는데 실제로 발생했을 때3: 범죄 예측\r\n",
    "\r\n",
    "> True Positive 범죄가 발생할 것 이라 예측하였는데 발생하지 않았을 때 (TP): 모델이  \r\n",
    "False Positi 범죄가 발생하지 않을 것이라고 예측하였는데 발생하지 않았을 때ve (FP): 모델이  \r\n",
    "True Negati 범죄가 발생하지 않을 것이라고 예측하였는데 발생 하였을 때ve (TN): 모델이  \r\n",
    "False Nega 범죄가 발생한 것을 발생하였다고 한 비율tive (FN): 모델이  \r\n",
    "\r\n",
    "> 정밀도 (Pre 얼마나 놓치지 않고 범죄가 발생하였다고 하였는지cis\n",
    "- 임계치를 내려 재현율을 높이고 FN을 낮춰야 한다.\n",
    "- 범죄가 발생할것이라 하였는데 실제로 발생하지 않았을 경우엔(FP) 오히려 다행이지만\n",
    "- 발생하지 않을 것이라 하였는데 실제로 발생하게 되는 경우(FN) 범죄로 인하여 사고가 생기게 될 것이기 때문에 FN을 낮추어야 한다.\n",
    "ion): 모델이  \r\n",
    "재현율 (Recall): 실제 범죄 중에서 모델이  \r\n",
    "\r\n",
    "##### 가정: 검색 엔진에서 웹 페이지의 검색 결과를 분류하는 검색 품질 모델 서비스 시나리오.\r\n",
    "\r\n",
    "- 양성(Positive): 검색 결과가 사용자의 의도에 부합하는 경우 (예: 정확한 검색 결과).\r\n",
    "- 음성(Negative): 검색 결과가 사용자의 의도에 부합하지 않는 경우 (예: 부정확한 또는 불량한 검색 결과). 정확한 검색을 했다고 하였는데 정확한 검색일 때\r\n",
    "\r\n",
    "#### 문제 4: 검색 품질 모델\r\n",
    "\r\n",
    " 정확한 검색을 했다고 하였는데 정확하지 않을 때> True Positive (TP): 모델이  부정확하다고 하였는데 부정확할 때 \r\n",
    "False Positive (FP): 모델이 부정확하다고 하였는데 정확할 때  \r\n",
    "True Negative (TN): 모델 정확하게 검색한것을 정확하게 했다고 한 비율이  \r\n",
    "False Negative (FN): 모델이  \r\n",
    "\r",
    " 얼마나 놓치지 않고 정확하다고 하였는지\n",
    "> \n",
    "- 임계치를 내려 재현율을 높이고 FN를 낮춰야 한다.\n",
    "- 부정확한 검색이라 하였는데 정확한 경우엔(FN) 잘 검색하였는데도 품질이 나쁘다고 판단되는 경우가 생기기 때문에 FN을 낮추어야 한다.\n",
    "정밀도 (Precision): 모델이  \r\n",
    "재현율 (Recall): 실제로 정확한 검색 결과 중에서  \r\n",
    "\r\n",
    "##### 가정: 보안 시스템에서 침입 감지 시스템 시나리오.\r\n",
    "\r\n",
    "- 양성(Positive): 침입이 감지된 경우 (예: 보안 이벤트가 발생함).\r\n",
    "- 음성(Negative): 침입이 감지되지 않은 경우 침입을 감지했는데 실제로 침입했을 때 (예: 정상 상황).  \r\n",
    "\r\n",
    "#### 문제 5 침입을 감지했는데 침입하지 않았을 때: 침입 감지 시스템\r\n",
    "\r\n",
    "> True Posi 평시라고 하였는데 평시일 때tive (TP): 모델이  \r\n",
    "False Pos 평시라고 하였는데 침입했을 때itive (FP): 모델이  \r\n",
    "True Ne 침입을 침입한 것을 감지한 비율gative (TN): 모델이  \r\n",
    "False Nega 얼마나 놓치지 않고 침입하였다고 감지하였는지\n",
    "\n",
    "- 임계치를 내려 재현율을 높이고 FN을 낮추어야 한다.\n",
    "- 침입을 감지하였는데 실제 침입이 아닌경우(FP) 다행이라고 할 수 있지만\n",
    "- 침입이 아니라 하였는데 실제 침입인 경우(FN) 위험한 상황이 생길 수 있기 때문에 FN을 낮추어야 한다.\n",
    "ve (FN): 모델이  \r\n",
    "\r\n",
    "> 정밀도 (Precision): 모델이  \r\n",
    "재현율 (Recall): 실제 침입 중에서 모델이  "
   ]
  },
  {
   "cell_type": "code",
   "execution_count": null,
   "id": "535917f4-f9c3-46ff-880d-f3b9d9877daf",
   "metadata": {},
   "outputs": [],
   "source": []
  },
  {
   "cell_type": "code",
   "execution_count": null,
   "id": "c0fa1466-b6d1-49eb-a971-dc4ad72d649d",
   "metadata": {},
   "outputs": [],
   "source": []
  },
  {
   "cell_type": "code",
   "execution_count": null,
   "id": "3ae49a6d-e1db-4305-8192-5faed6522d44",
   "metadata": {},
   "outputs": [],
   "source": []
  },
  {
   "cell_type": "code",
   "execution_count": null,
   "id": "bb2c3efa-dd5e-474d-9e32-91542201f1bf",
   "metadata": {},
   "outputs": [],
   "source": []
  },
  {
   "cell_type": "code",
   "execution_count": null,
   "id": "26fc7a61-3f1e-47df-bf49-e1f792017d73",
   "metadata": {},
   "outputs": [],
   "source": []
  },
  {
   "cell_type": "code",
   "execution_count": null,
   "id": "496c95c7-8f64-467b-b96e-91ba3d99a36a",
   "metadata": {},
   "outputs": [],
   "source": []
  },
  {
   "cell_type": "code",
   "execution_count": null,
   "id": "48333615-e1d5-47b3-9f41-81f90959cbf5",
   "metadata": {},
   "outputs": [],
   "source": []
  },
  {
   "cell_type": "code",
   "execution_count": null,
   "id": "99d82be8-a193-4282-bdf1-dd5c238cb701",
   "metadata": {},
   "outputs": [],
   "source": []
  },
  {
   "cell_type": "code",
   "execution_count": null,
   "id": "7f5e4572-e61d-4bd4-be58-d00348c6e7b8",
   "metadata": {},
   "outputs": [],
   "source": []
  },
  {
   "cell_type": "code",
   "execution_count": null,
   "id": "01e89f5c-007b-410e-b5f1-7100d9b8888b",
   "metadata": {},
   "outputs": [],
   "source": []
  },
  {
   "cell_type": "code",
   "execution_count": null,
   "id": "9ca29375-fa69-4f83-80cf-c2b112840869",
   "metadata": {},
   "outputs": [],
   "source": []
  },
  {
   "cell_type": "code",
   "execution_count": null,
   "id": "7aeaf8ff-b9b7-4846-8c99-ddab537bc983",
   "metadata": {},
   "outputs": [],
   "source": []
  },
  {
   "cell_type": "code",
   "execution_count": null,
   "id": "690c1ead-6f0a-49e7-a787-365b33a8bcbc",
   "metadata": {},
   "outputs": [],
   "source": []
  },
  {
   "cell_type": "code",
   "execution_count": null,
   "id": "ee11c6ae-660f-452c-b813-76198f5b8948",
   "metadata": {},
   "outputs": [],
   "source": []
  },
  {
   "cell_type": "code",
   "execution_count": null,
   "id": "3dff609c-3b77-410d-a951-3d88500f16f4",
   "metadata": {},
   "outputs": [],
   "source": []
  },
  {
   "cell_type": "code",
   "execution_count": null,
   "id": "e33da5e3-4b84-4a5f-af84-e93f8aeccd33",
   "metadata": {},
   "outputs": [],
   "source": []
  }
 ],
 "metadata": {
  "kernelspec": {
   "display_name": "Python 3 (ipykernel)",
   "language": "python",
   "name": "python3"
  },
  "language_info": {
   "codemirror_mode": {
    "name": "ipython",
    "version": 3
   },
   "file_extension": ".py",
   "mimetype": "text/x-python",
   "name": "python",
   "nbconvert_exporter": "python",
   "pygments_lexer": "ipython3",
   "version": "3.11.8"
  }
 },
 "nbformat": 4,
 "nbformat_minor": 5
}
