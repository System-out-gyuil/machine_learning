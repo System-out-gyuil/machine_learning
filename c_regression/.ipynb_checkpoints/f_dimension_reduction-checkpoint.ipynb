{
 "cells": [
  {
   "cell_type": "markdown",
   "id": "d3502d0c-e21a-4129-8792-daec43dae12f",
   "metadata": {},
   "source": [
    "### Dimension Reduction (차원 축소)\r\n",
    "- 우리가 다루는 데이터들은 보통 3차원 공간에서는 표현하기 힘든 고차원의 데이터인 경우가 많다.\r\n",
    "- 차원이 커질 수록 데이터 간 거리가 크게 늘어나며, 데이터가 희소화된다.\r\n",
    "- 고차원을 이루는 feature 중 상대적으로 중요도가 떨어지는 feature가 존재할 수 있기 때문에  \r\n",
    "  계산 비용이 많이 들고 분석에 필요한 시각화가 어렵다.\r\n",
    "- 머신러닝에서는 고차원 데이터를 다루는 경우가 많으며, 희소 데이터를 학습 시 예측 성능이 좋지 않다.\r\n",
    "- 차원 축소를 통해 Spares Data를 Dense하게 만들 필요가 있다.\r\n",
    "- feature가 많을 경우 독립변수 간 상관관계가 높아질 가능성이 높고, 이로 인해 다중 공선성문제가 발생할 수 있다.\r\n",
    "- 차원 축소로 인해 표현력이 일부 손실되지만, 손실을 감수하더라도 계산 효율을 얻기 위해 사용한다.\r\n",
    "\r\n",
    "---\r\n",
    "#### PCA (Principal Component Analysis), 주성분 분석\r\n",
    "- 고차원의 데이터를 저차원으로 압축하는 대표적인 차원 축소방법이다.\r\n",
    "- 데이터의 특성을 눈으로 쉽게 파악할 수 있도록 하며, 연산 속도에 큰 이점을 얻을 수 있다.\r\n",
    "- 고차원 데이터를 저차원 데이터로 압축하기 위해서는 먼저, 데이터를 가장 잘 표현하는 축을 설정해야 한다.\r\n",
    "\r\n",
    "<div style=\"display: flex\">\r\n",
    "    <div>\r\n",
    "        <img src=\"./images/pca01.gif\" style=\"margin-left: -200px\">\r\n",
    "    </div>\r\n",
    "    <div>\r\n",
    "        <img src=\"./images/pca02.gif\" width=\"700\" style=\"margin-top:50px; margin-left: -350px\">\r\n",
    "    </div>\r\n",
    "</div>\r\n",
    "\r\n",
    "\r\n",
    "#### LDA ()"
   ]
  }
 ],
 "metadata": {
  "kernelspec": {
   "display_name": "Python 3 (ipykernel)",
   "language": "python",
   "name": "python3"
  },
  "language_info": {
   "codemirror_mode": {
    "name": "ipython",
    "version": 3
   },
   "file_extension": ".py",
   "mimetype": "text/x-python",
   "name": "python",
   "nbconvert_exporter": "python",
   "pygments_lexer": "ipython3",
   "version": "3.11.8"
  }
 },
 "nbformat": 4,
 "nbformat_minor": 5
}
