{
 "cells": [
  {
   "cell_type": "markdown",
   "id": "0137151e-e551-4b12-ab62-501e478a65e8",
   "metadata": {},
   "source": [
    "### 보험료 예측\n",
    "> https://www.kaggle.com/datasets/noordeen/insurance-premium-prediction"
   ]
  },
  {
   "cell_type": "markdown",
   "id": "a64c7201-0421-40be-a66c-9ae006f5dc7e",
   "metadata": {},
   "source": [
    "#### Features\n",
    "1. age - 나이\n",
    "2. sex - 성별\n",
    "3. bmi - bmi\n",
    "4. children - 자식 수\n",
    "5. smoker - 습연 여부\n",
    "6. region - 지역\n",
    "7. expense - 금액(target)"
   ]
  },
  {
   "cell_type": "code",
   "execution_count": 1,
   "id": "496c61c6-8250-47ba-9975-faedc0b5da70",
   "metadata": {},
   "outputs": [
    {
     "data": {
      "text/html": [
       "<div>\n",
       "<style scoped>\n",
       "    .dataframe tbody tr th:only-of-type {\n",
       "        vertical-align: middle;\n",
       "    }\n",
       "\n",
       "    .dataframe tbody tr th {\n",
       "        vertical-align: top;\n",
       "    }\n",
       "\n",
       "    .dataframe thead th {\n",
       "        text-align: right;\n",
       "    }\n",
       "</style>\n",
       "<table border=\"1\" class=\"dataframe\">\n",
       "  <thead>\n",
       "    <tr style=\"text-align: right;\">\n",
       "      <th></th>\n",
       "      <th>age</th>\n",
       "      <th>sex</th>\n",
       "      <th>bmi</th>\n",
       "      <th>children</th>\n",
       "      <th>smoker</th>\n",
       "      <th>region</th>\n",
       "      <th>expenses</th>\n",
       "    </tr>\n",
       "  </thead>\n",
       "  <tbody>\n",
       "    <tr>\n",
       "      <th>0</th>\n",
       "      <td>19</td>\n",
       "      <td>female</td>\n",
       "      <td>27.9</td>\n",
       "      <td>0</td>\n",
       "      <td>yes</td>\n",
       "      <td>southwest</td>\n",
       "      <td>16884.92</td>\n",
       "    </tr>\n",
       "    <tr>\n",
       "      <th>1</th>\n",
       "      <td>18</td>\n",
       "      <td>male</td>\n",
       "      <td>33.8</td>\n",
       "      <td>1</td>\n",
       "      <td>no</td>\n",
       "      <td>southeast</td>\n",
       "      <td>1725.55</td>\n",
       "    </tr>\n",
       "    <tr>\n",
       "      <th>2</th>\n",
       "      <td>28</td>\n",
       "      <td>male</td>\n",
       "      <td>33.0</td>\n",
       "      <td>3</td>\n",
       "      <td>no</td>\n",
       "      <td>southeast</td>\n",
       "      <td>4449.46</td>\n",
       "    </tr>\n",
       "    <tr>\n",
       "      <th>3</th>\n",
       "      <td>33</td>\n",
       "      <td>male</td>\n",
       "      <td>22.7</td>\n",
       "      <td>0</td>\n",
       "      <td>no</td>\n",
       "      <td>northwest</td>\n",
       "      <td>21984.47</td>\n",
       "    </tr>\n",
       "    <tr>\n",
       "      <th>4</th>\n",
       "      <td>32</td>\n",
       "      <td>male</td>\n",
       "      <td>28.9</td>\n",
       "      <td>0</td>\n",
       "      <td>no</td>\n",
       "      <td>northwest</td>\n",
       "      <td>3866.86</td>\n",
       "    </tr>\n",
       "    <tr>\n",
       "      <th>...</th>\n",
       "      <td>...</td>\n",
       "      <td>...</td>\n",
       "      <td>...</td>\n",
       "      <td>...</td>\n",
       "      <td>...</td>\n",
       "      <td>...</td>\n",
       "      <td>...</td>\n",
       "    </tr>\n",
       "    <tr>\n",
       "      <th>1333</th>\n",
       "      <td>50</td>\n",
       "      <td>male</td>\n",
       "      <td>31.0</td>\n",
       "      <td>3</td>\n",
       "      <td>no</td>\n",
       "      <td>northwest</td>\n",
       "      <td>10600.55</td>\n",
       "    </tr>\n",
       "    <tr>\n",
       "      <th>1334</th>\n",
       "      <td>18</td>\n",
       "      <td>female</td>\n",
       "      <td>31.9</td>\n",
       "      <td>0</td>\n",
       "      <td>no</td>\n",
       "      <td>northeast</td>\n",
       "      <td>2205.98</td>\n",
       "    </tr>\n",
       "    <tr>\n",
       "      <th>1335</th>\n",
       "      <td>18</td>\n",
       "      <td>female</td>\n",
       "      <td>36.9</td>\n",
       "      <td>0</td>\n",
       "      <td>no</td>\n",
       "      <td>southeast</td>\n",
       "      <td>1629.83</td>\n",
       "    </tr>\n",
       "    <tr>\n",
       "      <th>1336</th>\n",
       "      <td>21</td>\n",
       "      <td>female</td>\n",
       "      <td>25.8</td>\n",
       "      <td>0</td>\n",
       "      <td>no</td>\n",
       "      <td>southwest</td>\n",
       "      <td>2007.95</td>\n",
       "    </tr>\n",
       "    <tr>\n",
       "      <th>1337</th>\n",
       "      <td>61</td>\n",
       "      <td>female</td>\n",
       "      <td>29.1</td>\n",
       "      <td>0</td>\n",
       "      <td>yes</td>\n",
       "      <td>northwest</td>\n",
       "      <td>29141.36</td>\n",
       "    </tr>\n",
       "  </tbody>\n",
       "</table>\n",
       "<p>1338 rows × 7 columns</p>\n",
       "</div>"
      ],
      "text/plain": [
       "      age     sex   bmi  children smoker     region  expenses\n",
       "0      19  female  27.9         0    yes  southwest  16884.92\n",
       "1      18    male  33.8         1     no  southeast   1725.55\n",
       "2      28    male  33.0         3     no  southeast   4449.46\n",
       "3      33    male  22.7         0     no  northwest  21984.47\n",
       "4      32    male  28.9         0     no  northwest   3866.86\n",
       "...   ...     ...   ...       ...    ...        ...       ...\n",
       "1333   50    male  31.0         3     no  northwest  10600.55\n",
       "1334   18  female  31.9         0     no  northeast   2205.98\n",
       "1335   18  female  36.9         0     no  southeast   1629.83\n",
       "1336   21  female  25.8         0     no  southwest   2007.95\n",
       "1337   61  female  29.1         0    yes  northwest  29141.36\n",
       "\n",
       "[1338 rows x 7 columns]"
      ]
     },
     "execution_count": 1,
     "metadata": {},
     "output_type": "execute_result"
    }
   ],
   "source": [
    "import pandas as pd\n",
    "\n",
    "i_df_origin = pd.read_csv('./datasets/insurance.csv')\n",
    "i_df = i_df_origin.copy()\n",
    "i_df"
   ]
  },
  {
   "cell_type": "code",
   "execution_count": 2,
   "id": "9e499323-8349-4608-aab0-ca52caef2c33",
   "metadata": {},
   "outputs": [
    {
     "name": "stdout",
     "output_type": "stream",
     "text": [
      "<class 'pandas.core.frame.DataFrame'>\n",
      "RangeIndex: 1338 entries, 0 to 1337\n",
      "Data columns (total 7 columns):\n",
      " #   Column    Non-Null Count  Dtype  \n",
      "---  ------    --------------  -----  \n",
      " 0   age       1338 non-null   int64  \n",
      " 1   sex       1338 non-null   object \n",
      " 2   bmi       1338 non-null   float64\n",
      " 3   children  1338 non-null   int64  \n",
      " 4   smoker    1338 non-null   object \n",
      " 5   region    1338 non-null   object \n",
      " 6   expenses  1338 non-null   float64\n",
      "dtypes: float64(2), int64(2), object(3)\n",
      "memory usage: 73.3+ KB\n"
     ]
    }
   ],
   "source": [
    "i_df.info()"
   ]
  },
  {
   "cell_type": "markdown",
   "id": "ae8bec7f-6ff4-42ce-a83b-2759626c66bb",
   "metadata": {},
   "source": [
    "- 결측치 확인"
   ]
  },
  {
   "cell_type": "code",
   "execution_count": 3,
   "id": "1d747928-27d2-4d72-aa7c-a497bbd3d64f",
   "metadata": {},
   "outputs": [
    {
     "data": {
      "text/plain": [
       "age         0\n",
       "sex         0\n",
       "bmi         0\n",
       "children    0\n",
       "smoker      0\n",
       "region      0\n",
       "expenses    0\n",
       "dtype: int64"
      ]
     },
     "execution_count": 3,
     "metadata": {},
     "output_type": "execute_result"
    }
   ],
   "source": [
    "i_df.isna().sum(0)"
   ]
  },
  {
   "cell_type": "markdown",
   "id": "50a8e29d-e926-4826-9db7-0163083aecdc",
   "metadata": {},
   "source": [
    "- 중복행 확인"
   ]
  },
  {
   "cell_type": "code",
   "execution_count": 4,
   "id": "61a26bfc-88f4-4615-a952-28bc4cbb0e72",
   "metadata": {},
   "outputs": [
    {
     "data": {
      "text/plain": [
       "1"
      ]
     },
     "execution_count": 4,
     "metadata": {},
     "output_type": "execute_result"
    }
   ],
   "source": [
    "i_df.duplicated().sum()"
   ]
  },
  {
   "cell_type": "markdown",
   "id": "788e6b37-3720-4b59-97cb-6e8690f79b6d",
   "metadata": {},
   "source": [
    "- 중복행 제거"
   ]
  },
  {
   "cell_type": "code",
   "execution_count": 5,
   "id": "d01f6a93-5d1a-4a26-8d75-18cb1919f9e1",
   "metadata": {},
   "outputs": [],
   "source": [
    "i_df = i_df.drop_duplicates()"
   ]
  },
  {
   "cell_type": "code",
   "execution_count": 6,
   "id": "6ac42ebb-dbb8-4695-8618-6bb4c732ebce",
   "metadata": {},
   "outputs": [
    {
     "data": {
      "text/plain": [
       "0"
      ]
     },
     "execution_count": 6,
     "metadata": {},
     "output_type": "execute_result"
    }
   ],
   "source": [
    "i_df.duplicated().sum()"
   ]
  },
  {
   "cell_type": "code",
   "execution_count": 7,
   "id": "22a4ea88-6189-4d48-ad3f-2432e19ece4e",
   "metadata": {},
   "outputs": [
    {
     "data": {
      "text/plain": [
       "children\n",
       "0    573\n",
       "1    324\n",
       "2    240\n",
       "3    157\n",
       "4     25\n",
       "5     18\n",
       "Name: count, dtype: int64"
      ]
     },
     "execution_count": 7,
     "metadata": {},
     "output_type": "execute_result"
    }
   ],
   "source": [
    "i_df.children.value_counts()"
   ]
  },
  {
   "cell_type": "code",
   "execution_count": 8,
   "id": "4435bbb8-fa97-4180-8337-bb35a49c7fee",
   "metadata": {},
   "outputs": [
    {
     "data": {
      "text/plain": [
       "smoker\n",
       "no     1063\n",
       "yes     274\n",
       "Name: count, dtype: int64"
      ]
     },
     "execution_count": 8,
     "metadata": {},
     "output_type": "execute_result"
    }
   ],
   "source": [
    "i_df.smoker.value_counts()"
   ]
  },
  {
   "cell_type": "code",
   "execution_count": 9,
   "id": "e0aab215-1036-4de8-bf70-92557f91b313",
   "metadata": {},
   "outputs": [
    {
     "data": {
      "text/plain": [
       "region\n",
       "southeast    364\n",
       "southwest    325\n",
       "northwest    324\n",
       "northeast    324\n",
       "Name: count, dtype: int64"
      ]
     },
     "execution_count": 9,
     "metadata": {},
     "output_type": "execute_result"
    }
   ],
   "source": [
    "i_df.region.value_counts()"
   ]
  },
  {
   "cell_type": "code",
   "execution_count": 10,
   "id": "1522840d-4dc9-4f33-b44b-9cc48e88f061",
   "metadata": {},
   "outputs": [
    {
     "data": {
      "text/plain": [
       "sex\n",
       "male      675\n",
       "female    662\n",
       "Name: count, dtype: int64"
      ]
     },
     "execution_count": 10,
     "metadata": {},
     "output_type": "execute_result"
    }
   ],
   "source": [
    "i_df.sex.value_counts()"
   ]
  },
  {
   "cell_type": "code",
   "execution_count": 11,
   "id": "a8be83f2-6c01-4459-bd5d-02efecf5982b",
   "metadata": {},
   "outputs": [
    {
     "data": {
      "text/html": [
       "<div>\n",
       "<style scoped>\n",
       "    .dataframe tbody tr th:only-of-type {\n",
       "        vertical-align: middle;\n",
       "    }\n",
       "\n",
       "    .dataframe tbody tr th {\n",
       "        vertical-align: top;\n",
       "    }\n",
       "\n",
       "    .dataframe thead th {\n",
       "        text-align: right;\n",
       "    }\n",
       "</style>\n",
       "<table border=\"1\" class=\"dataframe\">\n",
       "  <thead>\n",
       "    <tr style=\"text-align: right;\">\n",
       "      <th></th>\n",
       "      <th>age</th>\n",
       "      <th>bmi</th>\n",
       "      <th>children</th>\n",
       "      <th>expenses</th>\n",
       "    </tr>\n",
       "  </thead>\n",
       "  <tbody>\n",
       "    <tr>\n",
       "      <th>0</th>\n",
       "      <td>19</td>\n",
       "      <td>27.9</td>\n",
       "      <td>0</td>\n",
       "      <td>16884.92</td>\n",
       "    </tr>\n",
       "    <tr>\n",
       "      <th>1</th>\n",
       "      <td>18</td>\n",
       "      <td>33.8</td>\n",
       "      <td>1</td>\n",
       "      <td>1725.55</td>\n",
       "    </tr>\n",
       "    <tr>\n",
       "      <th>2</th>\n",
       "      <td>28</td>\n",
       "      <td>33.0</td>\n",
       "      <td>3</td>\n",
       "      <td>4449.46</td>\n",
       "    </tr>\n",
       "    <tr>\n",
       "      <th>3</th>\n",
       "      <td>33</td>\n",
       "      <td>22.7</td>\n",
       "      <td>0</td>\n",
       "      <td>21984.47</td>\n",
       "    </tr>\n",
       "    <tr>\n",
       "      <th>4</th>\n",
       "      <td>32</td>\n",
       "      <td>28.9</td>\n",
       "      <td>0</td>\n",
       "      <td>3866.86</td>\n",
       "    </tr>\n",
       "    <tr>\n",
       "      <th>...</th>\n",
       "      <td>...</td>\n",
       "      <td>...</td>\n",
       "      <td>...</td>\n",
       "      <td>...</td>\n",
       "    </tr>\n",
       "    <tr>\n",
       "      <th>1333</th>\n",
       "      <td>50</td>\n",
       "      <td>31.0</td>\n",
       "      <td>3</td>\n",
       "      <td>10600.55</td>\n",
       "    </tr>\n",
       "    <tr>\n",
       "      <th>1334</th>\n",
       "      <td>18</td>\n",
       "      <td>31.9</td>\n",
       "      <td>0</td>\n",
       "      <td>2205.98</td>\n",
       "    </tr>\n",
       "    <tr>\n",
       "      <th>1335</th>\n",
       "      <td>18</td>\n",
       "      <td>36.9</td>\n",
       "      <td>0</td>\n",
       "      <td>1629.83</td>\n",
       "    </tr>\n",
       "    <tr>\n",
       "      <th>1336</th>\n",
       "      <td>21</td>\n",
       "      <td>25.8</td>\n",
       "      <td>0</td>\n",
       "      <td>2007.95</td>\n",
       "    </tr>\n",
       "    <tr>\n",
       "      <th>1337</th>\n",
       "      <td>61</td>\n",
       "      <td>29.1</td>\n",
       "      <td>0</td>\n",
       "      <td>29141.36</td>\n",
       "    </tr>\n",
       "  </tbody>\n",
       "</table>\n",
       "<p>1337 rows × 4 columns</p>\n",
       "</div>"
      ],
      "text/plain": [
       "      age   bmi  children  expenses\n",
       "0      19  27.9         0  16884.92\n",
       "1      18  33.8         1   1725.55\n",
       "2      28  33.0         3   4449.46\n",
       "3      33  22.7         0  21984.47\n",
       "4      32  28.9         0   3866.86\n",
       "...   ...   ...       ...       ...\n",
       "1333   50  31.0         3  10600.55\n",
       "1334   18  31.9         0   2205.98\n",
       "1335   18  36.9         0   1629.83\n",
       "1336   21  25.8         0   2007.95\n",
       "1337   61  29.1         0  29141.36\n",
       "\n",
       "[1337 rows x 4 columns]"
      ]
     },
     "execution_count": 11,
     "metadata": {},
     "output_type": "execute_result"
    }
   ],
   "source": [
    "pre_i_df = i_df.loc[:, ['age', 'bmi', 'children', 'expenses']]\n",
    "pre_i_df"
   ]
  },
  {
   "cell_type": "code",
   "execution_count": 12,
   "id": "95fe970e-75f0-4e4f-b936-69ee7e05128c",
   "metadata": {},
   "outputs": [
    {
     "data": {
      "text/plain": [
       "array([[<Axes: title={'center': 'age'}>, <Axes: title={'center': 'bmi'}>],\n",
       "       [<Axes: title={'center': 'children'}>,\n",
       "        <Axes: title={'center': 'expenses'}>]], dtype=object)"
      ]
     },
     "execution_count": 12,
     "metadata": {},
     "output_type": "execute_result"
    },
    {
     "data": {
      "image/png": "[encoded data removed]",
      "text/plain": [
       "<Figure size 640x480 with 4 Axes>"
      ]
     },
     "metadata": {},
     "output_type": "display_data"
    }
   ],
   "source": [
    "pre_i_df.hist()"
   ]
  },
  {
   "cell_type": "code",
   "execution_count": 13,
   "id": "c923f998-7547-478f-9d7a-9164274ef0b0",
   "metadata": {},
   "outputs": [],
   "source": [
    "import numpy as np\n",
    "from sklearn.metrics import mean_squared_log_error, mean_squared_error, r2_score\n",
    "\n",
    "def get_evaluation(y_test, prediction):\n",
    "    MSE = mean_squared_error(y_test, prediction)\n",
    "    RMSE = np.sqrt(MSE)\n",
    "    MSLE = mean_squared_log_error(y_test, prediction)\n",
    "    RMSLE = np.sqrt(mean_squared_log_error(y_test, prediction))\n",
    "    R2 = r2_score(y_test, prediction)\n",
    "    print('MSE: {:.4f}, RMSE: {:.4f}, MSLE: {:.4f}, RMSLE: {:.4f}, R2: {:.4f}'\\\n",
    "          .format(MSE, RMSE, MSLE, RMSLE, R2))"
   ]
  },
  {
   "cell_type": "markdown",
   "id": "64c82819-f45d-4c3f-a586-133d0b1da783",
   "metadata": {},
   "source": [
    "- LinearRegression"
   ]
  },
  {
   "cell_type": "code",
   "execution_count": 14,
   "id": "b46fe36c-52dc-4b62-bdd5-69ccc2169fe9",
   "metadata": {},
   "outputs": [
    {
     "data": {
      "text/html": [
       "<style>#sk-container-id-1 {color: black;background-color: white;}#sk-container-id-1 pre{padding: 0;}#sk-container-id-1 div.sk-toggleable {background-color: white;}#sk-container-id-1 label.sk-toggleable__label {cursor: pointer;display: block;width: 100%;margin-bottom: 0;padding: 0.3em;box-sizing: border-box;text-align: center;}#sk-container-id-1 label.sk-toggleable__label-arrow:before {content: \"▸\";float: left;margin-right: 0.25em;color: #696969;}#sk-container-id-1 label.sk-toggleable__label-arrow:hover:before {color: black;}#sk-container-id-1 div.sk-estimator:hover label.sk-toggleable__label-arrow:before {color: black;}#sk-container-id-1 div.sk-toggleable__content {max-height: 0;max-width: 0;overflow: hidden;text-align: left;background-color: #f0f8ff;}#sk-container-id-1 div.sk-toggleable__content pre {margin: 0.2em;color: black;border-radius: 0.25em;background-color: #f0f8ff;}#sk-container-id-1 input.sk-toggleable__control:checked~div.sk-toggleable__content {max-height: 200px;max-width: 100%;overflow: auto;}#sk-container-id-1 input.sk-toggleable__control:checked~label.sk-toggleable__label-arrow:before {content: \"▾\";}#sk-container-id-1 div.sk-estimator input.sk-toggleable__control:checked~label.sk-toggleable__label {background-color: #d4ebff;}#sk-container-id-1 div.sk-label input.sk-toggleable__control:checked~label.sk-toggleable__label {background-color: #d4ebff;}#sk-container-id-1 input.sk-hidden--visually {border: 0;clip: rect(1px 1px 1px 1px);clip: rect(1px, 1px, 1px, 1px);height: 1px;margin: -1px;overflow: hidden;padding: 0;position: absolute;width: 1px;}#sk-container-id-1 div.sk-estimator {font-family: monospace;background-color: #f0f8ff;border: 1px dotted black;border-radius: 0.25em;box-sizing: border-box;margin-bottom: 0.5em;}#sk-container-id-1 div.sk-estimator:hover {background-color: #d4ebff;}#sk-container-id-1 div.sk-parallel-item::after {content: \"\";width: 100%;border-bottom: 1px solid gray;flex-grow: 1;}#sk-container-id-1 div.sk-label:hover label.sk-toggleable__label {background-color: #d4ebff;}#sk-container-id-1 div.sk-serial::before {content: \"\";position: absolute;border-left: 1px solid gray;box-sizing: border-box;top: 0;bottom: 0;left: 50%;z-index: 0;}#sk-container-id-1 div.sk-serial {display: flex;flex-direction: column;align-items: center;background-color: white;padding-right: 0.2em;padding-left: 0.2em;position: relative;}#sk-container-id-1 div.sk-item {position: relative;z-index: 1;}#sk-container-id-1 div.sk-parallel {display: flex;align-items: stretch;justify-content: center;background-color: white;position: relative;}#sk-container-id-1 div.sk-item::before, #sk-container-id-1 div.sk-parallel-item::before {content: \"\";position: absolute;border-left: 1px solid gray;box-sizing: border-box;top: 0;bottom: 0;left: 50%;z-index: -1;}#sk-container-id-1 div.sk-parallel-item {display: flex;flex-direction: column;z-index: 1;position: relative;background-color: white;}#sk-container-id-1 div.sk-parallel-item:first-child::after {align-self: flex-end;width: 50%;}#sk-container-id-1 div.sk-parallel-item:last-child::after {align-self: flex-start;width: 50%;}#sk-container-id-1 div.sk-parallel-item:only-child::after {width: 0;}#sk-container-id-1 div.sk-dashed-wrapped {border: 1px dashed gray;margin: 0 0.4em 0.5em 0.4em;box-sizing: border-box;padding-bottom: 0.4em;background-color: white;}#sk-container-id-1 div.sk-label label {font-family: monospace;font-weight: bold;display: inline-block;line-height: 1.2em;}#sk-container-id-1 div.sk-label-container {text-align: center;}#sk-container-id-1 div.sk-container {/* jupyter's `normalize.less` sets `[hidden] { display: none; }` but bootstrap.min.css set `[hidden] { display: none !important; }` so we also need the `!important` here to be able to override the default hidden behavior on the sphinx rendered scikit-learn.org. See: https://github.com/scikit-learn/scikit-learn/issues/21755 */display: inline-block !important;position: relative;}#sk-container-id-1 div.sk-text-repr-fallback {display: none;}</style><div id=\"sk-container-id-1\" class=\"sk-top-container\"><div class=\"sk-text-repr-fallback\"><pre>LinearRegression()</pre><b>In a Jupyter environment, please rerun this cell to show the HTML representation or trust the notebook. <br />On GitHub, the HTML representation is unable to render, please try loading this page with nbviewer.org.</b></div><div class=\"sk-container\" hidden><div class=\"sk-item\"><div class=\"sk-estimator sk-toggleable\"><input class=\"sk-toggleable__control sk-hidden--visually\" id=\"sk-estimator-id-1\" type=\"checkbox\" checked><label for=\"sk-estimator-id-1\" class=\"sk-toggleable__label sk-toggleable__label-arrow\">LinearRegression</label><div class=\"sk-toggleable__content\"><pre>LinearRegression()</pre></div></div></div></div></div>"
      ],
      "text/plain": [
       "LinearRegression()"
      ]
     },
     "execution_count": 14,
     "metadata": {},
     "output_type": "execute_result"
    }
   ],
   "source": [
    "from sklearn.model_selection import train_test_split\n",
    "from sklearn.linear_model import LinearRegression\n",
    "\n",
    "features, targets = pre_i_df.iloc[:, :-1], pre_i_df.iloc[:, -1]\n",
    "\n",
    "X_train, X_test, y_train, y_test = \\\n",
    "train_test_split(features, targets, test_size=0.2, random_state=124)\n",
    "\n",
    "l_r = LinearRegression()\n",
    "l_r.fit(X_train, y_train)"
   ]
  },
  {
   "cell_type": "code",
   "execution_count": 15,
   "id": "21e4da8b-669d-42b4-abe2-01cd01770d6a",
   "metadata": {},
   "outputs": [
    {
     "name": "stdout",
     "output_type": "stream",
     "text": [
      "MSE: 139834077.0931, RMSE: 11825.1460, MSLE: 0.7987, RMSLE: 0.8937, R2: 0.1234\n"
     ]
    }
   ],
   "source": [
    "prediction = l_r.predict(X_test)\n",
    "get_evaluation(y_test, prediction)"
   ]
  },
  {
   "cell_type": "markdown",
   "id": "28ec0ad3-80dc-46b4-9e72-bfd82676a5cb",
   "metadata": {},
   "source": [
    "- PolynomialFeatures"
   ]
  },
  {
   "cell_type": "code",
   "execution_count": 16,
   "id": "d8331e34-0e01-4e42-9d19-78c365908cae",
   "metadata": {},
   "outputs": [
    {
     "data": {
      "text/html": [
       "<style>#sk-container-id-2 {color: black;background-color: white;}#sk-container-id-2 pre{padding: 0;}#sk-container-id-2 div.sk-toggleable {background-color: white;}#sk-container-id-2 label.sk-toggleable__label {cursor: pointer;display: block;width: 100%;margin-bottom: 0;padding: 0.3em;box-sizing: border-box;text-align: center;}#sk-container-id-2 label.sk-toggleable__label-arrow:before {content: \"▸\";float: left;margin-right: 0.25em;color: #696969;}#sk-container-id-2 label.sk-toggleable__label-arrow:hover:before {color: black;}#sk-container-id-2 div.sk-estimator:hover label.sk-toggleable__label-arrow:before {color: black;}#sk-container-id-2 div.sk-toggleable__content {max-height: 0;max-width: 0;overflow: hidden;text-align: left;background-color: #f0f8ff;}#sk-container-id-2 div.sk-toggleable__content pre {margin: 0.2em;color: black;border-radius: 0.25em;background-color: #f0f8ff;}#sk-container-id-2 input.sk-toggleable__control:checked~div.sk-toggleable__content {max-height: 200px;max-width: 100%;overflow: auto;}#sk-container-id-2 input.sk-toggleable__control:checked~label.sk-toggleable__label-arrow:before {content: \"▾\";}#sk-container-id-2 div.sk-estimator input.sk-toggleable__control:checked~label.sk-toggleable__label {background-color: #d4ebff;}#sk-container-id-2 div.sk-label input.sk-toggleable__control:checked~label.sk-toggleable__label {background-color: #d4ebff;}#sk-container-id-2 input.sk-hidden--visually {border: 0;clip: rect(1px 1px 1px 1px);clip: rect(1px, 1px, 1px, 1px);height: 1px;margin: -1px;overflow: hidden;padding: 0;position: absolute;width: 1px;}#sk-container-id-2 div.sk-estimator {font-family: monospace;background-color: #f0f8ff;border: 1px dotted black;border-radius: 0.25em;box-sizing: border-box;margin-bottom: 0.5em;}#sk-container-id-2 div.sk-estimator:hover {background-color: #d4ebff;}#sk-container-id-2 div.sk-parallel-item::after {content: \"\";width: 100%;border-bottom: 1px solid gray;flex-grow: 1;}#sk-container-id-2 div.sk-label:hover label.sk-toggleable__label {background-color: #d4ebff;}#sk-container-id-2 div.sk-serial::before {content: \"\";position: absolute;border-left: 1px solid gray;box-sizing: border-box;top: 0;bottom: 0;left: 50%;z-index: 0;}#sk-container-id-2 div.sk-serial {display: flex;flex-direction: column;align-items: center;background-color: white;padding-right: 0.2em;padding-left: 0.2em;position: relative;}#sk-container-id-2 div.sk-item {position: relative;z-index: 1;}#sk-container-id-2 div.sk-parallel {display: flex;align-items: stretch;justify-content: center;background-color: white;position: relative;}#sk-container-id-2 div.sk-item::before, #sk-container-id-2 div.sk-parallel-item::before {content: \"\";position: absolute;border-left: 1px solid gray;box-sizing: border-box;top: 0;bottom: 0;left: 50%;z-index: -1;}#sk-container-id-2 div.sk-parallel-item {display: flex;flex-direction: column;z-index: 1;position: relative;background-color: white;}#sk-container-id-2 div.sk-parallel-item:first-child::after {align-self: flex-end;width: 50%;}#sk-container-id-2 div.sk-parallel-item:last-child::after {align-self: flex-start;width: 50%;}#sk-container-id-2 div.sk-parallel-item:only-child::after {width: 0;}#sk-container-id-2 div.sk-dashed-wrapped {border: 1px dashed gray;margin: 0 0.4em 0.5em 0.4em;box-sizing: border-box;padding-bottom: 0.4em;background-color: white;}#sk-container-id-2 div.sk-label label {font-family: monospace;font-weight: bold;display: inline-block;line-height: 1.2em;}#sk-container-id-2 div.sk-label-container {text-align: center;}#sk-container-id-2 div.sk-container {/* jupyter's `normalize.less` sets `[hidden] { display: none; }` but bootstrap.min.css set `[hidden] { display: none !important; }` so we also need the `!important` here to be able to override the default hidden behavior on the sphinx rendered scikit-learn.org. See: https://github.com/scikit-learn/scikit-learn/issues/21755 */display: inline-block !important;position: relative;}#sk-container-id-2 div.sk-text-repr-fallback {display: none;}</style><div id=\"sk-container-id-2\" class=\"sk-top-container\"><div class=\"sk-text-repr-fallback\"><pre>LinearRegression()</pre><b>In a Jupyter environment, please rerun this cell to show the HTML representation or trust the notebook. <br />On GitHub, the HTML representation is unable to render, please try loading this page with nbviewer.org.</b></div><div class=\"sk-container\" hidden><div class=\"sk-item\"><div class=\"sk-estimator sk-toggleable\"><input class=\"sk-toggleable__control sk-hidden--visually\" id=\"sk-estimator-id-2\" type=\"checkbox\" checked><label for=\"sk-estimator-id-2\" class=\"sk-toggleable__label sk-toggleable__label-arrow\">LinearRegression</label><div class=\"sk-toggleable__content\"><pre>LinearRegression()</pre></div></div></div></div></div>"
      ],
      "text/plain": [
       "LinearRegression()"
      ]
     },
     "execution_count": 16,
     "metadata": {},
     "output_type": "execute_result"
    }
   ],
   "source": [
    "import numpy as np\n",
    "from sklearn.linear_model import LinearRegression\n",
    "from sklearn.model_selection import train_test_split\n",
    "from sklearn.preprocessing import PolynomialFeatures\n",
    "\n",
    "features, targets = pre_i_df.iloc[:, :-1], pre_i_df.iloc[:, -1]\n",
    "\n",
    "poly_features = PolynomialFeatures(degree=2).fit_transform(features)\n",
    "\n",
    "X_train, X_test, y_train, y_test = \\\n",
    "train_test_split(poly_features, targets, test_size=0.2, random_state=124)\n",
    "\n",
    "l_r = LinearRegression()\n",
    "l_r.fit(X_train, y_train)"
   ]
  },
  {
   "cell_type": "code",
   "execution_count": 17,
   "id": "5e02f97e-ae28-4bb3-b742-8387c49d0333",
   "metadata": {},
   "outputs": [
    {
     "name": "stdout",
     "output_type": "stream",
     "text": [
      "MSE: 140795243.3328, RMSE: 11865.7171, MSLE: 0.8100, RMSLE: 0.9000, R2: 0.1174\n"
     ]
    }
   ],
   "source": [
    "prediction = l_r.predict(X_test)\n",
    "get_evaluation(y_test, prediction)"
   ]
  },
  {
   "cell_type": "markdown",
   "id": "a80d86ed-9ca0-49c0-ae7e-cf9019a69467",
   "metadata": {},
   "source": [
    "#### R2스코어가 0.1정도밖에 되지 않아 우선 타겟데이터의 분포가 맞지 않는것을 확인하여서 타겟데이터 로그변환"
   ]
  },
  {
   "cell_type": "code",
   "execution_count": 18,
   "id": "a6081be0-b854-4d41-819a-73bbcf95c250",
   "metadata": {},
   "outputs": [],
   "source": [
    "import numpy as np\n",
    "\n",
    "pre_i_df.loc[:, 'expenses'] = np.log1p(pre_i_df.expenses)"
   ]
  },
  {
   "cell_type": "code",
   "execution_count": 19,
   "id": "6a46e19c-f863-47f5-989c-130919a8ef4b",
   "metadata": {},
   "outputs": [
    {
     "data": {
      "text/html": [
       "<style>#sk-container-id-3 {color: black;background-color: white;}#sk-container-id-3 pre{padding: 0;}#sk-container-id-3 div.sk-toggleable {background-color: white;}#sk-container-id-3 label.sk-toggleable__label {cursor: pointer;display: block;width: 100%;margin-bottom: 0;padding: 0.3em;box-sizing: border-box;text-align: center;}#sk-container-id-3 label.sk-toggleable__label-arrow:before {content: \"▸\";float: left;margin-right: 0.25em;color: #696969;}#sk-container-id-3 label.sk-toggleable__label-arrow:hover:before {color: black;}#sk-container-id-3 div.sk-estimator:hover label.sk-toggleable__label-arrow:before {color: black;}#sk-container-id-3 div.sk-toggleable__content {max-height: 0;max-width: 0;overflow: hidden;text-align: left;background-color: #f0f8ff;}#sk-container-id-3 div.sk-toggleable__content pre {margin: 0.2em;color: black;border-radius: 0.25em;background-color: #f0f8ff;}#sk-container-id-3 input.sk-toggleable__control:checked~div.sk-toggleable__content {max-height: 200px;max-width: 100%;overflow: auto;}#sk-container-id-3 input.sk-toggleable__control:checked~label.sk-toggleable__label-arrow:before {content: \"▾\";}#sk-container-id-3 div.sk-estimator input.sk-toggleable__control:checked~label.sk-toggleable__label {background-color: #d4ebff;}#sk-container-id-3 div.sk-label input.sk-toggleable__control:checked~label.sk-toggleable__label {background-color: #d4ebff;}#sk-container-id-3 input.sk-hidden--visually {border: 0;clip: rect(1px 1px 1px 1px);clip: rect(1px, 1px, 1px, 1px);height: 1px;margin: -1px;overflow: hidden;padding: 0;position: absolute;width: 1px;}#sk-container-id-3 div.sk-estimator {font-family: monospace;background-color: #f0f8ff;border: 1px dotted black;border-radius: 0.25em;box-sizing: border-box;margin-bottom: 0.5em;}#sk-container-id-3 div.sk-estimator:hover {background-color: #d4ebff;}#sk-container-id-3 div.sk-parallel-item::after {content: \"\";width: 100%;border-bottom: 1px solid gray;flex-grow: 1;}#sk-container-id-3 div.sk-label:hover label.sk-toggleable__label {background-color: #d4ebff;}#sk-container-id-3 div.sk-serial::before {content: \"\";position: absolute;border-left: 1px solid gray;box-sizing: border-box;top: 0;bottom: 0;left: 50%;z-index: 0;}#sk-container-id-3 div.sk-serial {display: flex;flex-direction: column;align-items: center;background-color: white;padding-right: 0.2em;padding-left: 0.2em;position: relative;}#sk-container-id-3 div.sk-item {position: relative;z-index: 1;}#sk-container-id-3 div.sk-parallel {display: flex;align-items: stretch;justify-content: center;background-color: white;position: relative;}#sk-container-id-3 div.sk-item::before, #sk-container-id-3 div.sk-parallel-item::before {content: \"\";position: absolute;border-left: 1px solid gray;box-sizing: border-box;top: 0;bottom: 0;left: 50%;z-index: -1;}#sk-container-id-3 div.sk-parallel-item {display: flex;flex-direction: column;z-index: 1;position: relative;background-color: white;}#sk-container-id-3 div.sk-parallel-item:first-child::after {align-self: flex-end;width: 50%;}#sk-container-id-3 div.sk-parallel-item:last-child::after {align-self: flex-start;width: 50%;}#sk-container-id-3 div.sk-parallel-item:only-child::after {width: 0;}#sk-container-id-3 div.sk-dashed-wrapped {border: 1px dashed gray;margin: 0 0.4em 0.5em 0.4em;box-sizing: border-box;padding-bottom: 0.4em;background-color: white;}#sk-container-id-3 div.sk-label label {font-family: monospace;font-weight: bold;display: inline-block;line-height: 1.2em;}#sk-container-id-3 div.sk-label-container {text-align: center;}#sk-container-id-3 div.sk-container {/* jupyter's `normalize.less` sets `[hidden] { display: none; }` but bootstrap.min.css set `[hidden] { display: none !important; }` so we also need the `!important` here to be able to override the default hidden behavior on the sphinx rendered scikit-learn.org. See: https://github.com/scikit-learn/scikit-learn/issues/21755 */display: inline-block !important;position: relative;}#sk-container-id-3 div.sk-text-repr-fallback {display: none;}</style><div id=\"sk-container-id-3\" class=\"sk-top-container\"><div class=\"sk-text-repr-fallback\"><pre>LinearRegression()</pre><b>In a Jupyter environment, please rerun this cell to show the HTML representation or trust the notebook. <br />On GitHub, the HTML representation is unable to render, please try loading this page with nbviewer.org.</b></div><div class=\"sk-container\" hidden><div class=\"sk-item\"><div class=\"sk-estimator sk-toggleable\"><input class=\"sk-toggleable__control sk-hidden--visually\" id=\"sk-estimator-id-3\" type=\"checkbox\" checked><label for=\"sk-estimator-id-3\" class=\"sk-toggleable__label sk-toggleable__label-arrow\">LinearRegression</label><div class=\"sk-toggleable__content\"><pre>LinearRegression()</pre></div></div></div></div></div>"
      ],
      "text/plain": [
       "LinearRegression()"
      ]
     },
     "execution_count": 19,
     "metadata": {},
     "output_type": "execute_result"
    }
   ],
   "source": [
    "from sklearn.model_selection import train_test_split\n",
    "from sklearn.linear_model import LinearRegression\n",
    "\n",
    "features, targets = pre_i_df.iloc[:, :-1], pre_i_df.iloc[:, -1]\n",
    "\n",
    "X_train, X_test, y_train, y_test = \\\n",
    "train_test_split(features, targets, test_size=0.2, random_state=124)\n",
    "\n",
    "l_r = LinearRegression()\n",
    "l_r.fit(X_train, y_train)"
   ]
  },
  {
   "cell_type": "code",
   "execution_count": 20,
   "id": "c2b84f9c-c8db-4272-b52e-22c51f269efe",
   "metadata": {},
   "outputs": [
    {
     "name": "stdout",
     "output_type": "stream",
     "text": [
      "MSE: 0.6149, RMSE: 0.7842, MSLE: 0.0060, RMSLE: 0.0772, R2: 0.2998\n"
     ]
    }
   ],
   "source": [
    "prediction = l_r.predict(X_test)\n",
    "get_evaluation(y_test, prediction)"
   ]
  },
  {
   "cell_type": "code",
   "execution_count": 27,
   "id": "bd83ba1a-1aaa-4a67-b75b-b03b4671b064",
   "metadata": {},
   "outputs": [
    {
     "data": {
      "text/html": [
       "<style>#sk-container-id-7 {color: black;background-color: white;}#sk-container-id-7 pre{padding: 0;}#sk-container-id-7 div.sk-toggleable {background-color: white;}#sk-container-id-7 label.sk-toggleable__label {cursor: pointer;display: block;width: 100%;margin-bottom: 0;padding: 0.3em;box-sizing: border-box;text-align: center;}#sk-container-id-7 label.sk-toggleable__label-arrow:before {content: \"▸\";float: left;margin-right: 0.25em;color: #696969;}#sk-container-id-7 label.sk-toggleable__label-arrow:hover:before {color: black;}#sk-container-id-7 div.sk-estimator:hover label.sk-toggleable__label-arrow:before {color: black;}#sk-container-id-7 div.sk-toggleable__content {max-height: 0;max-width: 0;overflow: hidden;text-align: left;background-color: #f0f8ff;}#sk-container-id-7 div.sk-toggleable__content pre {margin: 0.2em;color: black;border-radius: 0.25em;background-color: #f0f8ff;}#sk-container-id-7 input.sk-toggleable__control:checked~div.sk-toggleable__content {max-height: 200px;max-width: 100%;overflow: auto;}#sk-container-id-7 input.sk-toggleable__control:checked~label.sk-toggleable__label-arrow:before {content: \"▾\";}#sk-container-id-7 div.sk-estimator input.sk-toggleable__control:checked~label.sk-toggleable__label {background-color: #d4ebff;}#sk-container-id-7 div.sk-label input.sk-toggleable__control:checked~label.sk-toggleable__label {background-color: #d4ebff;}#sk-container-id-7 input.sk-hidden--visually {border: 0;clip: rect(1px 1px 1px 1px);clip: rect(1px, 1px, 1px, 1px);height: 1px;margin: -1px;overflow: hidden;padding: 0;position: absolute;width: 1px;}#sk-container-id-7 div.sk-estimator {font-family: monospace;background-color: #f0f8ff;border: 1px dotted black;border-radius: 0.25em;box-sizing: border-box;margin-bottom: 0.5em;}#sk-container-id-7 div.sk-estimator:hover {background-color: #d4ebff;}#sk-container-id-7 div.sk-parallel-item::after {content: \"\";width: 100%;border-bottom: 1px solid gray;flex-grow: 1;}#sk-container-id-7 div.sk-label:hover label.sk-toggleable__label {background-color: #d4ebff;}#sk-container-id-7 div.sk-serial::before {content: \"\";position: absolute;border-left: 1px solid gray;box-sizing: border-box;top: 0;bottom: 0;left: 50%;z-index: 0;}#sk-container-id-7 div.sk-serial {display: flex;flex-direction: column;align-items: center;background-color: white;padding-right: 0.2em;padding-left: 0.2em;position: relative;}#sk-container-id-7 div.sk-item {position: relative;z-index: 1;}#sk-container-id-7 div.sk-parallel {display: flex;align-items: stretch;justify-content: center;background-color: white;position: relative;}#sk-container-id-7 div.sk-item::before, #sk-container-id-7 div.sk-parallel-item::before {content: \"\";position: absolute;border-left: 1px solid gray;box-sizing: border-box;top: 0;bottom: 0;left: 50%;z-index: -1;}#sk-container-id-7 div.sk-parallel-item {display: flex;flex-direction: column;z-index: 1;position: relative;background-color: white;}#sk-container-id-7 div.sk-parallel-item:first-child::after {align-self: flex-end;width: 50%;}#sk-container-id-7 div.sk-parallel-item:last-child::after {align-self: flex-start;width: 50%;}#sk-container-id-7 div.sk-parallel-item:only-child::after {width: 0;}#sk-container-id-7 div.sk-dashed-wrapped {border: 1px dashed gray;margin: 0 0.4em 0.5em 0.4em;box-sizing: border-box;padding-bottom: 0.4em;background-color: white;}#sk-container-id-7 div.sk-label label {font-family: monospace;font-weight: bold;display: inline-block;line-height: 1.2em;}#sk-container-id-7 div.sk-label-container {text-align: center;}#sk-container-id-7 div.sk-container {/* jupyter's `normalize.less` sets `[hidden] { display: none; }` but bootstrap.min.css set `[hidden] { display: none !important; }` so we also need the `!important` here to be able to override the default hidden behavior on the sphinx rendered scikit-learn.org. See: https://github.com/scikit-learn/scikit-learn/issues/21755 */display: inline-block !important;position: relative;}#sk-container-id-7 div.sk-text-repr-fallback {display: none;}</style><div id=\"sk-container-id-7\" class=\"sk-top-container\"><div class=\"sk-text-repr-fallback\"><pre>LinearRegression()</pre><b>In a Jupyter environment, please rerun this cell to show the HTML representation or trust the notebook. <br />On GitHub, the HTML representation is unable to render, please try loading this page with nbviewer.org.</b></div><div class=\"sk-container\" hidden><div class=\"sk-item\"><div class=\"sk-estimator sk-toggleable\"><input class=\"sk-toggleable__control sk-hidden--visually\" id=\"sk-estimator-id-7\" type=\"checkbox\" checked><label for=\"sk-estimator-id-7\" class=\"sk-toggleable__label sk-toggleable__label-arrow\">LinearRegression</label><div class=\"sk-toggleable__content\"><pre>LinearRegression()</pre></div></div></div></div></div>"
      ],
      "text/plain": [
       "LinearRegression()"
      ]
     },
     "execution_count": 27,
     "metadata": {},
     "output_type": "execute_result"
    }
   ],
   "source": [
    "import numpy as np\n",
    "from sklearn.linear_model import LinearRegression\n",
    "from sklearn.model_selection import train_test_split\n",
    "from sklearn.preprocessing import PolynomialFeatures\n",
    "\n",
    "features, targets = pre_i_df.iloc[:, :-1], pre_i_df.iloc[:, -1]\n",
    "\n",
    "poly_features = PolynomialFeatures(degree=2).fit_transform(features)\n",
    "\n",
    "X_train, X_test, y_train, y_test = \\\n",
    "train_test_split(poly_features, targets, test_size=0.2, random_state=124)\n",
    "\n",
    "l_r = LinearRegression()\n",
    "l_r.fit(X_train, y_train)"
   ]
  },
  {
   "cell_type": "code",
   "execution_count": 28,
   "id": "078a5c6e-46a8-4afe-94e4-2d074c6c56c8",
   "metadata": {},
   "outputs": [
    {
     "name": "stdout",
     "output_type": "stream",
     "text": [
      "MSE: 0.6213, RMSE: 0.7882, MSLE: 0.0060, RMSLE: 0.0775, R2: 0.2926\n"
     ]
    }
   ],
   "source": [
    "prediction = l_r.predict(X_test)\n",
    "get_evaluation(y_test, prediction)"
   ]
  },
  {
   "cell_type": "markdown",
   "id": "9226a774-6192-49e5-b4f2-27cad400f7ff",
   "metadata": {},
   "source": [
    "- 타겟데이터 분포를 조금 맞추고 나니 LinearRegression의 R2가 거의 0.3에 가까워졌다"
   ]
  },
  {
   "cell_type": "markdown",
   "id": "92a934c8-5559-4030-b0d6-9e2f67a6b54e",
   "metadata": {},
   "source": [
    "- 범주형 데이터 추가"
   ]
  },
  {
   "cell_type": "code",
   "execution_count": 30,
   "id": "d86cbd0c-0afc-49bc-b41a-cc0a8463aa93",
   "metadata": {},
   "outputs": [
    {
     "data": {
      "text/html": [
       "<div>\n",
       "<style scoped>\n",
       "    .dataframe tbody tr th:only-of-type {\n",
       "        vertical-align: middle;\n",
       "    }\n",
       "\n",
       "    .dataframe tbody tr th {\n",
       "        vertical-align: top;\n",
       "    }\n",
       "\n",
       "    .dataframe thead th {\n",
       "        text-align: right;\n",
       "    }\n",
       "</style>\n",
       "<table border=\"1\" class=\"dataframe\">\n",
       "  <thead>\n",
       "    <tr style=\"text-align: right;\">\n",
       "      <th></th>\n",
       "      <th>age</th>\n",
       "      <th>sex</th>\n",
       "      <th>bmi</th>\n",
       "      <th>children</th>\n",
       "      <th>smoker</th>\n",
       "      <th>region</th>\n",
       "      <th>expenses</th>\n",
       "    </tr>\n",
       "  </thead>\n",
       "  <tbody>\n",
       "    <tr>\n",
       "      <th>0</th>\n",
       "      <td>19</td>\n",
       "      <td>female</td>\n",
       "      <td>27.9</td>\n",
       "      <td>0</td>\n",
       "      <td>yes</td>\n",
       "      <td>southwest</td>\n",
       "      <td>16884.92</td>\n",
       "    </tr>\n",
       "    <tr>\n",
       "      <th>1</th>\n",
       "      <td>18</td>\n",
       "      <td>male</td>\n",
       "      <td>33.8</td>\n",
       "      <td>1</td>\n",
       "      <td>no</td>\n",
       "      <td>southeast</td>\n",
       "      <td>1725.55</td>\n",
       "    </tr>\n",
       "    <tr>\n",
       "      <th>2</th>\n",
       "      <td>28</td>\n",
       "      <td>male</td>\n",
       "      <td>33.0</td>\n",
       "      <td>3</td>\n",
       "      <td>no</td>\n",
       "      <td>southeast</td>\n",
       "      <td>4449.46</td>\n",
       "    </tr>\n",
       "    <tr>\n",
       "      <th>3</th>\n",
       "      <td>33</td>\n",
       "      <td>male</td>\n",
       "      <td>22.7</td>\n",
       "      <td>0</td>\n",
       "      <td>no</td>\n",
       "      <td>northwest</td>\n",
       "      <td>21984.47</td>\n",
       "    </tr>\n",
       "    <tr>\n",
       "      <th>4</th>\n",
       "      <td>32</td>\n",
       "      <td>male</td>\n",
       "      <td>28.9</td>\n",
       "      <td>0</td>\n",
       "      <td>no</td>\n",
       "      <td>northwest</td>\n",
       "      <td>3866.86</td>\n",
       "    </tr>\n",
       "    <tr>\n",
       "      <th>...</th>\n",
       "      <td>...</td>\n",
       "      <td>...</td>\n",
       "      <td>...</td>\n",
       "      <td>...</td>\n",
       "      <td>...</td>\n",
       "      <td>...</td>\n",
       "      <td>...</td>\n",
       "    </tr>\n",
       "    <tr>\n",
       "      <th>1333</th>\n",
       "      <td>50</td>\n",
       "      <td>male</td>\n",
       "      <td>31.0</td>\n",
       "      <td>3</td>\n",
       "      <td>no</td>\n",
       "      <td>northwest</td>\n",
       "      <td>10600.55</td>\n",
       "    </tr>\n",
       "    <tr>\n",
       "      <th>1334</th>\n",
       "      <td>18</td>\n",
       "      <td>female</td>\n",
       "      <td>31.9</td>\n",
       "      <td>0</td>\n",
       "      <td>no</td>\n",
       "      <td>northeast</td>\n",
       "      <td>2205.98</td>\n",
       "    </tr>\n",
       "    <tr>\n",
       "      <th>1335</th>\n",
       "      <td>18</td>\n",
       "      <td>female</td>\n",
       "      <td>36.9</td>\n",
       "      <td>0</td>\n",
       "      <td>no</td>\n",
       "      <td>southeast</td>\n",
       "      <td>1629.83</td>\n",
       "    </tr>\n",
       "    <tr>\n",
       "      <th>1336</th>\n",
       "      <td>21</td>\n",
       "      <td>female</td>\n",
       "      <td>25.8</td>\n",
       "      <td>0</td>\n",
       "      <td>no</td>\n",
       "      <td>southwest</td>\n",
       "      <td>2007.95</td>\n",
       "    </tr>\n",
       "    <tr>\n",
       "      <th>1337</th>\n",
       "      <td>61</td>\n",
       "      <td>female</td>\n",
       "      <td>29.1</td>\n",
       "      <td>0</td>\n",
       "      <td>yes</td>\n",
       "      <td>northwest</td>\n",
       "      <td>29141.36</td>\n",
       "    </tr>\n",
       "  </tbody>\n",
       "</table>\n",
       "<p>1337 rows × 7 columns</p>\n",
       "</div>"
      ],
      "text/plain": [
       "      age     sex   bmi  children smoker     region  expenses\n",
       "0      19  female  27.9         0    yes  southwest  16884.92\n",
       "1      18    male  33.8         1     no  southeast   1725.55\n",
       "2      28    male  33.0         3     no  southeast   4449.46\n",
       "3      33    male  22.7         0     no  northwest  21984.47\n",
       "4      32    male  28.9         0     no  northwest   3866.86\n",
       "...   ...     ...   ...       ...    ...        ...       ...\n",
       "1333   50    male  31.0         3     no  northwest  10600.55\n",
       "1334   18  female  31.9         0     no  northeast   2205.98\n",
       "1335   18  female  36.9         0     no  southeast   1629.83\n",
       "1336   21  female  25.8         0     no  southwest   2007.95\n",
       "1337   61  female  29.1         0    yes  northwest  29141.36\n",
       "\n",
       "[1337 rows x 7 columns]"
      ]
     },
     "execution_count": 30,
     "metadata": {},
     "output_type": "execute_result"
    }
   ],
   "source": [
    "i_df"
   ]
  },
  {
   "cell_type": "markdown",
   "id": "656e669c-e180-47f5-95ab-947727f2f440",
   "metadata": {},
   "source": [
    "- 범주형 데이터 레이블 인코딩"
   ]
  },
  {
   "cell_type": "code",
   "execution_count": 31,
   "id": "9f09e7d5-0a14-41f3-b70a-54848005726a",
   "metadata": {},
   "outputs": [
    {
     "name": "stderr",
     "output_type": "stream",
     "text": [
      "C:\\Users\\user\\AppData\\Local\\Temp\\ipykernel_7568\\944286122.py:8: SettingWithCopyWarning: \n",
      "A value is trying to be set on a copy of a slice from a DataFrame.\n",
      "Try using .loc[row_indexer,col_indexer] = value instead\n",
      "\n",
      "See the caveats in the documentation: https://pandas.pydata.org/pandas-docs/stable/user_guide/indexing.html#returning-a-view-versus-a-copy\n",
      "  i_df[column] = encoder.fit_transform(i_df[column])\n",
      "C:\\Users\\user\\AppData\\Local\\Temp\\ipykernel_7568\\944286122.py:8: SettingWithCopyWarning: \n",
      "A value is trying to be set on a copy of a slice from a DataFrame.\n",
      "Try using .loc[row_indexer,col_indexer] = value instead\n",
      "\n",
      "See the caveats in the documentation: https://pandas.pydata.org/pandas-docs/stable/user_guide/indexing.html#returning-a-view-versus-a-copy\n",
      "  i_df[column] = encoder.fit_transform(i_df[column])\n",
      "C:\\Users\\user\\AppData\\Local\\Temp\\ipykernel_7568\\944286122.py:8: SettingWithCopyWarning: \n",
      "A value is trying to be set on a copy of a slice from a DataFrame.\n",
      "Try using .loc[row_indexer,col_indexer] = value instead\n",
      "\n",
      "See the caveats in the documentation: https://pandas.pydata.org/pandas-docs/stable/user_guide/indexing.html#returning-a-view-versus-a-copy\n",
      "  i_df[column] = encoder.fit_transform(i_df[column])\n",
      "C:\\Users\\user\\AppData\\Local\\Temp\\ipykernel_7568\\944286122.py:8: SettingWithCopyWarning: \n",
      "A value is trying to be set on a copy of a slice from a DataFrame.\n",
      "Try using .loc[row_indexer,col_indexer] = value instead\n",
      "\n",
      "See the caveats in the documentation: https://pandas.pydata.org/pandas-docs/stable/user_guide/indexing.html#returning-a-view-versus-a-copy\n",
      "  i_df[column] = encoder.fit_transform(i_df[column])\n"
     ]
    }
   ],
   "source": [
    "from sklearn.preprocessing import LabelEncoder\n",
    "\n",
    "columns = ['sex', 'children', 'smoker', 'region']\n",
    "encoders = {}\n",
    "\n",
    "for column in columns:\n",
    "    encoder = LabelEncoder()\n",
    "    i_df[column] = encoder.fit_transform(i_df[column])\n",
    "    encoders[column] = encoder.classes_.tolist()"
   ]
  },
  {
   "cell_type": "code",
   "execution_count": 37,
   "id": "f70d562d-65de-4999-90c8-9cec0c824a4b",
   "metadata": {},
   "outputs": [],
   "source": [
    "import numpy as np\n",
    "\n",
    "i_df.loc[:, 'expenses'] = np.log1p(i_df.expenses)"
   ]
  },
  {
   "cell_type": "code",
   "execution_count": 38,
   "id": "24081ffb-c578-4058-b5aa-f427066cad40",
   "metadata": {},
   "outputs": [
    {
     "data": {
      "text/html": [
       "<style>#sk-container-id-10 {color: black;background-color: white;}#sk-container-id-10 pre{padding: 0;}#sk-container-id-10 div.sk-toggleable {background-color: white;}#sk-container-id-10 label.sk-toggleable__label {cursor: pointer;display: block;width: 100%;margin-bottom: 0;padding: 0.3em;box-sizing: border-box;text-align: center;}#sk-container-id-10 label.sk-toggleable__label-arrow:before {content: \"▸\";float: left;margin-right: 0.25em;color: #696969;}#sk-container-id-10 label.sk-toggleable__label-arrow:hover:before {color: black;}#sk-container-id-10 div.sk-estimator:hover label.sk-toggleable__label-arrow:before {color: black;}#sk-container-id-10 div.sk-toggleable__content {max-height: 0;max-width: 0;overflow: hidden;text-align: left;background-color: #f0f8ff;}#sk-container-id-10 div.sk-toggleable__content pre {margin: 0.2em;color: black;border-radius: 0.25em;background-color: #f0f8ff;}#sk-container-id-10 input.sk-toggleable__control:checked~div.sk-toggleable__content {max-height: 200px;max-width: 100%;overflow: auto;}#sk-container-id-10 input.sk-toggleable__control:checked~label.sk-toggleable__label-arrow:before {content: \"▾\";}#sk-container-id-10 div.sk-estimator input.sk-toggleable__control:checked~label.sk-toggleable__label {background-color: #d4ebff;}#sk-container-id-10 div.sk-label input.sk-toggleable__control:checked~label.sk-toggleable__label {background-color: #d4ebff;}#sk-container-id-10 input.sk-hidden--visually {border: 0;clip: rect(1px 1px 1px 1px);clip: rect(1px, 1px, 1px, 1px);height: 1px;margin: -1px;overflow: hidden;padding: 0;position: absolute;width: 1px;}#sk-container-id-10 div.sk-estimator {font-family: monospace;background-color: #f0f8ff;border: 1px dotted black;border-radius: 0.25em;box-sizing: border-box;margin-bottom: 0.5em;}#sk-container-id-10 div.sk-estimator:hover {background-color: #d4ebff;}#sk-container-id-10 div.sk-parallel-item::after {content: \"\";width: 100%;border-bottom: 1px solid gray;flex-grow: 1;}#sk-container-id-10 div.sk-label:hover label.sk-toggleable__label {background-color: #d4ebff;}#sk-container-id-10 div.sk-serial::before {content: \"\";position: absolute;border-left: 1px solid gray;box-sizing: border-box;top: 0;bottom: 0;left: 50%;z-index: 0;}#sk-container-id-10 div.sk-serial {display: flex;flex-direction: column;align-items: center;background-color: white;padding-right: 0.2em;padding-left: 0.2em;position: relative;}#sk-container-id-10 div.sk-item {position: relative;z-index: 1;}#sk-container-id-10 div.sk-parallel {display: flex;align-items: stretch;justify-content: center;background-color: white;position: relative;}#sk-container-id-10 div.sk-item::before, #sk-container-id-10 div.sk-parallel-item::before {content: \"\";position: absolute;border-left: 1px solid gray;box-sizing: border-box;top: 0;bottom: 0;left: 50%;z-index: -1;}#sk-container-id-10 div.sk-parallel-item {display: flex;flex-direction: column;z-index: 1;position: relative;background-color: white;}#sk-container-id-10 div.sk-parallel-item:first-child::after {align-self: flex-end;width: 50%;}#sk-container-id-10 div.sk-parallel-item:last-child::after {align-self: flex-start;width: 50%;}#sk-container-id-10 div.sk-parallel-item:only-child::after {width: 0;}#sk-container-id-10 div.sk-dashed-wrapped {border: 1px dashed gray;margin: 0 0.4em 0.5em 0.4em;box-sizing: border-box;padding-bottom: 0.4em;background-color: white;}#sk-container-id-10 div.sk-label label {font-family: monospace;font-weight: bold;display: inline-block;line-height: 1.2em;}#sk-container-id-10 div.sk-label-container {text-align: center;}#sk-container-id-10 div.sk-container {/* jupyter's `normalize.less` sets `[hidden] { display: none; }` but bootstrap.min.css set `[hidden] { display: none !important; }` so we also need the `!important` here to be able to override the default hidden behavior on the sphinx rendered scikit-learn.org. See: https://github.com/scikit-learn/scikit-learn/issues/21755 */display: inline-block !important;position: relative;}#sk-container-id-10 div.sk-text-repr-fallback {display: none;}</style><div id=\"sk-container-id-10\" class=\"sk-top-container\"><div class=\"sk-text-repr-fallback\"><pre>LinearRegression()</pre><b>In a Jupyter environment, please rerun this cell to show the HTML representation or trust the notebook. <br />On GitHub, the HTML representation is unable to render, please try loading this page with nbviewer.org.</b></div><div class=\"sk-container\" hidden><div class=\"sk-item\"><div class=\"sk-estimator sk-toggleable\"><input class=\"sk-toggleable__control sk-hidden--visually\" id=\"sk-estimator-id-10\" type=\"checkbox\" checked><label for=\"sk-estimator-id-10\" class=\"sk-toggleable__label sk-toggleable__label-arrow\">LinearRegression</label><div class=\"sk-toggleable__content\"><pre>LinearRegression()</pre></div></div></div></div></div>"
      ],
      "text/plain": [
       "LinearRegression()"
      ]
     },
     "execution_count": 38,
     "metadata": {},
     "output_type": "execute_result"
    }
   ],
   "source": [
    "from sklearn.model_selection import train_test_split\n",
    "from sklearn.linear_model import LinearRegression\n",
    "\n",
    "features, targets = i_df.iloc[:, :-1], i_df.iloc[:, -1]\n",
    "\n",
    "X_train, X_test, y_train, y_test = \\\n",
    "train_test_split(features, targets, test_size=0.2, random_state=124)\n",
    "\n",
    "l_r = LinearRegression()\n",
    "l_r.fit(X_train, y_train)"
   ]
  },
  {
   "cell_type": "code",
   "execution_count": 39,
   "id": "24eef071-aebc-4720-b2fd-927f6d540c50",
   "metadata": {},
   "outputs": [
    {
     "name": "stdout",
     "output_type": "stream",
     "text": [
      "MSE: 0.0021, RMSE: 0.0462, MSLE: 0.0002, RMSLE: 0.0139, R2: 0.7566\n"
     ]
    }
   ],
   "source": [
    "prediction = l_r.predict(X_test)\n",
    "get_evaluation(y_test, prediction)"
   ]
  },
  {
   "cell_type": "code",
   "execution_count": 51,
   "id": "b6ac443b-bdf4-497d-84ed-1dbcf10f400c",
   "metadata": {},
   "outputs": [
    {
     "data": {
      "text/html": [
       "<style>#sk-container-id-14 {color: black;background-color: white;}#sk-container-id-14 pre{padding: 0;}#sk-container-id-14 div.sk-toggleable {background-color: white;}#sk-container-id-14 label.sk-toggleable__label {cursor: pointer;display: block;width: 100%;margin-bottom: 0;padding: 0.3em;box-sizing: border-box;text-align: center;}#sk-container-id-14 label.sk-toggleable__label-arrow:before {content: \"▸\";float: left;margin-right: 0.25em;color: #696969;}#sk-container-id-14 label.sk-toggleable__label-arrow:hover:before {color: black;}#sk-container-id-14 div.sk-estimator:hover label.sk-toggleable__label-arrow:before {color: black;}#sk-container-id-14 div.sk-toggleable__content {max-height: 0;max-width: 0;overflow: hidden;text-align: left;background-color: #f0f8ff;}#sk-container-id-14 div.sk-toggleable__content pre {margin: 0.2em;color: black;border-radius: 0.25em;background-color: #f0f8ff;}#sk-container-id-14 input.sk-toggleable__control:checked~div.sk-toggleable__content {max-height: 200px;max-width: 100%;overflow: auto;}#sk-container-id-14 input.sk-toggleable__control:checked~label.sk-toggleable__label-arrow:before {content: \"▾\";}#sk-container-id-14 div.sk-estimator input.sk-toggleable__control:checked~label.sk-toggleable__label {background-color: #d4ebff;}#sk-container-id-14 div.sk-label input.sk-toggleable__control:checked~label.sk-toggleable__label {background-color: #d4ebff;}#sk-container-id-14 input.sk-hidden--visually {border: 0;clip: rect(1px 1px 1px 1px);clip: rect(1px, 1px, 1px, 1px);height: 1px;margin: -1px;overflow: hidden;padding: 0;position: absolute;width: 1px;}#sk-container-id-14 div.sk-estimator {font-family: monospace;background-color: #f0f8ff;border: 1px dotted black;border-radius: 0.25em;box-sizing: border-box;margin-bottom: 0.5em;}#sk-container-id-14 div.sk-estimator:hover {background-color: #d4ebff;}#sk-container-id-14 div.sk-parallel-item::after {content: \"\";width: 100%;border-bottom: 1px solid gray;flex-grow: 1;}#sk-container-id-14 div.sk-label:hover label.sk-toggleable__label {background-color: #d4ebff;}#sk-container-id-14 div.sk-serial::before {content: \"\";position: absolute;border-left: 1px solid gray;box-sizing: border-box;top: 0;bottom: 0;left: 50%;z-index: 0;}#sk-container-id-14 div.sk-serial {display: flex;flex-direction: column;align-items: center;background-color: white;padding-right: 0.2em;padding-left: 0.2em;position: relative;}#sk-container-id-14 div.sk-item {position: relative;z-index: 1;}#sk-container-id-14 div.sk-parallel {display: flex;align-items: stretch;justify-content: center;background-color: white;position: relative;}#sk-container-id-14 div.sk-item::before, #sk-container-id-14 div.sk-parallel-item::before {content: \"\";position: absolute;border-left: 1px solid gray;box-sizing: border-box;top: 0;bottom: 0;left: 50%;z-index: -1;}#sk-container-id-14 div.sk-parallel-item {display: flex;flex-direction: column;z-index: 1;position: relative;background-color: white;}#sk-container-id-14 div.sk-parallel-item:first-child::after {align-self: flex-end;width: 50%;}#sk-container-id-14 div.sk-parallel-item:last-child::after {align-self: flex-start;width: 50%;}#sk-container-id-14 div.sk-parallel-item:only-child::after {width: 0;}#sk-container-id-14 div.sk-dashed-wrapped {border: 1px dashed gray;margin: 0 0.4em 0.5em 0.4em;box-sizing: border-box;padding-bottom: 0.4em;background-color: white;}#sk-container-id-14 div.sk-label label {font-family: monospace;font-weight: bold;display: inline-block;line-height: 1.2em;}#sk-container-id-14 div.sk-label-container {text-align: center;}#sk-container-id-14 div.sk-container {/* jupyter's `normalize.less` sets `[hidden] { display: none; }` but bootstrap.min.css set `[hidden] { display: none !important; }` so we also need the `!important` here to be able to override the default hidden behavior on the sphinx rendered scikit-learn.org. See: https://github.com/scikit-learn/scikit-learn/issues/21755 */display: inline-block !important;position: relative;}#sk-container-id-14 div.sk-text-repr-fallback {display: none;}</style><div id=\"sk-container-id-14\" class=\"sk-top-container\"><div class=\"sk-text-repr-fallback\"><pre>LinearRegression()</pre><b>In a Jupyter environment, please rerun this cell to show the HTML representation or trust the notebook. <br />On GitHub, the HTML representation is unable to render, please try loading this page with nbviewer.org.</b></div><div class=\"sk-container\" hidden><div class=\"sk-item\"><div class=\"sk-estimator sk-toggleable\"><input class=\"sk-toggleable__control sk-hidden--visually\" id=\"sk-estimator-id-14\" type=\"checkbox\" checked><label for=\"sk-estimator-id-14\" class=\"sk-toggleable__label sk-toggleable__label-arrow\">LinearRegression</label><div class=\"sk-toggleable__content\"><pre>LinearRegression()</pre></div></div></div></div></div>"
      ],
      "text/plain": [
       "LinearRegression()"
      ]
     },
     "execution_count": 51,
     "metadata": {},
     "output_type": "execute_result"
    }
   ],
   "source": [
    "import numpy as np\n",
    "from sklearn.linear_model import LinearRegression\n",
    "from sklearn.model_selection import train_test_split\n",
    "from sklearn.preprocessing import PolynomialFeatures\n",
    "\n",
    "features, targets = i_df.iloc[:, :-1], i_df.iloc[:, -1]\n",
    "\n",
    "poly_features = PolynomialFeatures(degree=2).fit_transform(features)\n",
    "\n",
    "X_train, X_test, y_train, y_test = \\\n",
    "train_test_split(poly_features, targets, test_size=0.2, random_state=124)\n",
    "\n",
    "l_r = LinearRegression()\n",
    "l_r.fit(X_train, y_train)"
   ]
  },
  {
   "cell_type": "code",
   "execution_count": 52,
   "id": "4aa5c64f-83f7-476c-926b-a22120ce70f8",
   "metadata": {},
   "outputs": [
    {
     "name": "stdout",
     "output_type": "stream",
     "text": [
      "MSE: 0.0015, RMSE: 0.0386, MSLE: 0.0001, RMSLE: 0.0117, R2: 0.8303\n"
     ]
    }
   ],
   "source": [
    "prediction = l_r.predict(X_test)\n",
    "get_evaluation(y_test, prediction)"
   ]
  },
  {
   "cell_type": "code",
   "execution_count": 44,
   "id": "b778868b-c6b2-4a8e-84e1-a245d107106d",
   "metadata": {},
   "outputs": [],
   "source": [
    "from statsmodels.stats.outliers_influence import variance_inflation_factor\n",
    "\n",
    "def get_vif(features):\n",
    "    vif = pd.DataFrame()\n",
    "    vif['vif_score'] = [variance_inflation_factor(features.values, i) for i in range(features.shape[1])]\n",
    "    vif['feature'] = features.columns\n",
    "    return vif"
   ]
  },
  {
   "cell_type": "code",
   "execution_count": 55,
   "id": "eb4e27d7-ccb7-4fb9-a83f-74c5d3350434",
   "metadata": {},
   "outputs": [
    {
     "name": "stdout",
     "output_type": "stream",
     "text": [
      "                                 OLS Regression Results                                \n",
      "=======================================================================================\n",
      "Dep. Variable:               expenses   R-squared (uncentered):                   0.975\n",
      "Model:                            OLS   Adj. R-squared (uncentered):              0.975\n",
      "Method:                 Least Squares   F-statistic:                              8544.\n",
      "Date:                Thu, 09 May 2024   Prob (F-statistic):                        0.00\n",
      "Time:                        09:43:37   Log-Likelihood:                         -558.74\n",
      "No. Observations:                1337   AIC:                                      1129.\n",
      "Df Residuals:                    1331   BIC:                                      1161.\n",
      "Df Model:                           6                                                  \n",
      "Covariance Type:            nonrobust                                                  \n",
      "==============================================================================\n",
      "                 coef    std err          t      P>|t|      [0.025      0.975]\n",
      "------------------------------------------------------------------------------\n",
      "age            0.0139      0.001     20.887      0.000       0.013       0.015\n",
      "sex            0.0912      0.020      4.550      0.000       0.052       0.131\n",
      "bmi            0.0492      0.001     47.364      0.000       0.047       0.051\n",
      "children       0.0493      0.008      5.940      0.000       0.033       0.066\n",
      "smoker         0.2256      0.025      9.044      0.000       0.177       0.275\n",
      "region         0.0307      0.009      3.349      0.001       0.013       0.049\n",
      "==============================================================================\n",
      "Omnibus:                        7.934   Durbin-Watson:                   1.983\n",
      "Prob(Omnibus):                  0.019   Jarque-Bera (JB):                7.840\n",
      "Skew:                          -0.165   Prob(JB):                       0.0198\n",
      "Kurtosis:                       2.823   Cond. No.                         128.\n",
      "==============================================================================\n",
      "\n",
      "Notes:\n",
      "[1] R² is computed without centering (uncentered) since the model does not contain a constant.\n",
      "[2] Standard Errors assume that the covariance matrix of the errors is correctly specified.\n"
     ]
    }
   ],
   "source": [
    "from statsmodels.api import OLS\n",
    "\n",
    "features, targets = i_df.iloc[:, :-1], i_df.iloc[:, -1]\n",
    "\n",
    "model = OLS(targets, features)\n",
    "print(model.fit().summary())"
   ]
  },
  {
   "cell_type": "code",
   "execution_count": 45,
   "id": "a24c1b6c-5c51-46e5-8d93-93c64503b4ac",
   "metadata": {},
   "outputs": [
    {
     "data": {
      "text/html": [
       "<div>\n",
       "<style scoped>\n",
       "    .dataframe tbody tr th:only-of-type {\n",
       "        vertical-align: middle;\n",
       "    }\n",
       "\n",
       "    .dataframe tbody tr th {\n",
       "        vertical-align: top;\n",
       "    }\n",
       "\n",
       "    .dataframe thead th {\n",
       "        text-align: right;\n",
       "    }\n",
       "</style>\n",
       "<table border=\"1\" class=\"dataframe\">\n",
       "  <thead>\n",
       "    <tr style=\"text-align: right;\">\n",
       "      <th></th>\n",
       "      <th>vif_score</th>\n",
       "      <th>feature</th>\n",
       "    </tr>\n",
       "  </thead>\n",
       "  <tbody>\n",
       "    <tr>\n",
       "      <th>0</th>\n",
       "      <td>7.558648</td>\n",
       "      <td>age</td>\n",
       "    </tr>\n",
       "    <tr>\n",
       "      <th>1</th>\n",
       "      <td>2.000026</td>\n",
       "      <td>sex</td>\n",
       "    </tr>\n",
       "    <tr>\n",
       "      <th>2</th>\n",
       "      <td>10.378835</td>\n",
       "      <td>bmi</td>\n",
       "    </tr>\n",
       "    <tr>\n",
       "      <th>3</th>\n",
       "      <td>1.801974</td>\n",
       "      <td>children</td>\n",
       "    </tr>\n",
       "    <tr>\n",
       "      <th>4</th>\n",
       "      <td>1.257158</td>\n",
       "      <td>smoker</td>\n",
       "    </tr>\n",
       "    <tr>\n",
       "      <th>5</th>\n",
       "      <td>2.924066</td>\n",
       "      <td>region</td>\n",
       "    </tr>\n",
       "  </tbody>\n",
       "</table>\n",
       "</div>"
      ],
      "text/plain": [
       "   vif_score   feature\n",
       "0   7.558648       age\n",
       "1   2.000026       sex\n",
       "2  10.378835       bmi\n",
       "3   1.801974  children\n",
       "4   1.257158    smoker\n",
       "5   2.924066    region"
      ]
     },
     "execution_count": 45,
     "metadata": {},
     "output_type": "execute_result"
    }
   ],
   "source": [
    "get_vif(features)"
   ]
  },
  {
   "cell_type": "code",
   "execution_count": 46,
   "id": "aaee893a-0b14-453e-8764-b485576e8042",
   "metadata": {},
   "outputs": [
    {
     "data": {
      "image/png": "[encoded data removed]",
      "text/plain": [
       "<Figure size 800x600 with 2 Axes>"
      ]
     },
     "metadata": {},
     "output_type": "display_data"
    }
   ],
   "source": [
    "import seaborn as sns\n",
    "import matplotlib.pyplot as plt\n",
    "\n",
    "fig = plt.figure(figsize=(8, 6))\n",
    "corr = i_df.corr()\n",
    "heatmap = sns.heatmap(corr, cmap='Purples')\n",
    "heatmap.set_title('Correlation')\n",
    "plt.show()"
   ]
  },
  {
   "cell_type": "code",
   "execution_count": 47,
   "id": "ef709f57-d56f-4a38-bf80-6dd52f494f32",
   "metadata": {},
   "outputs": [
    {
     "data": {
      "text/plain": [
       "smoker      0.641253\n",
       "age         0.546425\n",
       "children    0.172015\n",
       "bmi         0.125984\n",
       "sex        -0.000210\n",
       "region     -0.047248\n",
       "Name: expenses, dtype: float64"
      ]
     },
     "execution_count": 47,
     "metadata": {},
     "output_type": "execute_result"
    }
   ],
   "source": [
    "corr['expenses'].sort_values(ascending=False)[1:]"
   ]
  },
  {
   "cell_type": "code",
   "execution_count": 48,
   "id": "9a729f40-f0f5-4858-bc5d-5c35bf54eadf",
   "metadata": {},
   "outputs": [
    {
     "data": {
      "text/html": [
       "<div>\n",
       "<style scoped>\n",
       "    .dataframe tbody tr th:only-of-type {\n",
       "        vertical-align: middle;\n",
       "    }\n",
       "\n",
       "    .dataframe tbody tr th {\n",
       "        vertical-align: top;\n",
       "    }\n",
       "\n",
       "    .dataframe thead th {\n",
       "        text-align: right;\n",
       "    }\n",
       "</style>\n",
       "<table border=\"1\" class=\"dataframe\">\n",
       "  <thead>\n",
       "    <tr style=\"text-align: right;\">\n",
       "      <th></th>\n",
       "      <th>age</th>\n",
       "      <th>sex</th>\n",
       "      <th>bmi</th>\n",
       "      <th>children</th>\n",
       "      <th>smoker</th>\n",
       "      <th>region</th>\n",
       "      <th>expenses</th>\n",
       "    </tr>\n",
       "  </thead>\n",
       "  <tbody>\n",
       "    <tr>\n",
       "      <th>age</th>\n",
       "      <td>1.000000</td>\n",
       "      <td>-0.019814</td>\n",
       "      <td>0.109414</td>\n",
       "      <td>0.041536</td>\n",
       "      <td>-0.025587</td>\n",
       "      <td>0.001626</td>\n",
       "      <td>0.546425</td>\n",
       "    </tr>\n",
       "    <tr>\n",
       "      <th>sex</th>\n",
       "      <td>-0.019814</td>\n",
       "      <td>1.000000</td>\n",
       "      <td>0.046405</td>\n",
       "      <td>0.017848</td>\n",
       "      <td>0.076596</td>\n",
       "      <td>0.004936</td>\n",
       "      <td>-0.000210</td>\n",
       "    </tr>\n",
       "    <tr>\n",
       "      <th>bmi</th>\n",
       "      <td>0.109414</td>\n",
       "      <td>0.046405</td>\n",
       "      <td>1.000000</td>\n",
       "      <td>0.012641</td>\n",
       "      <td>0.003964</td>\n",
       "      <td>0.157448</td>\n",
       "      <td>0.125984</td>\n",
       "    </tr>\n",
       "    <tr>\n",
       "      <th>children</th>\n",
       "      <td>0.041536</td>\n",
       "      <td>0.017848</td>\n",
       "      <td>0.012641</td>\n",
       "      <td>1.000000</td>\n",
       "      <td>0.007331</td>\n",
       "      <td>0.016258</td>\n",
       "      <td>0.172015</td>\n",
       "    </tr>\n",
       "    <tr>\n",
       "      <th>smoker</th>\n",
       "      <td>-0.025587</td>\n",
       "      <td>0.076596</td>\n",
       "      <td>0.003964</td>\n",
       "      <td>0.007331</td>\n",
       "      <td>1.000000</td>\n",
       "      <td>-0.002358</td>\n",
       "      <td>0.641253</td>\n",
       "    </tr>\n",
       "    <tr>\n",
       "      <th>region</th>\n",
       "      <td>0.001626</td>\n",
       "      <td>0.004936</td>\n",
       "      <td>0.157448</td>\n",
       "      <td>0.016258</td>\n",
       "      <td>-0.002358</td>\n",
       "      <td>1.000000</td>\n",
       "      <td>-0.047248</td>\n",
       "    </tr>\n",
       "    <tr>\n",
       "      <th>expenses</th>\n",
       "      <td>0.546425</td>\n",
       "      <td>-0.000210</td>\n",
       "      <td>0.125984</td>\n",
       "      <td>0.172015</td>\n",
       "      <td>0.641253</td>\n",
       "      <td>-0.047248</td>\n",
       "      <td>1.000000</td>\n",
       "    </tr>\n",
       "  </tbody>\n",
       "</table>\n",
       "</div>"
      ],
      "text/plain": [
       "               age       sex       bmi  children    smoker    region  expenses\n",
       "age       1.000000 -0.019814  0.109414  0.041536 -0.025587  0.001626  0.546425\n",
       "sex      -0.019814  1.000000  0.046405  0.017848  0.076596  0.004936 -0.000210\n",
       "bmi       0.109414  0.046405  1.000000  0.012641  0.003964  0.157448  0.125984\n",
       "children  0.041536  0.017848  0.012641  1.000000  0.007331  0.016258  0.172015\n",
       "smoker   -0.025587  0.076596  0.003964  0.007331  1.000000 -0.002358  0.641253\n",
       "region    0.001626  0.004936  0.157448  0.016258 -0.002358  1.000000 -0.047248\n",
       "expenses  0.546425 -0.000210  0.125984  0.172015  0.641253 -0.047248  1.000000"
      ]
     },
     "execution_count": 48,
     "metadata": {},
     "output_type": "execute_result"
    }
   ],
   "source": [
    "corr"
   ]
  },
  {
   "cell_type": "markdown",
   "id": "16feb212-5cb0-4c5c-9f1e-7e8f9cbff2d6",
   "metadata": {},
   "source": [
    "- 타겟과의 상관관계가 낮은 피쳐들이 많지만 결과가 잘 나와서 보류"
   ]
  },
  {
   "cell_type": "code",
   "execution_count": 53,
   "id": "0ae09532-1f03-4b1d-b407-9ca4ffe3e3d9",
   "metadata": {},
   "outputs": [
    {
     "name": "stdout",
     "output_type": "stream",
     "text": [
      "                                 OLS Regression Results                                \n",
      "=======================================================================================\n",
      "Dep. Variable:               expenses   R-squared (uncentered):                   0.975\n",
      "Model:                            OLS   Adj. R-squared (uncentered):              0.975\n",
      "Method:                 Least Squares   F-statistic:                              8544.\n",
      "Date:                Thu, 09 May 2024   Prob (F-statistic):                        0.00\n",
      "Time:                        09:43:11   Log-Likelihood:                         -558.74\n",
      "No. Observations:                1337   AIC:                                      1129.\n",
      "Df Residuals:                    1331   BIC:                                      1161.\n",
      "Df Model:                           6                                                  \n",
      "Covariance Type:            nonrobust                                                  \n",
      "==============================================================================\n",
      "                 coef    std err          t      P>|t|      [0.025      0.975]\n",
      "------------------------------------------------------------------------------\n",
      "age            0.0139      0.001     20.887      0.000       0.013       0.015\n",
      "sex            0.0912      0.020      4.550      0.000       0.052       0.131\n",
      "bmi            0.0492      0.001     47.364      0.000       0.047       0.051\n",
      "children       0.0493      0.008      5.940      0.000       0.033       0.066\n",
      "smoker         0.2256      0.025      9.044      0.000       0.177       0.275\n",
      "region         0.0307      0.009      3.349      0.001       0.013       0.049\n",
      "==============================================================================\n",
      "Omnibus:                        7.934   Durbin-Watson:                   1.983\n",
      "Prob(Omnibus):                  0.019   Jarque-Bera (JB):                7.840\n",
      "Skew:                          -0.165   Prob(JB):                       0.0198\n",
      "Kurtosis:                       2.823   Cond. No.                         128.\n",
      "==============================================================================\n",
      "\n",
      "Notes:\n",
      "[1] R² is computed without centering (uncentered) since the model does not contain a constant.\n",
      "[2] Standard Errors assume that the covariance matrix of the errors is correctly specified.\n"
     ]
    }
   ],
   "source": [
    "from statsmodels.api import OLS\n",
    "\n",
    "features, targets = i_df.iloc[:, :-1], i_df.iloc[:, -1]\n",
    "\n",
    "model = OLS(targets, features)\n",
    "print(model.fit().summary())"
   ]
  },
  {
   "cell_type": "code",
   "execution_count": 98,
   "id": "e82961bb-5ff4-4a42-bf2f-df998c38192c",
   "metadata": {},
   "outputs": [
    {
     "data": {
      "text/html": [
       "<style>#sk-container-id-32 {color: black;background-color: white;}#sk-container-id-32 pre{padding: 0;}#sk-container-id-32 div.sk-toggleable {background-color: white;}#sk-container-id-32 label.sk-toggleable__label {cursor: pointer;display: block;width: 100%;margin-bottom: 0;padding: 0.3em;box-sizing: border-box;text-align: center;}#sk-container-id-32 label.sk-toggleable__label-arrow:before {content: \"▸\";float: left;margin-right: 0.25em;color: #696969;}#sk-container-id-32 label.sk-toggleable__label-arrow:hover:before {color: black;}#sk-container-id-32 div.sk-estimator:hover label.sk-toggleable__label-arrow:before {color: black;}#sk-container-id-32 div.sk-toggleable__content {max-height: 0;max-width: 0;overflow: hidden;text-align: left;background-color: #f0f8ff;}#sk-container-id-32 div.sk-toggleable__content pre {margin: 0.2em;color: black;border-radius: 0.25em;background-color: #f0f8ff;}#sk-container-id-32 input.sk-toggleable__control:checked~div.sk-toggleable__content {max-height: 200px;max-width: 100%;overflow: auto;}#sk-container-id-32 input.sk-toggleable__control:checked~label.sk-toggleable__label-arrow:before {content: \"▾\";}#sk-container-id-32 div.sk-estimator input.sk-toggleable__control:checked~label.sk-toggleable__label {background-color: #d4ebff;}#sk-container-id-32 div.sk-label input.sk-toggleable__control:checked~label.sk-toggleable__label {background-color: #d4ebff;}#sk-container-id-32 input.sk-hidden--visually {border: 0;clip: rect(1px 1px 1px 1px);clip: rect(1px, 1px, 1px, 1px);height: 1px;margin: -1px;overflow: hidden;padding: 0;position: absolute;width: 1px;}#sk-container-id-32 div.sk-estimator {font-family: monospace;background-color: #f0f8ff;border: 1px dotted black;border-radius: 0.25em;box-sizing: border-box;margin-bottom: 0.5em;}#sk-container-id-32 div.sk-estimator:hover {background-color: #d4ebff;}#sk-container-id-32 div.sk-parallel-item::after {content: \"\";width: 100%;border-bottom: 1px solid gray;flex-grow: 1;}#sk-container-id-32 div.sk-label:hover label.sk-toggleable__label {background-color: #d4ebff;}#sk-container-id-32 div.sk-serial::before {content: \"\";position: absolute;border-left: 1px solid gray;box-sizing: border-box;top: 0;bottom: 0;left: 50%;z-index: 0;}#sk-container-id-32 div.sk-serial {display: flex;flex-direction: column;align-items: center;background-color: white;padding-right: 0.2em;padding-left: 0.2em;position: relative;}#sk-container-id-32 div.sk-item {position: relative;z-index: 1;}#sk-container-id-32 div.sk-parallel {display: flex;align-items: stretch;justify-content: center;background-color: white;position: relative;}#sk-container-id-32 div.sk-item::before, #sk-container-id-32 div.sk-parallel-item::before {content: \"\";position: absolute;border-left: 1px solid gray;box-sizing: border-box;top: 0;bottom: 0;left: 50%;z-index: -1;}#sk-container-id-32 div.sk-parallel-item {display: flex;flex-direction: column;z-index: 1;position: relative;background-color: white;}#sk-container-id-32 div.sk-parallel-item:first-child::after {align-self: flex-end;width: 50%;}#sk-container-id-32 div.sk-parallel-item:last-child::after {align-self: flex-start;width: 50%;}#sk-container-id-32 div.sk-parallel-item:only-child::after {width: 0;}#sk-container-id-32 div.sk-dashed-wrapped {border: 1px dashed gray;margin: 0 0.4em 0.5em 0.4em;box-sizing: border-box;padding-bottom: 0.4em;background-color: white;}#sk-container-id-32 div.sk-label label {font-family: monospace;font-weight: bold;display: inline-block;line-height: 1.2em;}#sk-container-id-32 div.sk-label-container {text-align: center;}#sk-container-id-32 div.sk-container {/* jupyter's `normalize.less` sets `[hidden] { display: none; }` but bootstrap.min.css set `[hidden] { display: none !important; }` so we also need the `!important` here to be able to override the default hidden behavior on the sphinx rendered scikit-learn.org. See: https://github.com/scikit-learn/scikit-learn/issues/21755 */display: inline-block !important;position: relative;}#sk-container-id-32 div.sk-text-repr-fallback {display: none;}</style><div id=\"sk-container-id-32\" class=\"sk-top-container\"><div class=\"sk-text-repr-fallback\"><pre>LinearRegression()</pre><b>In a Jupyter environment, please rerun this cell to show the HTML representation or trust the notebook. <br />On GitHub, the HTML representation is unable to render, please try loading this page with nbviewer.org.</b></div><div class=\"sk-container\" hidden><div class=\"sk-item\"><div class=\"sk-estimator sk-toggleable\"><input class=\"sk-toggleable__control sk-hidden--visually\" id=\"sk-estimator-id-32\" type=\"checkbox\" checked><label for=\"sk-estimator-id-32\" class=\"sk-toggleable__label sk-toggleable__label-arrow\">LinearRegression</label><div class=\"sk-toggleable__content\"><pre>LinearRegression()</pre></div></div></div></div></div>"
      ],
      "text/plain": [
       "LinearRegression()"
      ]
     },
     "execution_count": 98,
     "metadata": {},
     "output_type": "execute_result"
    }
   ],
   "source": [
    "from sklearn.model_selection import train_test_split\n",
    "from sklearn.linear_model import LinearRegression\n",
    "\n",
    "features, targets = i_df.iloc[:, :-1], i_df.iloc[:, -1]\n",
    "\n",
    "X_train, X_test, y_train, y_test = \\\n",
    "train_test_split(features, targets, test_size=0.2, random_state=124)\n",
    "\n",
    "l_r = LinearRegression()\n",
    "l_r.fit(X_train, y_train)"
   ]
  },
  {
   "cell_type": "code",
   "execution_count": 99,
   "id": "a3c4f083-3eb1-4173-9c74-0c600a1af5ce",
   "metadata": {},
   "outputs": [
    {
     "name": "stdout",
     "output_type": "stream",
     "text": [
      "MSE: 0.0021, RMSE: 0.0462, MSLE: 0.0002, RMSLE: 0.0139, R2: 0.7566\n"
     ]
    }
   ],
   "source": [
    "prediction = l_r.predict(X_test)\n",
    "get_evaluation(y_test, prediction)"
   ]
  },
  {
   "cell_type": "code",
   "execution_count": 102,
   "id": "d9253329-4c04-42b1-b440-18cd3a791705",
   "metadata": {},
   "outputs": [
    {
     "name": "stdout",
     "output_type": "stream",
     "text": [
      "r2: 0.75096\n"
     ]
    }
   ],
   "source": [
    "import numpy as np\n",
    "from sklearn.linear_model import LinearRegression\n",
    "from sklearn.model_selection import train_test_split, cross_val_score\n",
    "\n",
    "features, targets = i_df.iloc[:, :-1], i_df.iloc[:, -1]\n",
    "\n",
    "X_train, X_test, y_train, y_test = train_test_split(features, targets, test_size=0.2, random_state=124)\n",
    "\n",
    "l_r = LinearRegression()\n",
    "\n",
    "# cross_val_score로 교차검증(cross_val_score이 알아서 데이터를 분리하여서 교차검증을 해준다)\n",
    "score = cross_val_score(l_r, X_train, y_train, cv=5, scoring='r2')\n",
    "print('r2:', np.round(np.mean(score), 5))"
   ]
  },
  {
   "cell_type": "markdown",
   "id": "9091b6f2-9a0e-4cb1-9865-ba51db3788bd",
   "metadata": {},
   "source": [
    "- LinearRegression과 교차검증 후 R2스코어가 거의 비슷하게 0.75가 나왔다"
   ]
  },
  {
   "cell_type": "markdown",
   "id": "0b253854-c180-4dd8-91da-e57d3e839801",
   "metadata": {},
   "source": [
    "#### Pytorch"
   ]
  },
  {
   "cell_type": "code",
   "execution_count": 150,
   "id": "ef2001a7-01f1-442d-a0f9-d9ed3a0fc1eb",
   "metadata": {},
   "outputs": [],
   "source": [
    "from torch.nn import Module, Linear\n",
    "\n",
    "class LinearRegressionModel(Module):\n",
    "    def __init__(self):\n",
    "        super().__init__()\n",
    "        self.linear = Linear(6, 1)\n",
    "\n",
    "    def forward(self, x):\n",
    "        return self.linear(x)"
   ]
  },
  {
   "cell_type": "code",
   "execution_count": 157,
   "id": "01d6273e-9b79-4986-9d39-48069852e377",
   "metadata": {
    "scrolled": true
   },
   "outputs": [
    {
     "name": "stdout",
     "output_type": "stream",
     "text": [
      "torch.Size([1069, 6]) torch.Size([1069, 1])\n",
      "Epoch: 100000/1500000\n",
      "W1: 0.0155, W2: 0.1068, W3: 0.0682, W4: -0.0004, W5: 0.0165, W6: -0.2454, b: -0.144088\n",
      "Loss: 0.2456\n",
      "==========================================================================================\n",
      "Epoch: 200000/1500000\n",
      "W1: 0.0152, W2: 0.1087, W3: 0.0648, W4: 0.0159, W5: 0.0238, W6: -0.189, b: -0.129777\n",
      "Loss: 0.2082\n",
      "==========================================================================================\n",
      "Epoch: 300000/1500000\n",
      "W1: 0.015, W2: 0.1102, W3: 0.062, W4: 0.0275, W5: 0.0308, W6: -0.1444, b: -0.116067\n",
      "Loss: 0.1844\n",
      "==========================================================================================\n",
      "Epoch: 400000/1500000\n",
      "W1: 0.0148, W2: 0.1117, W3: 0.0597, W4: 0.0358, W5: 0.0375, W6: -0.1093, b: -0.102656\n",
      "Loss: 0.169\n",
      "==========================================================================================\n",
      "Epoch: 500000/1500000\n",
      "W1: 0.0146, W2: 0.1124, W3: 0.0579, W4: 0.0416, W5: 0.0438, W6: -0.0816, b: -0.089245\n",
      "Loss: 0.1587\n",
      "==========================================================================================\n",
      "Epoch: 600000/1500000\n",
      "W1: 0.0145, W2: 0.1131, W3: 0.0564, W4: 0.0457, W5: 0.0498, W6: -0.0597, b: -0.075834\n",
      "Loss: 0.1516\n",
      "==========================================================================================\n",
      "Epoch: 700000/1500000\n",
      "W1: 0.0143, W2: 0.1139, W3: 0.0552, W4: 0.0485, W5: 0.0556, W6: -0.0424, b: -0.063045\n",
      "Loss: 0.1465\n",
      "==========================================================================================\n",
      "Epoch: 800000/1500000\n",
      "W1: 0.0142, W2: 0.1146, W3: 0.0541, W4: 0.0504, W5: 0.0612, W6: -0.0288, b: -0.050253\n",
      "Loss: 0.1426\n",
      "==========================================================================================\n",
      "Epoch: 900000/1500000\n",
      "W1: 0.0141, W2: 0.1146, W3: 0.0532, W4: 0.0516, W5: 0.0665, W6: -0.0181, b: -0.037587\n",
      "Loss: 0.1395\n",
      "==========================================================================================\n",
      "Epoch: 1000000/1500000\n",
      "W1: 0.0141, W2: 0.1146, W3: 0.0525, W4: 0.0525, W5: 0.0717, W6: -0.0097, b: -0.025003\n",
      "Loss: 0.137\n",
      "==========================================================================================\n",
      "Epoch: 1100000/1500000\n",
      "W1: 0.014, W2: 0.1146, W3: 0.0518, W4: 0.0529, W5: 0.0768, W6: -0.0031, b: -0.012532\n",
      "Loss: 0.1347\n",
      "==========================================================================================\n",
      "Epoch: 1200000/1500000\n",
      "W1: 0.0139, W2: 0.1146, W3: 0.0512, W4: 0.0532, W5: 0.0813, W6: 0.0021, b: -0.000167\n",
      "Loss: 0.1327\n",
      "==========================================================================================\n",
      "Epoch: 1300000/1500000\n",
      "W1: 0.0138, W2: 0.1146, W3: 0.0507, W4: 0.0532, W5: 0.0858, W6: 0.0062, b: 0.012105\n",
      "Loss: 0.1308\n",
      "==========================================================================================\n",
      "Epoch: 1400000/1500000\n",
      "W1: 0.0138, W2: 0.1146, W3: 0.0502, W4: 0.0532, W5: 0.0902, W6: 0.0094, b: 0.024239\n",
      "Loss: 0.129\n",
      "==========================================================================================\n",
      "Epoch: 1500000/1500000\n",
      "W1: 0.0137, W2: 0.1146, W3: 0.0497, W4: 0.0532, W5: 0.0947, W6: 0.0119, b: 0.036268\n",
      "Loss: 0.1273\n",
      "==========================================================================================\n"
     ]
    }
   ],
   "source": [
    "from sklearn.model_selection import train_test_split\n",
    "import torch\n",
    "from torch.nn.functional import mse_loss\n",
    "from torch.optim import SGD\n",
    "\n",
    "torch.manual_seed(124)\n",
    "\n",
    "features, targets = i_df.iloc[:, :-1], i_df.iloc[:, -1]\n",
    "\n",
    "X_train, X_test, y_train, y_test = \\\n",
    "train_test_split(features, targets, test_size=0.2, random_state=124)\n",
    "\n",
    "X_train = torch.FloatTensor(X_train.values)\n",
    "y_train = torch.FloatTensor(y_train.values).view(-1, 1)\n",
    "\n",
    "X_test = torch.FloatTensor(X_test.values)\n",
    "y_test = torch.FloatTensor(y_test.values).view(-1, 1)\n",
    "\n",
    "print(X_train.shape, y_train.shape)\n",
    "\n",
    "l_r = LinearRegressionModel()\n",
    "# print(l_r)\n",
    "optimizer = SGD(l_r.parameters(), lr=1e-6)\n",
    "\n",
    "epochs = 1500000\n",
    "\n",
    "for epoch in range(1, epochs + 1):\n",
    "    H = l_r(X_train)\n",
    "    loss = mse_loss(H, y_train)\n",
    "\n",
    "    optimizer.zero_grad()\n",
    "    loss.backward()\n",
    "    optimizer.step()\n",
    "\n",
    "    if epoch % 100000 == 0:\n",
    "        print(f'Epoch: {epoch}/{epochs}')\n",
    "        for i, w in enumerate(list(l_r.parameters())[0][0]):\n",
    "            print(f'W{i + 1}: {np.round(w.item(), 4)}', end=', ')\n",
    "        print(f'b: {np.round(list(l_r.parameters())[1].item(), 6)}\\nLoss: {np.round(loss.item(), 4)}')\n",
    "        print('=' * 90)"
   ]
  },
  {
   "cell_type": "code",
   "execution_count": 197,
   "id": "5c84804b-ec7d-4104-b390-0f5e955cabe3",
   "metadata": {},
   "outputs": [
    {
     "name": "stdout",
     "output_type": "stream",
     "text": [
      "-17.22399872279641\n",
      "0.1596173346042633\n",
      "0.39952138191123554\n",
      "========================================\n",
      "예측:  [2.4419] 정답: [2.3745] 오차: -0.0674\n",
      "예측:  [2.1813] 정답: [1.4231] 오차: -0.7582\n",
      "예측:  [2.346] 정답: [2.1002] 오차: -0.2458\n",
      "예측:  [2.0854] 정답: [2.5601] 오차: 0.4747\n",
      "예측:  [2.327] 정답: [2.47] 오차: 0.143\n",
      "예측:  [2.3625] 정답: [2.5205] 오차: 0.158\n",
      "예측:  [2.2598] 정답: [2.2105] 오차: -0.0492\n",
      "예측:  [2.336] 정답: [3.4112] 오차: 1.0752\n",
      "예측:  [2.2715] 정답: [1.9883] 오차: -0.2832\n",
      "예측:  [2.4574] 정답: [2.6675] 오차: 0.2101\n",
      "예측:  [2.1348] 정답: [1.2175] 오차: -0.9173\n",
      "예측:  [2.2628] 정답: [2.1559] 오차: -0.1069\n",
      "예측:  [2.3371] 정답: [2.4355] 오차: 0.0984\n",
      "예측:  [2.322] 정답: [1.8859] 오차: -0.4361\n",
      "예측:  [2.3054] 정답: [2.4953] 오차: 0.1899\n",
      "예측:  [2.3496] 정답: [2.2462] 오차: -0.1034\n",
      "예측:  [2.2292] 정답: [2.6968] 오차: 0.4676\n",
      "예측:  [2.2252] 정답: [1.8602] 오차: -0.3651\n",
      "예측:  [2.4174] 정답: [2.4623] 오차: 0.0449\n",
      "예측:  [2.3333] 정답: [2.1916] 오차: -0.1417\n",
      "예측:  [2.3221] 정답: [2.0972] 오차: -0.2249\n",
      "예측:  [2.2459] 정답: [2.482] 오차: 0.2361\n",
      "예측:  [2.2508] 정답: [2.0402] 오차: -0.2105\n",
      "예측:  [2.3324] 정답: [2.3647] 오차: 0.0323\n",
      "예측:  [2.3557] 정답: [2.5754] 오차: 0.2197\n",
      "예측:  [2.331] 정답: [2.5467] 오차: 0.2157\n",
      "예측:  [2.332] 정답: [2.4022] 오차: 0.0702\n",
      "예측:  [2.2064] 정답: [2.5497] 오차: 0.3433\n",
      "예측:  [2.3221] 정답: [2.326] 오차: 0.0039\n",
      "예측:  [2.3998] 정답: [1.8873] 오차: -0.5125\n",
      "예측:  [2.354] 정답: [1.7352] 오차: -0.6188\n",
      "예측:  [2.3517] 정답: [3.1016] 오차: 0.7499\n",
      "예측:  [2.3728] 정답: [1.6392] 오차: -0.7336\n",
      "예측:  [2.2463] 정답: [3.0322] 오차: 0.7859\n",
      "예측:  [2.3518] 정답: [1.9329] 오차: -0.4189\n",
      "예측:  [2.3175] 정답: [2.3933] 오차: 0.0758\n",
      "예측:  [2.2731] 정답: [2.3135] 오차: 0.0404\n",
      "예측:  [2.3159] 정답: [1.7949] 오차: -0.521\n",
      "예측:  [2.417] 정답: [2.4686] 오차: 0.0516\n",
      "예측:  [2.247] 정답: [1.7218] 오차: -0.5253\n",
      "예측:  [2.1275] 정답: [1.4377] 오차: -0.6898\n",
      "예측:  [2.3042] 정답: [2.1408] 오차: -0.1634\n",
      "예측:  [2.1578] 정답: [1.8014] 오차: -0.3564\n",
      "예측:  [2.3288] 정답: [2.4184] 오차: 0.0896\n",
      "예측:  [2.147] 정답: [2.2859] 오차: 0.1389\n",
      "예측:  [2.3063] 정답: [2.4024] 오차: 0.0961\n",
      "예측:  [2.2329] 정답: [1.773] 오차: -0.4599\n",
      "예측:  [2.1952] 정답: [2.8969] 오차: 0.7017\n",
      "예측:  [2.3383] 정답: [2.2356] 오차: -0.1027\n",
      "예측:  [2.2194] 정답: [1.8301] 오차: -0.3892\n",
      "예측:  [2.142] 정답: [1.7236] 오차: -0.4185\n",
      "예측:  [2.409] 정답: [2.5171] 오차: 0.108\n",
      "예측:  [2.1947] 정답: [1.6024] 오차: -0.5923\n",
      "예측:  [2.3486] 정답: [2.9536] 오차: 0.6049\n",
      "예측:  [2.4569] 정답: [2.6853] 오차: 0.2284\n",
      "예측:  [2.2077] 정답: [2.4686] 오차: 0.2609\n",
      "예측:  [2.1866] 정답: [1.5852] 오차: -0.6014\n",
      "예측:  [2.2475] 정답: [2.1524] 오차: -0.0951\n",
      "예측:  [2.358] 정답: [2.923] 오차: 0.565\n",
      "예측:  [2.4661] 정답: [2.8225] 오차: 0.3564\n",
      "예측:  [2.0845] 정답: [2.2766] 오차: 0.192\n",
      "예측:  [2.2986] 정답: [2.3092] 오차: 0.0106\n",
      "예측:  [2.418] 정답: [2.4175] 오차: -0.0005\n",
      "예측:  [2.1836] 정답: [1.9249] 오차: -0.2587\n",
      "예측:  [2.3899] 정답: [1.5248] 오차: -0.865\n",
      "예측:  [2.2814] 정답: [2.4296] 오차: 0.1482\n",
      "예측:  [2.1593] 정답: [1.9051] 오차: -0.2542\n",
      "예측:  [2.3055] 정답: [2.7938] 오차: 0.4883\n",
      "예측:  [2.3256] 정답: [2.8329] 오차: 0.5073\n",
      "예측:  [2.3432] 정답: [2.7985] 오차: 0.4553\n",
      "예측:  [2.3531] 정답: [2.5186] 오차: 0.1654\n",
      "예측:  [2.4406] 정답: [2.1575] 오차: -0.2831\n",
      "예측:  [2.2829] 정답: [2.19] 오차: -0.0928\n",
      "예측:  [2.4418] 정답: [2.3802] 오차: -0.0616\n",
      "예측:  [2.2287] 정답: [1.9357] 오차: -0.2929\n",
      "예측:  [2.3674] 정답: [2.2897] 오차: -0.0777\n",
      "예측:  [2.4543] 정답: [2.7136] 오차: 0.2593\n",
      "예측:  [2.3046] 정답: [1.8632] 오차: -0.4414\n",
      "예측:  [2.2356] 정답: [1.9878] 오차: -0.2478\n",
      "예측:  [2.1304] 정답: [1.809] 오차: -0.3214\n",
      "예측:  [2.3028] 정답: [2.4634] 오차: 0.1606\n",
      "예측:  [2.3101] 정답: [2.9086] 오차: 0.5985\n",
      "예측:  [2.2706] 정답: [2.092] 오차: -0.1786\n",
      "예측:  [2.4691] 정답: [3.0925] 오차: 0.6234\n",
      "예측:  [2.2437] 정답: [1.8281] 오차: -0.4155\n",
      "예측:  [2.2931] 정답: [2.5851] 오차: 0.292\n",
      "예측:  [2.4328] 정답: [2.0368] 오차: -0.396\n",
      "예측:  [2.4651] 정답: [2.7062] 오차: 0.2411\n",
      "예측:  [2.375] 정답: [1.9082] 오차: -0.4668\n",
      "예측:  [2.4071] 정답: [2.3324] 오차: -0.0747\n",
      "예측:  [2.343] 정답: [2.6579] 오차: 0.3149\n",
      "예측:  [2.3516] 정답: [2.5812] 오차: 0.2296\n",
      "예측:  [2.2827] 정답: [1.904] 오차: -0.3786\n",
      "예측:  [2.4486] 정답: [2.5066] 오차: 0.058\n",
      "예측:  [2.2167] 정답: [1.6595] 오차: -0.5573\n",
      "예측:  [2.1359] 정답: [1.8144] 오차: -0.3215\n",
      "예측:  [2.4363] 정답: [2.0112] 오차: -0.4252\n",
      "예측:  [2.3309] 정답: [2.3335] 오차: 0.0026\n",
      "예측:  [2.3177] 정답: [3.1651] 오차: 0.8474\n",
      "예측:  [2.2694] 정답: [2.7995] 오차: 0.5301\n",
      "예측:  [2.2121] 정답: [2.5902] 오차: 0.3781\n",
      "예측:  [2.2532] 정답: [1.9585] 오차: -0.2947\n",
      "예측:  [2.3766] 정답: [1.8107] 오차: -0.5659\n",
      "예측:  [2.4504] 정답: [2.6746] 오차: 0.2242\n",
      "예측:  [2.3504] 정답: [2.6292] 오차: 0.2788\n",
      "예측:  [2.135] 정답: [1.3568] 오차: -0.7783\n",
      "예측:  [2.3692] 정답: [1.7818] 오차: -0.5874\n",
      "예측:  [2.3587] 정답: [1.6235] 오차: -0.7352\n",
      "예측:  [2.3078] 정답: [1.9425] 오차: -0.3653\n",
      "예측:  [2.1756] 정답: [1.5247] 오차: -0.6509\n",
      "예측:  [2.2211] 정답: [2.1337] 오차: -0.0874\n",
      "예측:  [2.4886] 정답: [2.3977] 오차: -0.0909\n",
      "예측:  [2.3497] 정답: [2.165] 오차: -0.1847\n",
      "예측:  [2.3421] 정답: [2.4032] 오차: 0.061\n",
      "예측:  [2.3238] 정답: [2.4065] 오차: 0.0827\n",
      "예측:  [2.3399] 정답: [2.7991] 오차: 0.4591\n",
      "예측:  [2.2038] 정답: [1.7386] 오차: -0.4651\n",
      "예측:  [2.3658] 정답: [3.2393] 오차: 0.8735\n",
      "예측:  [2.421] 정답: [2.7084] 오차: 0.2874\n",
      "예측:  [2.3767] 정답: [1.8284] 오차: -0.5483\n",
      "예측:  [2.2595] 정답: [1.8993] 오차: -0.3602\n",
      "예측:  [2.163] 정답: [1.6855] 오차: -0.4775\n",
      "예측:  [2.1696] 정답: [1.7979] 오차: -0.3717\n",
      "예측:  [2.2] 정답: [2.0221] 오차: -0.178\n",
      "예측:  [2.3869] 정답: [2.0314] 오차: -0.3555\n",
      "예측:  [2.3291] 정답: [2.5489] 오차: 0.2198\n",
      "예측:  [2.2855] 정답: [2.033] 오차: -0.2525\n",
      "예측:  [2.3082] 정답: [3.0101] 오차: 0.7019\n",
      "예측:  [2.3437] 정답: [2.4154] 오차: 0.0717\n",
      "예측:  [2.468] 정답: [3.1748] 오차: 0.7068\n",
      "예측:  [2.3358] 정답: [2.5101] 오차: 0.1743\n",
      "예측:  [2.2717] 정답: [2.1606] 오차: -0.1111\n",
      "예측:  [2.3567] 정답: [2.2117] 오차: -0.1451\n",
      "예측:  [2.2877] 정답: [2.4235] 오차: 0.1359\n",
      "예측:  [2.3361] 정답: [2.7081] 오차: 0.372\n",
      "예측:  [2.4454] 정답: [2.4083] 오차: -0.0371\n",
      "예측:  [2.2557] 정답: [2.8407] 오차: 0.585\n",
      "예측:  [2.4526] 정답: [2.6281] 오차: 0.1755\n",
      "예측:  [2.3414] 정답: [1.9053] 오차: -0.4361\n",
      "예측:  [2.1731] 정답: [2.1115] 오차: -0.0616\n",
      "예측:  [2.3788] 정답: [2.433] 오차: 0.0542\n",
      "예측:  [2.4028] 정답: [1.8431] 오차: -0.5596\n",
      "예측:  [2.3079] 정답: [2.2191] 오차: -0.0888\n",
      "예측:  [2.3325] 정답: [3.008] 오차: 0.6755\n",
      "예측:  [2.4076] 정답: [2.2773] 오차: -0.1303\n",
      "예측:  [2.2082] 정답: [2.2583] 오차: 0.05\n",
      "예측:  [2.2623] 정답: [1.519] 오차: -0.7432\n",
      "예측:  [2.2979] 정답: [2.4451] 오차: 0.1472\n",
      "예측:  [2.2088] 정답: [1.8298] 오차: -0.3791\n",
      "예측:  [2.3872] 정답: [1.7914] 오차: -0.5958\n",
      "예측:  [2.4511] 정답: [2.6968] 오차: 0.2457\n",
      "예측:  [2.1747] 정답: [3.0499] 오차: 0.8752\n",
      "예측:  [2.2902] 정답: [2.6468] 오차: 0.3567\n",
      "예측:  [2.228] 정답: [1.9827] 오차: -0.2453\n",
      "예측:  [2.248] 정답: [2.639] 오차: 0.391\n",
      "예측:  [2.2003] 정답: [2.0832] 오차: -0.117\n",
      "예측:  [2.3076] 정답: [2.1653] 오차: -0.1422\n",
      "예측:  [2.3968] 정답: [2.0314] 오차: -0.3655\n",
      "예측:  [2.2587] 정답: [2.0333] 오차: -0.2253\n",
      "예측:  [2.4551] 정답: [2.9814] 오차: 0.5262\n",
      "예측:  [2.3469] 정답: [2.8129] 오차: 0.466\n",
      "예측:  [2.3482] 정답: [2.5662] 오차: 0.2179\n",
      "예측:  [2.334] 정답: [2.232] 오차: -0.102\n",
      "예측:  [2.2799] 정답: [2.5322] 오차: 0.2523\n",
      "예측:  [2.4261] 정답: [2.6953] 오차: 0.2691\n",
      "예측:  [2.3461] 정답: [2.6025] 오차: 0.2564\n",
      "예측:  [2.4258] 정답: [2.9507] 오차: 0.5249\n",
      "예측:  [2.4468] 정답: [2.1959] 오차: -0.251\n",
      "예측:  [2.3341] 정답: [2.206] 오차: -0.1282\n",
      "예측:  [2.2051] 정답: [2.4038] 오차: 0.1987\n",
      "예측:  [2.4501] 정답: [2.4892] 오차: 0.0391\n",
      "예측:  [2.4442] 정답: [2.2848] 오차: -0.1593\n",
      "예측:  [2.1923] 정답: [1.8641] 오차: -0.3282\n",
      "예측:  [2.2793] 정답: [3.1539] 오차: 0.8746\n",
      "예측:  [2.2054] 정답: [1.502] 오차: -0.7034\n",
      "예측:  [2.4166] 정답: [2.0106] 오차: -0.4061\n",
      "예측:  [2.3191] 정답: [1.8964] 오차: -0.4227\n",
      "예측:  [2.4382] 정답: [2.1585] 오차: -0.2797\n",
      "예측:  [2.1551] 정답: [2.0608] 오차: -0.0943\n",
      "예측:  [2.3585] 정답: [2.3404] 오차: -0.0181\n",
      "예측:  [2.1376] 정답: [1.914] 오차: -0.2236\n",
      "예측:  [2.12] 정답: [2.0211] 오차: -0.0989\n",
      "예측:  [2.163] 정답: [1.5585] 오차: -0.6045\n",
      "예측:  [2.3373] 정답: [3.2406] 오차: 0.9033\n",
      "예측:  [2.1591] 정답: [1.8255] 오차: -0.3337\n",
      "예측:  [2.2434] 정답: [2.0574] 오차: -0.186\n",
      "예측:  [2.3521] 정답: [2.5722] 오차: 0.2201\n",
      "예측:  [2.1316] 정답: [2.4526] 오차: 0.321\n",
      "예측:  [2.3358] 정답: [2.7645] 오차: 0.4287\n",
      "예측:  [2.2144] 정답: [2.0691] 오차: -0.1453\n",
      "예측:  [2.294] 정답: [2.5033] 오차: 0.2092\n",
      "예측:  [2.4593] 정답: [2.9542] 오차: 0.495\n",
      "예측:  [2.3255] 정답: [2.4269] 오차: 0.1014\n",
      "예측:  [2.2907] 정답: [2.6497] 오차: 0.359\n",
      "예측:  [2.2941] 정답: [2.5322] 오차: 0.2381\n",
      "예측:  [2.4395] 정답: [1.9919] 오차: -0.4476\n",
      "예측:  [2.2508] 정답: [2.5137] 오차: 0.2629\n",
      "예측:  [2.1805] 정답: [2.1019] 오차: -0.0786\n",
      "예측:  [2.3271] 정답: [2.711] 오차: 0.384\n",
      "예측:  [2.287] 정답: [2.0993] 오차: -0.1877\n",
      "예측:  [2.4651] 정답: [2.7372] 오차: 0.2722\n",
      "예측:  [2.2179] 정답: [2.5065] 오차: 0.2885\n",
      "예측:  [2.2226] 정답: [1.7629] 오차: -0.4598\n",
      "예측:  [2.2607] 정답: [2.2459] 오차: -0.0147\n",
      "예측:  [2.3402] 정답: [1.6119] 오차: -0.7283\n",
      "예측:  [2.308] 정답: [2.3604] 오차: 0.0524\n",
      "예측:  [2.3392] 정답: [2.5676] 오차: 0.2284\n",
      "예측:  [2.3078] 정답: [1.8885] 오차: -0.4193\n",
      "예측:  [2.1463] 정답: [1.8929] 오차: -0.2535\n",
      "예측:  [2.3048] 정답: [2.2642] 오차: -0.0405\n",
      "예측:  [2.4662] 정답: [2.7773] 오차: 0.3112\n",
      "예측:  [2.4673] 정답: [3.1641] 오차: 0.6968\n",
      "예측:  [2.2692] 정답: [2.4314] 오차: 0.1621\n",
      "예측:  [2.4352] 정답: [2.0466] 오차: -0.3887\n",
      "예측:  [2.3805] 정답: [2.0572] 오차: -0.3233\n",
      "예측:  [2.2131] 정답: [2.3784] 오차: 0.1652\n",
      "예측:  [2.3904] 정답: [1.9642] 오차: -0.4263\n",
      "예측:  [2.4193] 정답: [2.977] 오차: 0.5577\n",
      "예측:  [2.394] 정답: [2.1191] 오차: -0.2749\n",
      "예측:  [2.2041] 정답: [2.1167] 오차: -0.0874\n",
      "예측:  [2.3398] 정답: [1.9883] 오차: -0.3515\n",
      "예측:  [2.3011] 정답: [1.8639] 오차: -0.4372\n",
      "예측:  [2.3351] 정답: [1.8583] 오차: -0.4768\n",
      "예측:  [2.4302] 정답: [2.7738] 오차: 0.3436\n",
      "예측:  [2.1362] 정답: [1.9686] 오차: -0.1676\n",
      "예측:  [2.3898] 정답: [2.0928] 오차: -0.297\n",
      "예측:  [2.1332] 정답: [1.5415] 오차: -0.5917\n",
      "예측:  [2.2161] 정답: [2.0154] 오차: -0.2007\n",
      "예측:  [2.1595] 정답: [2.0593] 오차: -0.1002\n",
      "예측:  [2.3325] 정답: [2.9647] 오차: 0.6322\n",
      "예측:  [2.4675] 정답: [3.1972] 오차: 0.7297\n",
      "예측:  [2.2274] 정답: [2.165] 오차: -0.0624\n",
      "예측:  [2.4374] 정답: [2.1991] 오차: -0.2383\n",
      "예측:  [2.3275] 정답: [2.0841] 오차: -0.2434\n",
      "예측:  [2.1413] 정답: [2.2126] 오차: 0.0713\n",
      "예측:  [2.4513] 정답: [2.6647] 오차: 0.2134\n",
      "예측:  [2.2846] 정답: [2.2882] 오차: 0.0036\n",
      "예측:  [2.2521] 정답: [2.4114] 오차: 0.1594\n",
      "예측:  [2.3484] 정답: [2.9081] 오차: 0.5597\n",
      "예측:  [2.1524] 정답: [1.6428] 오차: -0.5096\n",
      "예측:  [2.3005] 정답: [2.5576] 오차: 0.2571\n",
      "예측:  [2.1503] 정답: [1.7985] 오차: -0.3518\n",
      "예측:  [2.2562] 정답: [2.0945] 오차: -0.1617\n",
      "예측:  [2.339] 정답: [2.1015] 오차: -0.2375\n",
      "예측:  [2.2856] 정답: [2.3257] 오차: 0.0401\n",
      "예측:  [2.2708] 정답: [2.2629] 오차: -0.008\n",
      "예측:  [2.2219] 정답: [1.2802] 오차: -0.9417\n",
      "예측:  [2.4364] 정답: [1.9563] 오차: -0.4801\n",
      "예측:  [2.3473] 정답: [2.4543] 오차: 0.1071\n",
      "예측:  [2.197] 정답: [1.6404] 오차: -0.5566\n",
      "예측:  [2.403] 정답: [2.3319] 오차: -0.0711\n",
      "예측:  [2.3213] 정답: [2.2654] 오차: -0.0559\n",
      "예측:  [2.3161] 정답: [2.4545] 오차: 0.1384\n",
      "예측:  [2.4621] 정답: [3.0406] 오차: 0.5785\n",
      "예측:  [2.4173] 정답: [2.5457] 오차: 0.1284\n",
      "예측:  [2.2494] 정답: [1.6203] 오차: -0.6292\n",
      "예측:  [2.3919] 정답: [2.795] 오차: 0.4031\n",
      "예측:  [2.3123] 정답: [2.2122] 오차: -0.1\n",
      "예측:  [2.298] 정답: [2.1808] 오차: -0.1172\n",
      "예측:  [2.2074] 정답: [2.2952] 오차: 0.0878\n",
      "예측:  [2.2716] 정답: [2.0997] 오차: -0.1719\n",
      "예측:  [2.3842] 정답: [1.7734] 오차: -0.6107\n",
      "예측:  [2.3745] 정답: [1.8345] 오차: -0.54\n",
      "예측:  [2.247] 정답: [1.5896] 오차: -0.6574\n",
      "예측:  [2.3624] 정답: [1.5024] 오차: -0.86\n",
      "예측:  [2.1656] 정답: [1.8897] 오차: -0.2758\n",
      "예측:  [2.215] 정답: [2.4362] 오차: 0.2213\n"
     ]
    }
   ],
   "source": [
    "import numpy as np\n",
    "from sklearn.metrics import r2_score\n",
    "\n",
    "H = l_r(X_test)\n",
    "loss = mse_loss(y_test, H)\n",
    "r2 = r2_score(y_test.detach(), H.detach())\n",
    "\n",
    "print(r2)\n",
    "# loss값\n",
    "print(loss.item())\n",
    "# loss값에 제곱근\n",
    "print(np.sqrt(loss.item()))\n",
    "\n",
    "print(\"=\"*40)\n",
    "for i in range(1, len(list(y_test))):\n",
    "    print('예측: ', np.round(y_test.detach().tolist()[i], 4), '정답:', np.round(H.tolist()[i], 4), \\\n",
    "          '오차:', np.round((H.tolist()[i][0] - y_test.detach().tolist()[i][0]), 4))"
   ]
  },
  {
   "cell_type": "code",
   "execution_count": null,
   "id": "4ecae90f-7caa-42a1-bcdb-0cfcf5b99b02",
   "metadata": {},
   "outputs": [],
   "source": []
  },
  {
   "cell_type": "code",
   "execution_count": null,
   "id": "2e1882ba-5411-4e22-9939-ea40cd26f4ac",
   "metadata": {},
   "outputs": [],
   "source": []
  },
  {
   "cell_type": "code",
   "execution_count": null,
   "id": "1fa4640c-33c3-4dae-ac85-0c86305e86b6",
   "metadata": {},
   "outputs": [],
   "source": []
  },
  {
   "cell_type": "code",
   "execution_count": null,
   "id": "a8a68f1d-0782-4dde-af67-ee456175d7ab",
   "metadata": {},
   "outputs": [],
   "source": []
  },
  {
   "cell_type": "code",
   "execution_count": null,
   "id": "23ba3a8f-1ec1-4823-a7b3-458645066145",
   "metadata": {},
   "outputs": [],
   "source": []
  },
  {
   "cell_type": "code",
   "execution_count": null,
   "id": "644d8e5b-d576-47d8-827f-fdc885b5f699",
   "metadata": {},
   "outputs": [],
   "source": []
  },
  {
   "cell_type": "code",
   "execution_count": null,
   "id": "349748df-28d6-48b5-aaba-7711942b1aa4",
   "metadata": {},
   "outputs": [],
   "source": []
  },
  {
   "cell_type": "code",
   "execution_count": null,
   "id": "6100c84f-fba7-4562-b340-20f1e08ada11",
   "metadata": {},
   "outputs": [],
   "source": []
  },
  {
   "cell_type": "code",
   "execution_count": null,
   "id": "e646a6a1-7db1-4fed-9fc1-0af7189c0fca",
   "metadata": {},
   "outputs": [],
   "source": []
  },
  {
   "cell_type": "code",
   "execution_count": null,
   "id": "4cfceb92-b3bc-45e3-b314-bd0a93d6ca85",
   "metadata": {},
   "outputs": [],
   "source": []
  },
  {
   "cell_type": "code",
   "execution_count": null,
   "id": "929675f6-aa4a-496d-a527-8fdaed362169",
   "metadata": {},
   "outputs": [],
   "source": []
  },
  {
   "cell_type": "code",
   "execution_count": null,
   "id": "8e688d8b-cd0e-4d10-954a-7a1dda7f05ef",
   "metadata": {},
   "outputs": [],
   "source": []
  },
  {
   "cell_type": "code",
   "execution_count": null,
   "id": "398813c3-1121-4bea-a280-8b3dfe699e19",
   "metadata": {},
   "outputs": [],
   "source": []
  },
  {
   "cell_type": "code",
   "execution_count": null,
   "id": "f0ab12eb-c4ec-4116-9469-39ef7864dac1",
   "metadata": {},
   "outputs": [],
   "source": []
  },
  {
   "cell_type": "code",
   "execution_count": null,
   "id": "92622157-650b-45cf-b41b-d8a806c3854c",
   "metadata": {},
   "outputs": [],
   "source": []
  },
  {
   "cell_type": "code",
   "execution_count": null,
   "id": "b0cd0789-3622-4eea-b70e-341c1aea6d5a",
   "metadata": {},
   "outputs": [],
   "source": []
  },
  {
   "cell_type": "code",
   "execution_count": null,
   "id": "b74b18b9-2c7d-450c-a044-0cae134938f0",
   "metadata": {},
   "outputs": [],
   "source": []
  },
  {
   "cell_type": "code",
   "execution_count": null,
   "id": "7875d737-cb35-4fcb-bc85-80a51ae84d86",
   "metadata": {},
   "outputs": [],
   "source": []
  }
 ],
 "metadata": {
  "kernelspec": {
   "display_name": "Python 3 (ipykernel)",
   "language": "python",
   "name": "python3"
  },
  "language_info": {
   "codemirror_mode": {
    "name": "ipython",
    "version": 3
   },
   "file_extension": ".py",
   "mimetype": "text/x-python",
   "name": "python",
   "nbconvert_exporter": "python",
   "pygments_lexer": "ipython3",
   "version": "3.11.8"
  }
 },
 "nbformat": 4,
 "nbformat_minor": 5
}
