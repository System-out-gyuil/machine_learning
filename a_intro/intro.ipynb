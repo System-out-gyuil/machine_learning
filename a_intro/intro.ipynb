{
 "cells": [
  {
   "cell_type": "markdown",
   "id": "92a8f538-94f9-4ffe-aa03-100a4d1ed0d0",
   "metadata": {},
   "source": [
    "### AI (Artificial Intelligence)\n",
    "<img src='./images/intro.png' width='800px'>\n",
    "\n",
    "#### Rule-base AI\n",
    "- 특정 상황을 이해하는 전문가가 직접 입력값(문제)과 특징을 전달(규칙)하여 출력값(정답)을 내보내는 알고리즘이다.\n",
    "- 광범위한 데이터 수집, 정리 또는 교육이 필요하지 않으므로 전문가의 기존 지식을 기반으로 비지니스 규칙을 정의 하여 구현 복잡성을 줄일 수 있다.\n",
    "- 의사 결정 프로세스가 명시적인 \"if-then\" 사전 정의 규칙에 의존하므로 높은 투명성을 제공한다.\n",
    "- 본질적으로 정적이며 유연성이 없기 때문에, 사전 정의된 규칙을 수동으로 조정하여 변화나 진화하는 조건에만 적응할 수 있다.\n",
    "- 사전 정의된 규칙이 명확한 지침을 제공하지 않는 모호하거나 불확실한 상황에 직면할 때 어려움을 겪을 수 있다.\n",
    "- 미리 정의된 기준에 의존하면, 전문가 개인의 편견이 들어갈 수 밖에 없고,  \n",
    "이로 인해 미묘한 행동을 설명하지 못할 수 있으며 잠재적으로 불공평하거나 부정확한 평가로 이어질 수 있다.\n",
    "\n",
    "#### Machine Learning AI\n",
    "- 데이터를 기반으로 규칙성(패턴)을 학습하여 결과를 추론하는 알고리즘이다.\n",
    "- 현실 세계의 패턴을 분석하여 개발자가 직접 코드를 작성하는 것이 어려웠으나 머신러닝을 이용해서 해결할 수 있다.\n",
    "- ※ 데이터 마이닝, 음성 인식(언어 구분), 영상 인식(이미지 판별), 자연어 처리(번역, 문맥찾기)에서 머신러닝이 적용된다.  \n",
    "<sub>※ 데이터 마이닝이란, 대규모 데이터 안에서 체계적이고 자동적으로 통계적 규칙이나 짜임을 분석하여 가치있는 정보를 빼내는 과정이다.</sub>\n",
    "- 데이터의 패턴을 학습하여 이를 통해 예측 등을 수행할 수 있다.\n",
    "\n",
    "1. 지도 학습 (Supervised Learning)\n",
    " \n",
    "> 입력값(문제)과 출력값(정답)을 전달하면, 알아서 특징을 직접 추출하는 방식이다.  \n",
    "> 다른 입력값(문제)과 동일한 출력값(정답)을 전달하면 새로운 특징을 알아서 추출한다.  \n",
    "\n",
    "> 문제(Feature)와 답(Target, Label)을 주는 것이다.\n",
    "> - 분류 (코로나 양성/음성, 사기 번호/일반 번호, 등 단일 값 예측)\n",
    "> - 회귀 (1년 뒤의 매출액, 내일 주식 가격 등 연속 값 예측)\n",
    "\n",
    "2. 비지도 학습 (Unsupervised Learning)\n",
    "\n",
    "> 입력값(문제)만 전달하고 정답 없이 특징만 추출하는 학습이다.  \n",
    "> 추출한 특징에 대해 AI가 출력값(정답)을 부여하여 입력값(문제)은 출력값(정답)이라는 것을 알아낸다.\n",
    "\n",
    "> 문제(Feature)를 주고 답은 주지 않는 것이다.\n",
    "> - 군집화 (클러스터링, 비슷한 문제를 분석하여 편을 나누어 각 편으로 모으는 것)\n",
    "> - 차원 축소 (문제의 개수를 압축(축소)하여 함축된 의미를 찾아내는 것)\n",
    "\n",
    "3. 강화 학습 (Reinforcement Learning)"
   ]
  },
  {
   "cell_type": "markdown",
   "id": "1da29ab3-1327-40e0-a446-98ad0d4ba811",
   "metadata": {},
   "source": [
    "#### Machine Learning의 단점\n",
    "- 데이터에 의존적이다 (Garbage In, Garbage Out), 데이터가 안좋으면 결과도 안좋을 수 밖에 없다.\n",
    "- 학습 데이터로 잘 만들어진 로직을 가진 모델일지라도 실제 데이터 적용 시 정확한 결과가 나오지 않을 수 있다.\n",
    "- 머신러닝 학습을 통해 로직이 생기면, 나온 결과가 어떻게 이렇게 나왔는 지에 대한 분석이 쉽지 않다(블랙박스).\n",
    "- 데이터를 넣으면 원하는 것처럼 좋은 결과를 얻기랑 쉽지 않다."
   ]
  },
  {
   "cell_type": "markdown",
   "id": "d90b3da2-2b9d-4b5b-98a2-d5e12166b15d",
   "metadata": {},
   "source": [
    "#### R vs Python\n",
    "\n",
    "- R\n",
    "> 개발 언어에 익숙하지 않지만 통계 분석에 능한 현업 사용자일 경우\n",
    "> 오랜 기간동안 쌓인 다양하고 많은 통계 패키지\n",
    "\n",
    "- Python\n",
    "> 직관적인 문법, 객체지향 함수형 프로그래밍 언어, 다양한 라이브러리\n",
    "> 다양한 영역 (운영체제, 서버, 네트워크 등)으로 연계 및 상용화 하기 좋음\n",
    "\n",
    "### 머신러닝과 딥러닝은 R보다는 \"파이썬\"을 사용하자!"
   ]
  },
  {
   "cell_type": "code",
   "execution_count": null,
   "id": "21c2d3b7-c2fa-4b7d-a4a3-506021eca45f",
   "metadata": {},
   "outputs": [],
   "source": []
  },
  {
   "cell_type": "code",
   "execution_count": null,
   "id": "c5fcc1d0-9750-4877-8620-61d9229bff05",
   "metadata": {},
   "outputs": [],
   "source": []
  },
  {
   "cell_type": "code",
   "execution_count": null,
   "id": "4eb081fa-9cff-4238-9480-585928c2c430",
   "metadata": {},
   "outputs": [],
   "source": []
  },
  {
   "cell_type": "code",
   "execution_count": null,
   "id": "382a914a-33e5-40ac-a448-9a7cea1a3a5b",
   "metadata": {},
   "outputs": [],
   "source": []
  },
  {
   "cell_type": "code",
   "execution_count": null,
   "id": "f816d69a-a373-434a-ab23-4e6866a24f6f",
   "metadata": {},
   "outputs": [],
   "source": []
  },
  {
   "cell_type": "code",
   "execution_count": null,
   "id": "bf56c3fc-2da5-4a4a-ae24-4ca9be0c17d0",
   "metadata": {},
   "outputs": [],
   "source": []
  },
  {
   "cell_type": "code",
   "execution_count": null,
   "id": "505a9c88-6dca-4071-b5d8-7c45ac4f855c",
   "metadata": {},
   "outputs": [],
   "source": []
  },
  {
   "cell_type": "code",
   "execution_count": null,
   "id": "18b4e562-8612-4df4-9704-b2c8a413d5ff",
   "metadata": {},
   "outputs": [],
   "source": []
  },
  {
   "cell_type": "code",
   "execution_count": null,
   "id": "572a6719-a9c7-41af-9a1f-579a05093861",
   "metadata": {},
   "outputs": [],
   "source": []
  },
  {
   "cell_type": "code",
   "execution_count": null,
   "id": "f19ecdd9-cb75-4760-9dc8-1af1d5a9221f",
   "metadata": {},
   "outputs": [],
   "source": []
  },
  {
   "cell_type": "code",
   "execution_count": null,
   "id": "871353a2-4a66-48c9-b9cf-71f7cfecefcf",
   "metadata": {},
   "outputs": [],
   "source": []
  },
  {
   "cell_type": "code",
   "execution_count": null,
   "id": "8fa8229a-aa82-415c-9121-5b1752e51623",
   "metadata": {},
   "outputs": [],
   "source": []
  },
  {
   "cell_type": "code",
   "execution_count": null,
   "id": "20544dfc-628f-4a55-8147-d6a418482d09",
   "metadata": {},
   "outputs": [],
   "source": []
  },
  {
   "cell_type": "code",
   "execution_count": null,
   "id": "8db1d839-9c52-45b8-b6c0-a2e1c21269cd",
   "metadata": {},
   "outputs": [],
   "source": []
  }
 ],
 "metadata": {
  "kernelspec": {
   "display_name": "Python 3 (ipykernel)",
   "language": "python",
   "name": "python3"
  },
  "language_info": {
   "codemirror_mode": {
    "name": "ipython",
    "version": 3
   },
   "file_extension": ".py",
   "mimetype": "text/x-python",
   "name": "python",
   "nbconvert_exporter": "python",
   "pygments_lexer": "ipython3",
   "version": "3.11.8"
  }
 },
 "nbformat": 4,
 "nbformat_minor": 5
}
